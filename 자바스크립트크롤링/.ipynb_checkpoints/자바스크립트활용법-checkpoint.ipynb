{
 "cells": [
  {
   "cell_type": "markdown",
   "id": "c0e81d1e-2aee-4cbe-af6b-7a5da2e45975",
   "metadata": {},
   "source": [
    "### 스크립트 태그 내부에 JSON 포함"
   ]
  },
  {
   "cell_type": "code",
   "execution_count": 9,
   "id": "a77a3836-78f4-4f16-a6fb-d38028431c5e",
   "metadata": {},
   "outputs": [],
   "source": [
    "# 방법 1 html 전체에서 찾기\n",
    "import requests\n",
    "import re, json\n",
    "from bs4 import BeautifulSoup"
   ]
  },
  {
   "cell_type": "code",
   "execution_count": 3,
   "id": "e6dfbd90-5ffa-4d2f-a860-59a397f8df1f",
   "metadata": {},
   "outputs": [
    {
     "data": {
      "text/plain": [
       "<Response [200]>"
      ]
     },
     "execution_count": 3,
     "metadata": {},
     "output_type": "execute_result"
    }
   ],
   "source": [
    "res = requests.get(\"http://127.0.0.1:3000/c:/Users/xogur/workspace/crawling_hard/JS%ED%81%AC%EB%A1%A4%EB%A7%81_%EC%98%88%EC%A0%9C/json_in_script.html\")\n",
    "res"
   ]
  },
  {
   "cell_type": "code",
   "execution_count": 5,
   "id": "9351bafb-0fef-4d36-b00f-cde89387e7e0",
   "metadata": {},
   "outputs": [],
   "source": [
    "# productData 라는 변수가 정의된 부분 찾기\n",
    "pattern = r'var\\s+productData\\s*=\\s*(\\{.*?\\});'\n",
    "match = re.search(pattern, res.text, re.DOTALL)"
   ]
  },
  {
   "cell_type": "code",
   "execution_count": 8,
   "id": "7dac35b9-f098-4b6f-9dec-91e604939575",
   "metadata": {},
   "outputs": [
    {
     "name": "stdout",
     "output_type": "stream",
     "text": [
      "{'items': [{'id': 101, 'name': 'Laptop', 'price': 1000}, {'id': 102, 'name': 'Smartphone', 'price': 400}, {'id': 103, 'name': 'Tablet', 'price': 200}], 'itemCnt': 3, 'category': 12}\n"
     ]
    }
   ],
   "source": [
    "if match:\n",
    "    json_text = match.group(1)\n",
    "    product_data = json.loads(json_text)\n",
    "    print(product_data)\n",
    "else:\n",
    "    print(\"Json을 찾을 수 없습니다.\")"
   ]
  },
  {
   "cell_type": "code",
   "execution_count": 11,
   "id": "19531835-6f11-461c-b433-6de9b8bf5c07",
   "metadata": {},
   "outputs": [
    {
     "name": "stdout",
     "output_type": "stream",
     "text": [
      "{'items': [{'id': 101, 'name': 'Laptop', 'price': 1000}, {'id': 102, 'name': 'Smartphone', 'price': 400}, {'id': 103, 'name': 'Tablet', 'price': 200}], 'itemCnt': 3, 'category': 12}\n"
     ]
    }
   ],
   "source": [
    "# 방법 2 script 태그 먼저 찾기\n",
    "res = requests.get(\"http://127.0.0.1:3000/c:/Users/xogur/workspace/crawling_hard/JS%ED%81%AC%EB%A1%A4%EB%A7%81_%EC%98%88%EC%A0%9C/json_in_script.html\")\n",
    "html = res.text\n",
    "\n",
    "soup = BeautifulSoup(html, 'html.parser')\n",
    "# 스크립트 태그 찾기\n",
    "script_tag = soup.select_one(\"#product_data\")\n",
    "\n",
    "if script_tag:\n",
    "    pattern = r'var\\s+productData\\s*=\\s*(\\{.*?\\});'\n",
    "    match = re.search(pattern, script_tag.text, re.DOTALL)\n",
    "    if match:\n",
    "        json_text = match.group(1)\n",
    "        product_data = json.loads(json_text)\n",
    "        print(product_data)\n",
    "    else:\n",
    "        print(\"Json을 찾을 수 없습니다.\")"
   ]
  },
  {
   "cell_type": "markdown",
   "id": "33506227-a214-4ea7-91e4-cc82f0820975",
   "metadata": {},
   "source": [
    "### 내부 js 파일에 json 포함"
   ]
  },
  {
   "cell_type": "code",
   "execution_count": 12,
   "id": "38128ac2-37ae-49a2-8a29-473b8c6ffea0",
   "metadata": {},
   "outputs": [
    {
     "name": "stdout",
     "output_type": "stream",
     "text": [
      "const productData = {\n",
      "    \"items\": [\n",
      "        { \"id\": 101, \"name\": \"Laptop\", \"price\": 1000 },\n",
      "        { \"id\": 102, \"name\": \"Smartphone\", \"price\": 400 },\n",
      "        { \"id\": 103, \"name\": \"Tablet\", \"price\": 200 }\n",
      "    ],\n",
      "    \"itemCnt\": 3,\n",
      "    \"category\": 12\n",
      "};\n",
      "\n",
      "var productList = document.getElementById(\"product_list\"); // ul 요소 가져오기\n",
      "\n",
      "// productData 객체의 items 배열 순회\n",
      "productData.items.forEach(function (item) {\n",
      "    var li = document.createElement(\"li\"); // li 생성\n",
      "    li.textContent = \"제품명: \" + item.name + \", 가격: \" + item.price + \"원\"; // 텍스트 설정\n",
      "    productList.appendChild(li); // ul에 li 추가\n",
      "});\n"
     ]
    }
   ],
   "source": [
    "import requests\n",
    "import re, json\n",
    "from bs4 import BeautifulSoup\n",
    "\n",
    "#자바스크립트 파일 요청\n",
    "res = requests.get(\"http://127.0.0.1:3000/static/js/productData.js\")\n",
    "js_code = res.text\n",
    "print(js_code)"
   ]
  },
  {
   "cell_type": "code",
   "execution_count": 13,
   "id": "b4e2abe5-14c6-4557-aca1-9209dbf08159",
   "metadata": {},
   "outputs": [],
   "source": [
    "#정규표현식\n",
    "pattern = r'const\\sproductData\\s\\=\\s(\\{.+\\};)'\n",
    "match = re.search(pattern, js_code, re.DOTALL)\n",
    "json_text = match.group(1)"
   ]
  },
  {
   "cell_type": "code",
   "execution_count": 21,
   "id": "12ea0831-e6cb-42b3-9557-6f7749828cd9",
   "metadata": {},
   "outputs": [
    {
     "data": {
      "text/plain": [
       "'{    \"items\": [        { \"id\": 101, \"name\": \"Laptop\", \"price\": 1000 },        { \"id\": 102, \"name\": \"Smartphone\", \"price\": 400 },        { \"id\": 103, \"name\": \"Tablet\", \"price\": 200 }    ],    \"itemCnt\": 3,    \"category\": 12}'"
      ]
     },
     "execution_count": 21,
     "metadata": {},
     "output_type": "execute_result"
    }
   ],
   "source": [
    "json_text.replace(\"\\r\",'').replace('\\n','').replace(';','')"
   ]
  },
  {
   "cell_type": "code",
   "execution_count": 23,
   "id": "6a62275b-cf03-4269-9dbd-05cd41a41ef4",
   "metadata": {},
   "outputs": [
    {
     "name": "stdout",
     "output_type": "stream",
     "text": [
      "{'items': [{'id': 101, 'name': 'Laptop', 'price': 1000}, {'id': 102, 'name': 'Smartphone', 'price': 400}, {'id': 103, 'name': 'Tablet', 'price': 200}], 'itemCnt': 3, 'category': 12}\n"
     ]
    }
   ],
   "source": [
    "product_data = json.loads(json_text.replace(\"\\r\",'').replace('\\n','').replace(';',''))\n",
    "print(product_data)"
   ]
  },
  {
   "cell_type": "markdown",
   "id": "fe30b911-0728-42df-b133-01a45efc4ab8",
   "metadata": {},
   "source": [
    "### html태그 속성에 json 이 포함"
   ]
  },
  {
   "cell_type": "code",
   "execution_count": 24,
   "id": "db22b2e6-9d51-4bb2-88dd-5c6032f6fcca",
   "metadata": {},
   "outputs": [],
   "source": [
    "import requests\n",
    "import re, json\n",
    "from bs4 import BeautifulSoup"
   ]
  },
  {
   "cell_type": "code",
   "execution_count": 26,
   "id": "3fa3cc26-4170-49ad-8951-79eefd2856f4",
   "metadata": {},
   "outputs": [
    {
     "name": "stdout",
     "output_type": "stream",
     "text": [
      "{\n",
      "    \"store\": {\n",
      "      \"name\": \"파리바게뜨 강남역점\",\n",
      "      \"location\": \"Seoul\",\n",
      "      \"openHour\": \"07:30\",\n",
      "      \"closeHour\" : \"22:00\"\n",
      "    }\n",
      "  }\n"
     ]
    }
   ],
   "source": [
    "res = requests.get('http://127.0.0.1:3000/json_in_htmlTag.html')\n",
    "html = res.text\n",
    "soup = BeautifulSoup(html, 'html.parser')\n",
    "\n",
    "# div 태그 추출\n",
    "div_tag = soup.select_one('#embeddedJson')\n",
    "\n",
    "#data-info 값 추출\n",
    "json_text = div_tag.attrs['data-info']\n",
    "print(json_text)"
   ]
  },
  {
   "cell_type": "code",
   "execution_count": 27,
   "id": "bc913806-d95c-407c-a526-56c040f9dbdb",
   "metadata": {},
   "outputs": [
    {
     "name": "stdout",
     "output_type": "stream",
     "text": [
      "{'store': {'name': '파리바게뜨 강남역점', 'location': 'Seoul', 'openHour': '07:30', 'closeHour': '22:00'}}\n"
     ]
    }
   ],
   "source": [
    "store_info = json.loads(json_text)\n",
    "print(store_info)"
   ]
  },
  {
   "cell_type": "code",
   "execution_count": null,
   "id": "e64ba97b-0008-4221-b439-b04ce5efa8ec",
   "metadata": {},
   "outputs": [],
   "source": []
  }
 ],
 "metadata": {
  "kernelspec": {
   "display_name": "crawling",
   "language": "python",
   "name": "crawling"
  },
  "language_info": {
   "codemirror_mode": {
    "name": "ipython",
    "version": 3
   },
   "file_extension": ".py",
   "mimetype": "text/x-python",
   "name": "python",
   "nbconvert_exporter": "python",
   "pygments_lexer": "ipython3",
   "version": "3.12.9"
  }
 },
 "nbformat": 4,
 "nbformat_minor": 5
}
