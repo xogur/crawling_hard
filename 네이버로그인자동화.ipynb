{
 "cells": [
  {
   "cell_type": "code",
   "execution_count": 51,
   "id": "7af65e04-8047-48aa-852a-a66b78d1993f",
   "metadata": {},
   "outputs": [],
   "source": [
    "from selenium import webdriver\n",
    "from selenium.webdriver.common.keys import Keys\n",
    "from selenium.webdriver.common.by import By\n",
    "import time\n",
    "import pyperclip"
   ]
  },
  {
   "cell_type": "code",
   "execution_count": 61,
   "id": "935e96f0-f873-44b7-a961-ae385ea6bf76",
   "metadata": {},
   "outputs": [],
   "source": [
    "user_id = \"snsk656\"\n",
    "user_pw = \"snsk741852963\""
   ]
  },
  {
   "cell_type": "code",
   "execution_count": 71,
   "id": "447d8f75-a11f-4eef-917e-a032b4994aa0",
   "metadata": {},
   "outputs": [],
   "source": [
    "driver = webdriver.Chrome()\n",
    "driver.get(\"https://nid.naver.com/nidlogin.login?mode=form&url=https://www.naver.com/\")"
   ]
  },
  {
   "cell_type": "code",
   "execution_count": 65,
   "id": "46df21f4-4a5a-495a-a361-702e3c859d88",
   "metadata": {},
   "outputs": [],
   "source": [
    "id = driver.find_element(By.CSS_SELECTOR, \"#id\")\n",
    "pyperclip.copy(user_id)\n",
    "id.send_keys(Keys.CONTROL, 'v')\n",
    "time.sleep(2)"
   ]
  },
  {
   "cell_type": "code",
   "execution_count": 79,
   "id": "432eef56-9b2d-4c9c-8a83-ea60fb79618f",
   "metadata": {},
   "outputs": [],
   "source": [
    "id = driver.find_element(By.CSS_SELECTOR, \"#id\")\n",
    "pyperclip.copy(user_id)\n",
    "id.send_keys(Keys.CONTROL, 'v')\n",
    "time.sleep(2)\n",
    "\n",
    "pw = driver.find_element(By.CSS_SELECTOR, \"#pw\")\n",
    "pyperclip.copy(user_pw)\n",
    "pw.send_keys(Keys.CONTROL, 'v')\n",
    "time.sleep(2)\n",
    "\n",
    "driver.find_element(By.CSS_SELECTOR, \"#log\\.login\\.text\").click()"
   ]
  },
  {
   "cell_type": "code",
   "execution_count": 69,
   "id": "6ece22ce-9f8f-48e5-b8e4-97fa68afaa64",
   "metadata": {},
   "outputs": [],
   "source": [
    "driver.find_element(By.CSS_SELECTOR, \"#log\\.login\\.text\").click()"
   ]
  },
  {
   "cell_type": "code",
   "execution_count": 19,
   "id": "5fdc6222-b094-4906-9957-306cf4babf9c",
   "metadata": {},
   "outputs": [
    {
     "name": "stdout",
     "output_type": "stream",
     "text": [
      "Requirement already satisfied: pyperclip in c:\\users\\xogur\\anaconda3\\envs\\crawling_class\\lib\\site-packages (1.9.0)\n"
     ]
    }
   ],
   "source": [
    "!pip install pyperclip"
   ]
  },
  {
   "cell_type": "code",
   "execution_count": 81,
   "id": "d400cbbc-075d-43a0-9a31-fdd157f82552",
   "metadata": {},
   "outputs": [],
   "source": [
    "# 드롭다운 메뉴 클릭\n",
    "\n",
    "driver.find_element(By.CSS_SELECTOR, \"#account > div.MyView-module__my_menu___eF24q > div > div > ul > li:nth-child(1) > a > span.MyView-module__item_text___VTQQM\").click()"
   ]
  },
  {
   "cell_type": "code",
   "execution_count": 83,
   "id": "a120a8ea-6e72-4f01-a453-06e56ac4096f",
   "metadata": {},
   "outputs": [],
   "source": [
    "driver.find_element(By.CSS_SELECTOR, \"#account > div.MyView-module__layer_menu_service___NqMyX > div.MyView-module__service_sub___wix9p > div.MyView-module__sub_left___AIWHR > a\").click()"
   ]
  },
  {
   "cell_type": "code",
   "execution_count": 93,
   "id": "d8126050-2294-47ae-b668-4a16abdac273",
   "metadata": {},
   "outputs": [
    {
     "data": {
      "text/plain": [
       "['905C9E104D67DC00ED305C5EF934322F', '7670A10B90C20E62DE7F39FB929D94CF']"
      ]
     },
     "execution_count": 93,
     "metadata": {},
     "output_type": "execute_result"
    }
   ],
   "source": [
    "#현재 열려있는 창\n",
    "\n",
    "driver.window_handles"
   ]
  },
  {
   "cell_type": "code",
   "execution_count": 95,
   "id": "b6b0d92c-b465-4422-ac21-af65676ae601",
   "metadata": {},
   "outputs": [],
   "source": [
    "# 새창으로 전환\n",
    "\n",
    "driver.switch_to.window(driver.window_handles[1])"
   ]
  },
  {
   "cell_type": "code",
   "execution_count": 97,
   "id": "490a90b6-c65a-4e0d-928d-679d66c47268",
   "metadata": {},
   "outputs": [],
   "source": [
    "#메일쓰기 버튼\n",
    "\n",
    "driver.find_element(By.CSS_SELECTOR, \"#root > div > nav > div > div.lnb_header > div.lnb_task > a.item.button_write\").click()"
   ]
  },
  {
   "cell_type": "code",
   "execution_count": 101,
   "id": "73a92c71-d37b-408f-a18b-a75307f68f93",
   "metadata": {},
   "outputs": [],
   "source": [
    "reseiver = driver.find_element(By.CSS_SELECTOR, \"#recipient_input_element\")"
   ]
  },
  {
   "cell_type": "code",
   "execution_count": 113,
   "id": "8fcd4f63-2daa-4eee-b0cd-49f907b1e153",
   "metadata": {},
   "outputs": [],
   "source": [
    "reseiver_id = \"xogur741@naver.com\"\n",
    "title_title = \"test\""
   ]
  },
  {
   "cell_type": "code",
   "execution_count": 111,
   "id": "7dd4dfdc-2ac4-45cf-b55e-6331012d36b5",
   "metadata": {},
   "outputs": [],
   "source": [
    "reseiver.send_keys(reseiver_id)"
   ]
  },
  {
   "cell_type": "code",
   "execution_count": 115,
   "id": "bd12a7a0-308a-4d9d-a26e-a78f0e7161ff",
   "metadata": {},
   "outputs": [],
   "source": [
    "title = driver.find_element(By.CSS_SELECTOR, \"#subject_title\")\n",
    "title.send_keys(title_title)"
   ]
  },
  {
   "cell_type": "code",
   "execution_count": 139,
   "id": "52a84d56-9e64-4047-979a-9ee0ef03e967",
   "metadata": {},
   "outputs": [],
   "source": [
    "content = driver.find_element(By.CSS_SELECTOR, \"#content > div.contents_area > div > div.editor_area > div > div.editor_body > iframe\")"
   ]
  },
  {
   "cell_type": "code",
   "execution_count": 143,
   "id": "f387e4ed-5e77-4e1c-8c2f-718a3c384edf",
   "metadata": {},
   "outputs": [],
   "source": [
    "driver.switch_to.frame(content)"
   ]
  },
  {
   "cell_type": "code",
   "execution_count": 147,
   "id": "00145f18-0675-4acd-b792-b1a1af955c8d",
   "metadata": {},
   "outputs": [],
   "source": [
    "content = driver.find_element(By.CSS_SELECTOR, \"body > div > div.workseditor-content\")"
   ]
  },
  {
   "cell_type": "code",
   "execution_count": 149,
   "id": "8f539f1c-bf85-48f7-bd83-2fed98054e9e",
   "metadata": {},
   "outputs": [],
   "source": [
    "content_content = \"안녕하세요\""
   ]
  },
  {
   "cell_type": "code",
   "execution_count": 151,
   "id": "d231466b-2073-4454-aad1-54e55214f1ea",
   "metadata": {},
   "outputs": [],
   "source": [
    "content.send_keys(content_content)"
   ]
  },
  {
   "cell_type": "code",
   "execution_count": 161,
   "id": "073f838e-1537-415e-ad99-e276cac9259e",
   "metadata": {},
   "outputs": [],
   "source": [
    "driver.switch_to.window(driver.window_handles[1])"
   ]
  },
  {
   "cell_type": "code",
   "execution_count": 163,
   "id": "11abf9be-a002-47fa-94e2-1025b50e91bb",
   "metadata": {},
   "outputs": [],
   "source": [
    "bt = driver.find_element(By.CSS_SELECTOR, \"#content > div.mail_toolbar.type_write > div:nth-child(1) > div > button.button_write_task\").click()"
   ]
  },
  {
   "cell_type": "code",
   "execution_count": 170,
   "id": "f4c5e984-3b03-4395-b3bf-e9f931239515",
   "metadata": {},
   "outputs": [],
   "source": [
    "reseiver = driver.find_element(By.CSS_SELECTOR, \"#recipient_input_element\")\n",
    "reseiver_id = \"xogur741@naver.com\"\n",
    "title_title = \"test3\"\n",
    "reseiver.send_keys(reseiver_id)\n",
    "time.sleep(2)\n",
    "\n",
    "title = driver.find_element(By.CSS_SELECTOR, \"#subject_title\")\n",
    "title.send_keys(title_title)\n",
    "time.sleep(2)\n",
    "\n",
    "content = driver.find_element(By.CSS_SELECTOR, \"#content > div.contents_area > div > div.editor_area > div > div.editor_body > iframe\")\n",
    "driver.switch_to.frame(content)\n",
    "content = driver.find_element(By.CSS_SELECTOR, \"body > div > div.workseditor-content\")\n",
    "content_content = \"안녕하세요3\"\n",
    "content.send_keys(content_content)\n",
    "time.sleep(2)\n",
    "driver.switch_to.default_content()\n",
    "bt = driver.find_element(By.CSS_SELECTOR, \"#content > div.mail_toolbar.type_write > div:nth-child(1) > div > button.button_write_task\").click()"
   ]
  },
  {
   "cell_type": "markdown",
   "id": "6e0842c6-88be-40d5-89bf-51c07cf01ba5",
   "metadata": {},
   "source": [
    "### iframe 이동법"
   ]
  },
  {
   "cell_type": "code",
   "execution_count": 168,
   "id": "ea984014-0591-4f7e-91fe-1cbd39432ce6",
   "metadata": {},
   "outputs": [],
   "source": [
    "iframe = driver.find_element(By.CSS_SELECTOR, \"#content > div.contents_area > div > div.editor_area > div > div.editor_body > iframe\")\n",
    "driver.switch_to.frame(iframe)\n",
    "\n",
    "#다시 전으로 돌아가기\n",
    "driver.switch_to.default_content()"
   ]
  },
  {
   "cell_type": "code",
   "execution_count": null,
   "id": "628baa98-21af-4b43-b596-e56d7b84ad4f",
   "metadata": {},
   "outputs": [],
   "source": []
  }
 ],
 "metadata": {
  "kernelspec": {
   "display_name": "Python [conda env:crawling_class]",
   "language": "python",
   "name": "conda-env-crawling_class-py"
  },
  "language_info": {
   "codemirror_mode": {
    "name": "ipython",
    "version": 3
   },
   "file_extension": ".py",
   "mimetype": "text/x-python",
   "name": "python",
   "nbconvert_exporter": "python",
   "pygments_lexer": "ipython3",
   "version": "3.8.5"
  }
 },
 "nbformat": 4,
 "nbformat_minor": 5
}
