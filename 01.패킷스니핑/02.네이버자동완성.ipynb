{
 "cells": [
  {
   "cell_type": "code",
   "execution_count": 87,
   "id": "a6ab2458-1a06-4adc-a708-ab6a5334f2e6",
   "metadata": {},
   "outputs": [],
   "source": [
    "from selenium import webdriver\n",
    "from selenium.webdriver.common.keys import Keys\n",
    "from selenium.webdriver.common.by import By\n",
    "import time\n",
    "\n",
    "import requests\n",
    "import pandas as pd\n",
    "import bs4\n",
    "import re\n",
    "from selenium.webdriver.support.select import Select\n",
    "import json"
   ]
  },
  {
   "cell_type": "code",
   "execution_count": 150,
   "id": "41d6cadc-8b98-4ffc-aee8-5bf5716dbe50",
   "metadata": {},
   "outputs": [
    {
     "data": {
      "text/plain": [
       "<function json.loads(s, *, cls=None, object_hook=None, parse_float=None, parse_int=None, parse_constant=None, object_pairs_hook=None, **kw)>"
      ]
     },
     "execution_count": 150,
     "metadata": {},
     "output_type": "execute_result"
    }
   ],
   "source": [
    "json.loads"
   ]
  },
  {
   "cell_type": "code",
   "execution_count": 115,
   "id": "b0798a37-96a8-4bdb-8788-1504bff5cbf6",
   "metadata": {},
   "outputs": [],
   "source": [
    "url = \"https://ac.search.naver.com/nx/ac?q=%E3%85%82&con=1&frm=nv&ans=2&r_format=json&r_enc=UTF-8&r_unicode=0&t_koreng=1&run=2&rev=4&q_enc=UTF-8&st=100\""
   ]
  },
  {
   "cell_type": "code",
   "execution_count": 117,
   "id": "b7b5670a-24e8-49cf-83d1-2697f32334d5",
   "metadata": {},
   "outputs": [],
   "source": [
    "headers = {\n",
    "    'accept':\n",
    "    '*/*',\n",
    "    'accept-encoding':\n",
    "    'gzip, deflate, br, zstd',\n",
    "    'accept-language':\n",
    "    'ko-KR,ko;q=0.9,en-US;q=0.8,en;q=0.7',\n",
    "    'cookie':\n",
    "    'NAC=OeMTDAhVORoMB; NNB=6CHZ7GSTK2UWO; ba.uuid=bc52ea4e-a89e-4927-b423-0d5a1591c141; _ga_6Z6DP60WFK=GS1.2.1739769802.1.0.1739769802.60.0.0; _ga=GA1.1.1667454962.1739769802; _ga_8P4PY65YZ2=GS1.1.1741755871.1.1.1741755872.59.0.0; NACT=1; nid_inf=2033547340; NID_AUT=fqPK45y70kt9mtjAtRPZ+q0U1AsNnznQ+FBeWj0pEctyPKAael92ue2B8Y+/BjVa; NID_JKL=k/FaH1CNaAsR1+sTbl4RwbMW58vtAvV9ijy1eiqm5u8=; SRT30=1742006265; NID_SES=AAABz5lwARWlZcDGyGEANOZdB6uRwEC9Jx9n14KRL8/PXnQNXw2BzRv3ZBf0URb7712vktU5J03MjvgS9TtBP9W+wS0jhkRuPuqjHfeV2zQ+QnMQwmM5YyQdmMEmHOqiTsj7Xo7+PsXaM4yc/FN/WobQOoq7dslKUvpxAhyTl0xuNg7A5mwq5FhM+fvUq4mCBRxsWz8mgZncejpgI4KeTxrCKXtmMI4V1q0kIUg60+gCbiT24m2eTVxQ0jYBfq3ULH7h0IGwUpZsgcCt4dJvlWnxPyOYswGe3/DvY+U+qjV4oFju9kjEg294J8gmzanbKP/lUx0RrGO5Fh/ngv9ZXEYmuBy6Bezc0Fev2IFy5OuuQY3GO4KUsLmCaBhhOp3oGxEcLVaUCazFqqeCsg0vpi3hj+3swfFbCdlPCJfJk91n5giVP1hqGiXlUTTMUmlCNpFfR7/YN1PFKmGDqeh8nf0uS8m/lqdN0P0sF+dof8b/NDdlVqBjosbutm2vYqHTVvyg6jT9HH9HZb9XBDHdKWdenvhAGHbQ+1YIlovrDdqOvaJ07hPHStiQcByoM0jqjebMRls52OvsXl049ELfthfUF3f6Nq6wxd1q9FK3TK3is9QY; page_uid=i9Rj3dqo1SCssLFp4h0ssssssEs-065003; SRT5=1742022652; _naver_usersession_=QstAT4fYvoRKNSdZsPYIde/d; BUC=qQAnA7Ed6hfOYx5tchXwIt5QKQDhDsoNQLEVfo3aYME=',\n",
    "    'referer':\n",
    "    'https://www.naver.com/',\n",
    "    'sec-ch-ua':\n",
    "    '\"Chromium\";v=\"134\", \"Not:A-Brand\";v=\"24\", \"Google Chrome\";v=\"134\"',\n",
    "    'sec-ch-ua-mobile':\n",
    "    '?0',\n",
    "    'sec-ch-ua-platform':\n",
    "    '\"Windows\"',\n",
    "    'sec-fetch-dest':\n",
    "    'script',\n",
    "    'sec-fetch-mode':\n",
    "    'no-cors',\n",
    "    'sec-fetch-site':\n",
    "    'same-site',\n",
    "    'user-agent':\n",
    "    'Mozilla/5.0 (Windows NT 10.0; Win64; x64) AppleWebKit/537.36 (KHTML, like Gecko) Chrome/134.0.0.0 Safari/537.36',\n",
    "\n",
    "    \n",
    "}"
   ]
  },
  {
   "cell_type": "code",
   "execution_count": 119,
   "id": "cb8f45e5-04a5-4826-be25-035866dc9583",
   "metadata": {},
   "outputs": [
    {
     "data": {
      "text/plain": [
       "<Response [200]>"
      ]
     },
     "execution_count": 119,
     "metadata": {},
     "output_type": "execute_result"
    }
   ],
   "source": [
    "res = requests.get(url, headers = headers)\n",
    "res"
   ]
  },
  {
   "cell_type": "code",
   "execution_count": 121,
   "id": "3add00b2-5759-4748-9926-6e065b0208a0",
   "metadata": {},
   "outputs": [],
   "source": [
    "data_dict = res.json()"
   ]
  },
  {
   "cell_type": "code",
   "execution_count": 139,
   "id": "b47851e4-9921-48cd-ad4a-19c115b2b146",
   "metadata": {},
   "outputs": [
    {
     "data": {
      "text/plain": [
       "[['보배드림', '0'],\n",
       " ['비트코인', '0'],\n",
       " ['번역기', '0'],\n",
       " ['봄툰', '0'],\n",
       " ['보물섬', '0'],\n",
       " ['부산날씨', '1'],\n",
       " ['부동산', '0'],\n",
       " ['변우석', '0'],\n",
       " ['본죽', '0'],\n",
       " ['방탄소년단', '0']]"
      ]
     },
     "execution_count": 139,
     "metadata": {},
     "output_type": "execute_result"
    }
   ],
   "source": [
    "data_dict['items'][0]"
   ]
  },
  {
   "cell_type": "code",
   "execution_count": 141,
   "id": "4472b4b8-c0c1-45f9-a7ff-e7af7fe7e2c2",
   "metadata": {},
   "outputs": [
    {
     "name": "stdout",
     "output_type": "stream",
     "text": [
      "보배드림\n",
      "비트코인\n",
      "번역기\n",
      "봄툰\n",
      "보물섬\n",
      "부산날씨\n",
      "부동산\n",
      "변우석\n",
      "본죽\n",
      "방탄소년단\n"
     ]
    }
   ],
   "source": [
    "for item in data_dict['items'][0] :\n",
    "    print(item[0])"
   ]
  },
  {
   "cell_type": "markdown",
   "id": "3ea24c8b-7055-4ebd-b3fc-9694489c45d8",
   "metadata": {},
   "source": [
    "### 풀코드(callback 파라미터 제거)"
   ]
  },
  {
   "cell_type": "code",
   "execution_count": 5,
   "id": "031eb2f5-72ba-41c2-a3d1-5ea4f2b0f7ea",
   "metadata": {
    "scrolled": true
   },
   "outputs": [
    {
     "name": "stdout",
     "output_type": "stream",
     "text": [
      "R을 이용한 웹 크롤링과 텍스트 분석\n",
      "웹크롤링과 데이터 분석\n",
      "크롤링 뜻\n",
      "크롤링\n",
      "크롤링 사이트\n",
      "크롤링 하는 법\n",
      "크롤링 방법\n",
      "크롤링 파이썬\n",
      "크롤리의 모험 이야기\n",
      "크롤리의 통계학 강의\n",
      "크롤링 타이틀\n",
      "크롤링 페그\n",
      "크롤링 뜻\n",
      "크롤링\n",
      "크롤링 사이트\n",
      "크롤링 하는 법\n",
      "크롤링 방법\n",
      "크롤링 파이썬\n",
      "크롤리의 모험 이야기\n",
      "크롤리의 통계학 강의\n",
      "크롤링 타이틀\n",
      "크롤링 페그\n",
      "크롤링 뜻\n",
      "크롤링\n",
      "크롤링 사이트\n",
      "크롤링 하는 법\n",
      "크롤링 방법\n",
      "크롤링 파이썬\n",
      "크롤리의 모험 이야기\n",
      "크롤리의 통계학 강의\n",
      "크롤링 타이틀\n",
      "크롤링 페그\n",
      "크롤링 뜻\n",
      "크롤링\n",
      "크롤링 사이트\n",
      "크롤링 하는 법\n",
      "크롤링 방법\n",
      "크롤링 파이썬\n",
      "크롤리의 모험 이야기\n",
      "크롤리의 통계학 강의\n",
      "크롤링 타이틀\n",
      "크롤링 페그\n",
      "크롤링 방법\n",
      "크롤링 사이트\n",
      "ETL 과 크롤링 엔진\n",
      "크롤링 뜻\n",
      "크롤링\n",
      "크롤링 사이트\n",
      "크롤링 하는 법\n",
      "크롤링 방법\n",
      "크롤링 파이썬\n",
      "크롤리의 모험 이야기\n",
      "크롤리의 통계학 강의\n",
      "크롤링 타이틀\n",
      "크롤링 페그\n",
      "크롤링 뜻\n",
      "크롤링\n",
      "크롤링 사이트\n",
      "크롤링 하는 법\n",
      "크롤링 방법\n",
      "크롤링 파이썬\n",
      "크롤리의 모험 이야기\n",
      "크롤리의 통계학 강의\n",
      "크롤링 타이틀\n",
      "크롤링 페그\n",
      "크롤링 뜻\n",
      "크롤링\n",
      "크롤링 사이트\n",
      "크롤링 하는 법\n",
      "크롤링 방법\n",
      "크롤링 파이썬\n",
      "크롤리의 모험 이야기\n",
      "크롤리의 통계학 강의\n",
      "크롤링 타이틀\n",
      "크롤링 페그\n",
      "크롤링 타이틀\n",
      "웹 크롤링 테크닉\n",
      "크롤링 파이썬\n",
      "크롤링 페그\n",
      "크롤링페그제도\n",
      "크롤링 하는 법\n",
      "크롤링 핵심 가이드\n"
     ]
    }
   ],
   "source": [
    "import pyautogui\n",
    "import time\n",
    "import requests\n",
    "import pandas as pd\n",
    "import bs4\n",
    "import re\n",
    "from selenium.webdriver.support.select import Select\n",
    "import json\n",
    "\n",
    "sub_list = ['ㄱ', 'ㄴ', 'ㄷ', 'ㄹ', 'ㅁ', 'ㅂ', 'ㅅ', 'ㅇ', 'ㅈ', 'ㅊ', 'ㅋ', 'ㅌ', 'ㅍ', 'ㅎ']\n",
    "main_keyword = pyautogui.prompt('키워드를 입력해주세요')\n",
    "\n",
    "headers = {\n",
    "    'accept':\n",
    "    '*/*',\n",
    "    'accept-encoding':\n",
    "    'gzip, deflate, br, zstd',\n",
    "    'accept-language':\n",
    "    'ko-KR,ko;q=0.9,en-US;q=0.8,en;q=0.7',\n",
    "    'cookie':\n",
    "    'NAC=OeMTDAhVORoMB; NNB=6CHZ7GSTK2UWO; ba.uuid=bc52ea4e-a89e-4927-b423-0d5a1591c141; _ga_6Z6DP60WFK=GS1.2.1739769802.1.0.1739769802.60.0.0; _ga=GA1.1.1667454962.1739769802; _ga_8P4PY65YZ2=GS1.1.1741755871.1.1.1741755872.59.0.0; NACT=1; nid_inf=2033547340; NID_AUT=fqPK45y70kt9mtjAtRPZ+q0U1AsNnznQ+FBeWj0pEctyPKAael92ue2B8Y+/BjVa; NID_JKL=k/FaH1CNaAsR1+sTbl4RwbMW58vtAvV9ijy1eiqm5u8=; SRT30=1742006265; NID_SES=AAABz5lwARWlZcDGyGEANOZdB6uRwEC9Jx9n14KRL8/PXnQNXw2BzRv3ZBf0URb7712vktU5J03MjvgS9TtBP9W+wS0jhkRuPuqjHfeV2zQ+QnMQwmM5YyQdmMEmHOqiTsj7Xo7+PsXaM4yc/FN/WobQOoq7dslKUvpxAhyTl0xuNg7A5mwq5FhM+fvUq4mCBRxsWz8mgZncejpgI4KeTxrCKXtmMI4V1q0kIUg60+gCbiT24m2eTVxQ0jYBfq3ULH7h0IGwUpZsgcCt4dJvlWnxPyOYswGe3/DvY+U+qjV4oFju9kjEg294J8gmzanbKP/lUx0RrGO5Fh/ngv9ZXEYmuBy6Bezc0Fev2IFy5OuuQY3GO4KUsLmCaBhhOp3oGxEcLVaUCazFqqeCsg0vpi3hj+3swfFbCdlPCJfJk91n5giVP1hqGiXlUTTMUmlCNpFfR7/YN1PFKmGDqeh8nf0uS8m/lqdN0P0sF+dof8b/NDdlVqBjosbutm2vYqHTVvyg6jT9HH9HZb9XBDHdKWdenvhAGHbQ+1YIlovrDdqOvaJ07hPHStiQcByoM0jqjebMRls52OvsXl049ELfthfUF3f6Nq6wxd1q9FK3TK3is9QY; page_uid=i9Rj3dqo1SCssLFp4h0ssssssEs-065003; SRT5=1742022652; _naver_usersession_=QstAT4fYvoRKNSdZsPYIde/d; BUC=qQAnA7Ed6hfOYx5tchXwIt5QKQDhDsoNQLEVfo3aYME=',\n",
    "    'referer':\n",
    "    'https://www.naver.com/',\n",
    "    'sec-ch-ua':\n",
    "    '\"Chromium\";v=\"134\", \"Not:A-Brand\";v=\"24\", \"Google Chrome\";v=\"134\"',\n",
    "    'sec-ch-ua-mobile':\n",
    "    '?0',\n",
    "    'sec-ch-ua-platform':\n",
    "    '\"Windows\"',\n",
    "    'sec-fetch-dest':\n",
    "    'script',\n",
    "    'sec-fetch-mode':\n",
    "    'no-cors',\n",
    "    'sec-fetch-site':\n",
    "    'same-site',\n",
    "    'user-agent':\n",
    "    'Mozilla/5.0 (Windows NT 10.0; Win64; x64) AppleWebKit/537.36 (KHTML, like Gecko) Chrome/134.0.0.0 Safari/537.36',\n",
    "\n",
    "    \n",
    "}\n",
    "\n",
    "result = []\n",
    "\n",
    "for sub in sub_list :\n",
    "    keyword = main_keyword + ' ' + sub\n",
    "    url = \"https://ac.search.naver.com/nx/ac?q={}&con=1&frm=nv&ans=2&r_format=json&r_enc=UTF-8&r_unicode=0&t_koreng=1&run=2&rev=4&q_enc=UTF-8&st=100\".format(keyword)\n",
    "    res = requests.get(url, headers = headers)\n",
    "    data_dict = res.json()\n",
    "    data_dict['items'][0]\n",
    "    for item in data_dict['items'][0] :\n",
    "        print(item[0])\n",
    "        result.append(item[0])\n",
    "\n",
    "# 데이터 프레임으로 만들기\n",
    "\n",
    "df = pd.DataFrame(result, columns=['키워드'])\n",
    "df.to_excel(f'네이버지동완성_{main_keyword}.xlsx', index=False)"
   ]
  },
  {
   "cell_type": "code",
   "execution_count": null,
   "id": "5a33966f-cbdc-462a-b105-c95cfdddd04e",
   "metadata": {},
   "outputs": [],
   "source": []
  }
 ],
 "metadata": {
  "kernelspec": {
   "display_name": "crawling",
   "language": "python",
   "name": "crawling"
  },
  "language_info": {
   "codemirror_mode": {
    "name": "ipython",
    "version": 3
   },
   "file_extension": ".py",
   "mimetype": "text/x-python",
   "name": "python",
   "nbconvert_exporter": "python",
   "pygments_lexer": "ipython3",
   "version": "3.12.9"
  }
 },
 "nbformat": 4,
 "nbformat_minor": 5
}
