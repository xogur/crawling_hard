{
 "cells": [
  {
   "cell_type": "code",
   "execution_count": 87,
   "id": "a6ab2458-1a06-4adc-a708-ab6a5334f2e6",
   "metadata": {},
   "outputs": [],
   "source": [
    "from selenium import webdriver\n",
    "from selenium.webdriver.common.keys import Keys\n",
    "from selenium.webdriver.common.by import By\n",
    "import time\n",
    "\n",
    "import requests\n",
    "import pandas as pd\n",
    "import bs4\n",
    "import re\n",
    "from selenium.webdriver.support.select import Select\n",
    "import json"
   ]
  },
  {
   "cell_type": "code",
   "execution_count": 150,
   "id": "41d6cadc-8b98-4ffc-aee8-5bf5716dbe50",
   "metadata": {},
   "outputs": [
    {
     "data": {
      "text/plain": [
       "<function json.loads(s, *, cls=None, object_hook=None, parse_float=None, parse_int=None, parse_constant=None, object_pairs_hook=None, **kw)>"
      ]
     },
     "execution_count": 150,
     "metadata": {},
     "output_type": "execute_result"
    }
   ],
   "source": [
    "json.loads"
   ]
  },
  {
   "cell_type": "code",
   "execution_count": 115,
   "id": "b0798a37-96a8-4bdb-8788-1504bff5cbf6",
   "metadata": {},
   "outputs": [],
   "source": [
    "url = \"https://ac.search.naver.com/nx/ac?q=%E3%85%82&con=1&frm=nv&ans=2&r_format=json&r_enc=UTF-8&r_unicode=0&t_koreng=1&run=2&rev=4&q_enc=UTF-8&st=100\""
   ]
  },
  {
   "cell_type": "code",
   "execution_count": 117,
   "id": "b7b5670a-24e8-49cf-83d1-2697f32334d5",
   "metadata": {},
   "outputs": [],
   "source": [
    "headers = {\n",
    "    'accept':\n",
    "    '*/*',\n",
    "    'accept-encoding':\n",
    "    'gzip, deflate, br, zstd',\n",
    "    'accept-language':\n",
    "    'ko-KR,ko;q=0.9,en-US;q=0.8,en;q=0.7',\n",
    "    'cookie':\n",
    "    'NAC=OeMTDAhVORoMB; NNB=6CHZ7GSTK2UWO; ba.uuid=bc52ea4e-a89e-4927-b423-0d5a1591c141; _ga_6Z6DP60WFK=GS1.2.1739769802.1.0.1739769802.60.0.0; _ga=GA1.1.1667454962.1739769802; _ga_8P4PY65YZ2=GS1.1.1741755871.1.1.1741755872.59.0.0; NACT=1; nid_inf=2033547340; NID_AUT=fqPK45y70kt9mtjAtRPZ+q0U1AsNnznQ+FBeWj0pEctyPKAael92ue2B8Y+/BjVa; NID_JKL=k/FaH1CNaAsR1+sTbl4RwbMW58vtAvV9ijy1eiqm5u8=; SRT30=1742006265; NID_SES=AAABz5lwARWlZcDGyGEANOZdB6uRwEC9Jx9n14KRL8/PXnQNXw2BzRv3ZBf0URb7712vktU5J03MjvgS9TtBP9W+wS0jhkRuPuqjHfeV2zQ+QnMQwmM5YyQdmMEmHOqiTsj7Xo7+PsXaM4yc/FN/WobQOoq7dslKUvpxAhyTl0xuNg7A5mwq5FhM+fvUq4mCBRxsWz8mgZncejpgI4KeTxrCKXtmMI4V1q0kIUg60+gCbiT24m2eTVxQ0jYBfq3ULH7h0IGwUpZsgcCt4dJvlWnxPyOYswGe3/DvY+U+qjV4oFju9kjEg294J8gmzanbKP/lUx0RrGO5Fh/ngv9ZXEYmuBy6Bezc0Fev2IFy5OuuQY3GO4KUsLmCaBhhOp3oGxEcLVaUCazFqqeCsg0vpi3hj+3swfFbCdlPCJfJk91n5giVP1hqGiXlUTTMUmlCNpFfR7/YN1PFKmGDqeh8nf0uS8m/lqdN0P0sF+dof8b/NDdlVqBjosbutm2vYqHTVvyg6jT9HH9HZb9XBDHdKWdenvhAGHbQ+1YIlovrDdqOvaJ07hPHStiQcByoM0jqjebMRls52OvsXl049ELfthfUF3f6Nq6wxd1q9FK3TK3is9QY; page_uid=i9Rj3dqo1SCssLFp4h0ssssssEs-065003; SRT5=1742022652; _naver_usersession_=QstAT4fYvoRKNSdZsPYIde/d; BUC=qQAnA7Ed6hfOYx5tchXwIt5QKQDhDsoNQLEVfo3aYME=',\n",
    "    'referer':\n",
    "    'https://www.naver.com/',\n",
    "    'sec-ch-ua':\n",
    "    '\"Chromium\";v=\"134\", \"Not:A-Brand\";v=\"24\", \"Google Chrome\";v=\"134\"',\n",
    "    'sec-ch-ua-mobile':\n",
    "    '?0',\n",
    "    'sec-ch-ua-platform':\n",
    "    '\"Windows\"',\n",
    "    'sec-fetch-dest':\n",
    "    'script',\n",
    "    'sec-fetch-mode':\n",
    "    'no-cors',\n",
    "    'sec-fetch-site':\n",
    "    'same-site',\n",
    "    'user-agent':\n",
    "    'Mozilla/5.0 (Windows NT 10.0; Win64; x64) AppleWebKit/537.36 (KHTML, like Gecko) Chrome/134.0.0.0 Safari/537.36',\n",
    "\n",
    "    \n",
    "}"
   ]
  },
  {
   "cell_type": "code",
   "execution_count": 119,
   "id": "cb8f45e5-04a5-4826-be25-035866dc9583",
   "metadata": {},
   "outputs": [
    {
     "data": {
      "text/plain": [
       "<Response [200]>"
      ]
     },
     "execution_count": 119,
     "metadata": {},
     "output_type": "execute_result"
    }
   ],
   "source": [
    "res = requests.get(url, headers = headers)\n",
    "res"
   ]
  },
  {
   "cell_type": "code",
   "execution_count": 121,
   "id": "3add00b2-5759-4748-9926-6e065b0208a0",
   "metadata": {},
   "outputs": [],
   "source": [
    "data_dict = res.json()"
   ]
  },
  {
   "cell_type": "code",
   "execution_count": 139,
   "id": "b47851e4-9921-48cd-ad4a-19c115b2b146",
   "metadata": {},
   "outputs": [
    {
     "data": {
      "text/plain": [
       "[['보배드림', '0'],\n",
       " ['비트코인', '0'],\n",
       " ['번역기', '0'],\n",
       " ['봄툰', '0'],\n",
       " ['보물섬', '0'],\n",
       " ['부산날씨', '1'],\n",
       " ['부동산', '0'],\n",
       " ['변우석', '0'],\n",
       " ['본죽', '0'],\n",
       " ['방탄소년단', '0']]"
      ]
     },
     "execution_count": 139,
     "metadata": {},
     "output_type": "execute_result"
    }
   ],
   "source": [
    "data_dict['items'][0]"
   ]
  },
  {
   "cell_type": "code",
   "execution_count": 141,
   "id": "4472b4b8-c0c1-45f9-a7ff-e7af7fe7e2c2",
   "metadata": {},
   "outputs": [
    {
     "name": "stdout",
     "output_type": "stream",
     "text": [
      "보배드림\n",
      "비트코인\n",
      "번역기\n",
      "봄툰\n",
      "보물섬\n",
      "부산날씨\n",
      "부동산\n",
      "변우석\n",
      "본죽\n",
      "방탄소년단\n"
     ]
    }
   ],
   "source": [
    "for item in data_dict['items'][0] :\n",
    "    print(item[0])"
   ]
  },
  {
   "cell_type": "markdown",
   "id": "3ea24c8b-7055-4ebd-b3fc-9694489c45d8",
   "metadata": {},
   "source": [
    "### 풀코드(callback 파라미터 제거)"
   ]
  },
  {
   "cell_type": "code",
   "execution_count": 157,
   "id": "031eb2f5-72ba-41c2-a3d1-5ea4f2b0f7ea",
   "metadata": {
    "scrolled": true
   },
   "outputs": [
    {
     "name": "stdout",
     "output_type": "stream",
     "text": [
      "주식 갤러리\n",
      "주식 감자\n",
      "주식 공부\n",
      "주식 계산기\n",
      "주식 거래시간\n",
      "주식 거래소\n",
      "주식 공매도\n",
      "주식 기초\n",
      "주식 기관\n",
      "주식 거래량\n",
      "주식 뉴스\n",
      "주식 나이\n",
      "주식 노트북\n",
      "주식 네이버\n",
      "주식 눌림목\n",
      "주식 나무위키\n",
      "주식 넥스트\n",
      "주식 뉴스 보는법\n",
      "주식 뉴스 추천\n",
      "미국주식 뉴스\n",
      "주식 단타\n",
      "주식 대출\n",
      "주식 대체거래소\n",
      "주식 단일가\n",
      "주식 대차\n",
      "주식 동시호가\n",
      "주식 대용금\n",
      "주식 드라마\n",
      "주식 도박\n",
      "주식 도서\n",
      "주식 레버리지\n",
      "주식 롱\n",
      "주식 롱 숏\n",
      "주식 롤백\n",
      "주식 리딩방\n",
      "주식 레버리지 뜻\n",
      "주식 로스컷\n",
      "주식 리포트\n",
      "주식 리딩방 사기\n",
      "주식 리딩\n",
      "주식 물타기\n",
      "주식 물타기 계산기\n",
      "주식 미수금\n",
      "주식 매도\n",
      "주식 매수\n",
      "주식 마이너스\n",
      "주식 미체결\n",
      "주식 매집\n",
      "주식 미수\n",
      "주식 매도 세금\n",
      "주식 배당금\n",
      "주식 병합\n",
      "주식 복리\n",
      "주식 빚\n",
      "주식 배당금 세금\n",
      "주식 보합\n",
      "주식 불타기\n",
      "주식 분할\n",
      "주식 블로그\n",
      "주식 배당일\n",
      "주식 시간\n",
      "주식 세금\n",
      "주식 선물\n",
      "주식 수수료\n",
      "주식 숏\n",
      "주식 스윙\n",
      "주식 소득세\n",
      "주식 손실\n",
      "주식 사기\n",
      "주식 상장\n",
      "주식 영어로\n",
      "주식 어플\n",
      "주식 앱\n",
      "주식 양도소득세\n",
      "주식 예수금\n",
      "주식 용어\n",
      "주식 어닝\n",
      "주식 옮기기\n",
      "주식 예상가\n",
      "주식 양도세\n",
      "주식 주말\n",
      "주식 장 시간\n",
      "주식 증여\n",
      "주식 전망\n",
      "주식 중간가\n",
      "주식 주포\n",
      "주식 조정\n",
      "주식 종가\n",
      "주식 적금\n",
      "주식 종목\n",
      "주식 추천\n",
      "주식 책\n",
      "주식 차트\n",
      "주식 출금\n",
      "주식 청약\n",
      "주식 청산\n",
      "주식 책 추천\n",
      "주식 체결강도\n",
      "주식 초보\n",
      "주식 층\n",
      "주식 킷\n",
      "주식 코인\n",
      "주식 카페\n",
      "주식 캔들\n",
      "주식 커뮤니티\n",
      "주식 컴퓨터\n",
      "주식 콜옵션\n",
      "주식 코인 차이\n",
      "주식 카카오\n",
      "주식 캔들 패턴\n",
      "주식 투자경고\n",
      "주식 텔레그램\n",
      "주식 트레이더\n",
      "주식 투신\n",
      "주식 투자주의\n",
      "주식 테마\n",
      "주식 틱\n",
      "주식 티커\n",
      "주식 토요일\n",
      "주식 텐버거\n",
      "주식 펨코\n",
      "주식 포모\n",
      "주식 포트폴리오\n",
      "주식 프로그램\n",
      "주식 평단\n",
      "주식 평단가 계산기\n",
      "주식 펀드\n",
      "주식 평단가\n",
      "주식 파동\n",
      "주식 풋\n",
      "주식 휴장\n",
      "주식 하는법\n",
      "주식 호가\n",
      "주식 환전\n",
      "주식 하락\n",
      "주식 하킷\n",
      "주식 합병\n",
      "주식 환기\n",
      "주식 한자\n",
      "주식 호가창\n"
     ]
    }
   ],
   "source": [
    "import pyautogui\n",
    "import time\n",
    "import requests\n",
    "import pandas as pd\n",
    "import bs4\n",
    "import re\n",
    "from selenium.webdriver.support.select import Select\n",
    "import json\n",
    "\n",
    "sub_list = ['ㄱ', 'ㄴ', 'ㄷ', 'ㄹ', 'ㅁ', 'ㅂ', 'ㅅ', 'ㅇ', 'ㅈ', 'ㅊ', 'ㅋ', 'ㅌ', 'ㅍ', 'ㅎ']\n",
    "main_keyword = pyautogui.prompt('키워드를 입력해주세요')\n",
    "\n",
    "headers = {\n",
    "    'accept':\n",
    "    '*/*',\n",
    "    'accept-encoding':\n",
    "    'gzip, deflate, br, zstd',\n",
    "    'accept-language':\n",
    "    'ko-KR,ko;q=0.9,en-US;q=0.8,en;q=0.7',\n",
    "    'cookie':\n",
    "    'NAC=OeMTDAhVORoMB; NNB=6CHZ7GSTK2UWO; ba.uuid=bc52ea4e-a89e-4927-b423-0d5a1591c141; _ga_6Z6DP60WFK=GS1.2.1739769802.1.0.1739769802.60.0.0; _ga=GA1.1.1667454962.1739769802; _ga_8P4PY65YZ2=GS1.1.1741755871.1.1.1741755872.59.0.0; NACT=1; nid_inf=2033547340; NID_AUT=fqPK45y70kt9mtjAtRPZ+q0U1AsNnznQ+FBeWj0pEctyPKAael92ue2B8Y+/BjVa; NID_JKL=k/FaH1CNaAsR1+sTbl4RwbMW58vtAvV9ijy1eiqm5u8=; SRT30=1742006265; NID_SES=AAABz5lwARWlZcDGyGEANOZdB6uRwEC9Jx9n14KRL8/PXnQNXw2BzRv3ZBf0URb7712vktU5J03MjvgS9TtBP9W+wS0jhkRuPuqjHfeV2zQ+QnMQwmM5YyQdmMEmHOqiTsj7Xo7+PsXaM4yc/FN/WobQOoq7dslKUvpxAhyTl0xuNg7A5mwq5FhM+fvUq4mCBRxsWz8mgZncejpgI4KeTxrCKXtmMI4V1q0kIUg60+gCbiT24m2eTVxQ0jYBfq3ULH7h0IGwUpZsgcCt4dJvlWnxPyOYswGe3/DvY+U+qjV4oFju9kjEg294J8gmzanbKP/lUx0RrGO5Fh/ngv9ZXEYmuBy6Bezc0Fev2IFy5OuuQY3GO4KUsLmCaBhhOp3oGxEcLVaUCazFqqeCsg0vpi3hj+3swfFbCdlPCJfJk91n5giVP1hqGiXlUTTMUmlCNpFfR7/YN1PFKmGDqeh8nf0uS8m/lqdN0P0sF+dof8b/NDdlVqBjosbutm2vYqHTVvyg6jT9HH9HZb9XBDHdKWdenvhAGHbQ+1YIlovrDdqOvaJ07hPHStiQcByoM0jqjebMRls52OvsXl049ELfthfUF3f6Nq6wxd1q9FK3TK3is9QY; page_uid=i9Rj3dqo1SCssLFp4h0ssssssEs-065003; SRT5=1742022652; _naver_usersession_=QstAT4fYvoRKNSdZsPYIde/d; BUC=qQAnA7Ed6hfOYx5tchXwIt5QKQDhDsoNQLEVfo3aYME=',\n",
    "    'referer':\n",
    "    'https://www.naver.com/',\n",
    "    'sec-ch-ua':\n",
    "    '\"Chromium\";v=\"134\", \"Not:A-Brand\";v=\"24\", \"Google Chrome\";v=\"134\"',\n",
    "    'sec-ch-ua-mobile':\n",
    "    '?0',\n",
    "    'sec-ch-ua-platform':\n",
    "    '\"Windows\"',\n",
    "    'sec-fetch-dest':\n",
    "    'script',\n",
    "    'sec-fetch-mode':\n",
    "    'no-cors',\n",
    "    'sec-fetch-site':\n",
    "    'same-site',\n",
    "    'user-agent':\n",
    "    'Mozilla/5.0 (Windows NT 10.0; Win64; x64) AppleWebKit/537.36 (KHTML, like Gecko) Chrome/134.0.0.0 Safari/537.36',\n",
    "\n",
    "    \n",
    "}\n",
    "\n",
    "result = []\n",
    "\n",
    "for sub in sub_list :\n",
    "    keyword = main_keyword + ' ' + sub\n",
    "    url = \"https://ac.search.naver.com/nx/ac?q={}&con=1&frm=nv&ans=2&r_format=json&r_enc=UTF-8&r_unicode=0&t_koreng=1&run=2&rev=4&q_enc=UTF-8&st=100\".format(keyword)\n",
    "    res = requests.get(url, headers = headers)\n",
    "    data_dict = res.json()\n",
    "    data_dict['items'][0]\n",
    "    for item in data_dict['items'][0] :\n",
    "        print(item[0])\n",
    "        result.append(item[0])\n",
    "\n",
    "# 데이터 프레임으로 만들기\n",
    "\n",
    "df = pd.DataFrame(result, columns=['키워드'])\n",
    "df.to_excel(f'네이버지동완성_{main_keyword}.xlsx', index=False)"
   ]
  },
  {
   "cell_type": "code",
   "execution_count": null,
   "id": "5a33966f-cbdc-462a-b105-c95cfdddd04e",
   "metadata": {},
   "outputs": [],
   "source": []
  }
 ],
 "metadata": {
  "kernelspec": {
   "display_name": "Python [conda env:crawling_class]",
   "language": "python",
   "name": "conda-env-crawling_class-py"
  },
  "language_info": {
   "codemirror_mode": {
    "name": "ipython",
    "version": 3
   },
   "file_extension": ".py",
   "mimetype": "text/x-python",
   "name": "python",
   "nbconvert_exporter": "python",
   "pygments_lexer": "ipython3",
   "version": "3.8.20"
  }
 },
 "nbformat": 4,
 "nbformat_minor": 5
}
