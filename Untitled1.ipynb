{
 "cells": [
  {
   "cell_type": "code",
   "execution_count": 1,
   "id": "0046a50d",
   "metadata": {},
   "outputs": [
    {
     "name": "stdout",
     "output_type": "stream",
     "text": [
      "Collecting pyside6\n",
      "  Downloading PySide6-6.9.0-cp39-abi3-win_amd64.whl (564 kB)\n",
      "     ------------------------------------- 564.5/564.5 kB 11.8 MB/s eta 0:00:00\n",
      "Collecting PySide6-Addons==6.9.0\n",
      "  Downloading PySide6_Addons-6.9.0-cp39-abi3-win_amd64.whl (143.0 MB)\n",
      "     ------------------------------------- 143.0/143.0 MB 10.5 MB/s eta 0:00:00\n",
      "Collecting PySide6-Essentials==6.9.0\n",
      "  Downloading PySide6_Essentials-6.9.0-cp39-abi3-win_amd64.whl (72.3 MB)\n",
      "     --------------------------------------- 72.3/72.3 MB 18.2 MB/s eta 0:00:00\n",
      "Collecting shiboken6==6.9.0\n",
      "  Downloading shiboken6-6.9.0-cp39-abi3-win_amd64.whl (1.2 MB)\n",
      "     ---------------------------------------- 1.2/1.2 MB 18.4 MB/s eta 0:00:00\n",
      "Installing collected packages: shiboken6, PySide6-Essentials, PySide6-Addons, pyside6\n",
      "Successfully installed PySide6-Addons-6.9.0 PySide6-Essentials-6.9.0 pyside6-6.9.0 shiboken6-6.9.0\n"
     ]
    }
   ],
   "source": [
    "!pip install pyside6"
   ]
  },
  {
   "cell_type": "code",
   "execution_count": null,
   "id": "296c2c94",
   "metadata": {},
   "outputs": [],
   "source": []
  }
 ],
 "metadata": {
  "kernelspec": {
   "display_name": "crawling",
   "language": "python",
   "name": "crawling"
  },
  "language_info": {
   "codemirror_mode": {
    "name": "ipython",
    "version": 3
   },
   "file_extension": ".py",
   "mimetype": "text/x-python",
   "name": "python",
   "nbconvert_exporter": "python",
   "pygments_lexer": "ipython3",
   "version": "3.12.5"
  }
 },
 "nbformat": 4,
 "nbformat_minor": 5
}
