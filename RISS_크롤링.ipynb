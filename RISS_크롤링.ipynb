{
 "cells": [
  {
   "cell_type": "code",
   "execution_count": 1,
   "id": "d5ae9443-3bad-45f4-8a7e-e1ae5472cd97",
   "metadata": {},
   "outputs": [],
   "source": [
    "import requests\n",
    "import pandas as pd\n",
    "import bs4\n",
    "from selenium import webdriver\n",
    "from selenium.webdriver.common.by import By\n",
    "import time"
   ]
  },
  {
   "cell_type": "code",
   "execution_count": 3,
   "id": "904aea40-d62f-4bfe-abd4-dd08727863de",
   "metadata": {},
   "outputs": [],
   "source": [
    "# 파라미터 종류가 많을 경우\n",
    "\n",
    "param = {\n",
    "    'isDetailSearch': 'N',\n",
    "    'searchGubun': 'true',\n",
    "    'viewYn': 'OP',\n",
    "    'strQuery': '패션 인공지능',\n",
    "    'order': '/DESC',\n",
    "    'onHanja': 'false',\n",
    "    'strSort': 'RANK',\n",
    "    'iStartCount': 0,\n",
    "    'sflag': 1,\n",
    "    'isFDetailSearch': 'N',\n",
    "    'pageNumber': 1,\n",
    "    'resultKeyword': '패션 인공지능',\n",
    "    'icate': 're_a_kor',\n",
    "    'colName': 're_a_kor',\n",
    "    'pageScale': 10,\n",
    "    'isTab': 'Y',\n",
    "    'query': '패션 인공지능',\n",
    "}"
   ]
  },
  {
   "cell_type": "code",
   "execution_count": 132,
   "id": "cdd5136b-9e12-4093-923d-6742fb877452",
   "metadata": {},
   "outputs": [
    {
     "name": "stdin",
     "output_type": "stream",
     "text": [
      "검색어를 입력하세요:  LLM\n"
     ]
    },
    {
     "name": "stdout",
     "output_type": "stream",
     "text": [
      "{'isDetailSearch': 'N', 'searchGubun': 'true', 'viewYn': 'OP', 'order': '/DESC', 'onHanja': 'false', 'strSort': 'RANK', 'iStartCount': 0, 'sflag': 1, 'isFDetailSearch': 'N', 'pageNumber': 1, 'icate': 're_a_kor', 'colName': 're_a_kor', 'pageScale': 20, 'isTab': 'Y', 'query': 'LLM'}\n"
     ]
    }
   ],
   "source": [
    "param = {\n",
    "    'isDetailSearch': 'N',\n",
    "    'searchGubun': 'true',\n",
    "    'viewYn': 'OP',\n",
    "    'order': '/DESC',\n",
    "    'onHanja': 'false',\n",
    "    'strSort': 'RANK',\n",
    "    'iStartCount': 0,\n",
    "    'sflag': 1,\n",
    "    'isFDetailSearch': 'N',\n",
    "    'pageNumber': 1,\n",
    "    'icate': 're_a_kor',\n",
    "    'colName': 're_a_kor',\n",
    "    'pageScale': 20,\n",
    "    'isTab': 'Y',\n",
    "    'query': input(\"검색어를 입력하세요: \")\n",
    "}\n",
    "\n",
    "print(param)"
   ]
  },
  {
   "cell_type": "code",
   "execution_count": 134,
   "id": "83baaa76-c9d9-4b9a-ba5e-887702bc89d9",
   "metadata": {},
   "outputs": [],
   "source": [
    "url = \"https://www.riss.kr/search/Search.do\"\n",
    "res = requests.get(url, params = param)\n",
    "soup = bs4.BeautifulSoup(res.text)"
   ]
  },
  {
   "cell_type": "code",
   "execution_count": 136,
   "id": "324d3096-fea4-40ac-9941-37db53bde390",
   "metadata": {},
   "outputs": [],
   "source": [
    "elements = soup.select(\".cont.ml60\")"
   ]
  },
  {
   "cell_type": "code",
   "execution_count": 138,
   "id": "8fed0243-aa71-4b20-a623-ac5624883a0d",
   "metadata": {},
   "outputs": [],
   "source": [
    "elements = soup.select(\".srchResultListW > ul > li\")"
   ]
  },
  {
   "cell_type": "code",
   "execution_count": 140,
   "id": "5ff5fe9f-52b2-423f-9d2f-602ae805d935",
   "metadata": {},
   "outputs": [
    {
     "data": {
      "text/plain": [
       "20"
      ]
     },
     "execution_count": 140,
     "metadata": {},
     "output_type": "execute_result"
    }
   ],
   "source": [
    "len(elements)"
   ]
  },
  {
   "cell_type": "code",
   "execution_count": 142,
   "id": "f9efc5b4-b0e4-4f36-a92c-038ee20e897a",
   "metadata": {},
   "outputs": [
    {
     "data": {
      "text/plain": [
       "'https://www.riss.kr/search/detail/DetailView.do?p_mat_type=1a0202e37d52c72d&control_no=9081b97ef9a85523e9810257f7042666&keyword=LLM'"
      ]
     },
     "execution_count": 142,
     "metadata": {},
     "output_type": "execute_result"
    }
   ],
   "source": [
    "link = \"https://www.riss.kr\" + elements[17].select_one(\".title > a\").attrs[\"href\"]\n",
    "link"
   ]
  },
  {
   "cell_type": "code",
   "execution_count": 144,
   "id": "bdfe8d9c-bfec-434a-8423-c339e22de6ab",
   "metadata": {},
   "outputs": [],
   "source": [
    "headers = {\n",
    "    'accept':\n",
    "'text/html,application/xhtml+xml,application/xml;q=0.9,image/avif,image/webp,image/apng,*/*;q=0.8,application/signed-exchange;v=b3;q=0.7',\n",
    "'accept-encoding':\n",
    "'gzip, deflate, br, zstd',\n",
    "'accept-language':\n",
    "'ko-KR,ko;q=0.9,en-US;q=0.8,en;q=0.7',\n",
    "'cache-control':\n",
    "'max-age=0',\n",
    "'connection':\n",
    "'keep-alive',\n",
    "'cookie':\n",
    "'JSESSIONID=xKFrPftFpgy9zYcgZ1Gu9nMbZyBThHjKG9GGYFe34MCdgTI7v3e21mmutHePZf6a.amV1c19kb21haW4vcmlzc3dhczJfY29udGFpbmVyMQ==; WMONID=ZGn2FxH-9ap; _ga=GA1.1.739771833.1740983462; TodayView=1a0202e37d52c72d_dcd1a8e873c0ca787ecd42904f0c5d65_%ED%8C%A8%EC%85%98+%EC%A0%9C%EC%A1%B0+%EA%B8%B0%EC%97%85%EC%9D%98+%EB%94%94%EC%A7%80%ED%84%B8+%ED%8A%B8%EB%9E%9C%EC%8A%A4%ED%8F%AC%EB%A9%94%EC%9D%B4%EC%85%98%EC%9D%84+%EC%9C%84%ED%95%9C+%EC%9D%B8%EA%B3%B5%EC%A7%80%EB%8A%A5+%EC%86%94%EB%A3%A8%EC%85%98+%EA%B0%9C%EB%B0%9C+%EB%B0%8F+%ED%99%9C%EC%9A%A9+%ED%98%84%ED%99%A9_RISS; TodayKeyword=%ED%8C%A8%EC%85%98+%EC%9D%B8%EA%B3%B5%EC%A7%80%EB%8A%A5,84,re_a_kor:%ED%8C%A8%EC%85%98+%EC%9D%B8%EA%B3%B5%EC%A7%80%EB%8A%A5,84,re_a_kor:%ED%8C%A8%EC%85%98+%EC%9D%B8%EA%B3%B5%EC%A7%80%EB%8A%A5,84,re_a_kor:%ED%8C%A8%EC%85%98+%EC%9D%B8%EA%B3%B5%EC%A7%80%EB%8A%A5,84,re_a_kor; _ga_E7TB6KFQFY=GS1.1.1740983461.1.1.1740985767.0.0.0',\n",
    "'host':\n",
    "'www.riss.kr',\n",
    "'referer':\n",
    "'http://localhost:8888/',\n",
    "'sec-ch-ua':\n",
    "'\"Not(A:Brand\";v=\"99\", \"Google Chrome\";v=\"133\", \"Chromium\";v=\"133\"',\n",
    "'sec-ch-ua-mobile':\n",
    "'?0',\n",
    "'sec-ch-ua-platform':\n",
    "'\"Windows\"',\n",
    "'sec-fetch-dest':\n",
    "'document',\n",
    "'sec-fetch-mode':\n",
    "'navigate',\n",
    "'sec-fetch-site':\n",
    "'cross-site',\n",
    "'sec-fetch-user':\n",
    "'?1',\n",
    "'upgrade-insecure-requests':\n",
    "'1',\n",
    "'user-agent':\n",
    "'Mozilla/5.0 (Windows NT 10.0; Win64; x64) AppleWebKit/537.36 (KHTML, like Gecko) Chrome/133.0.0.0 Safari/537.36',\n",
    "}"
   ]
  },
  {
   "cell_type": "code",
   "execution_count": 146,
   "id": "58f5b855-fbef-4e9d-ada6-ad3070957635",
   "metadata": {},
   "outputs": [],
   "source": [
    "res = requests.get(link, headers = headers)\n",
    "soup = bs4.BeautifulSoup(res.text)\n"
   ]
  },
  {
   "cell_type": "code",
   "execution_count": 147,
   "id": "ecae1914-d9ca-4bd5-b808-1ee76a0ef112",
   "metadata": {},
   "outputs": [
    {
     "data": {
      "text/plain": [
       "'유기동'"
      ]
     },
     "execution_count": 147,
     "metadata": {},
     "output_type": "execute_result"
    }
   ],
   "source": [
    "soup.select_one(\"div.infoDetailL ul li:nth-of-type(1) a\").text"
   ]
  },
  {
   "cell_type": "code",
   "execution_count": 150,
   "id": "e10f5734-b5be-4947-b1d6-f639a556712a",
   "metadata": {},
   "outputs": [
    {
     "data": {
      "text/plain": [
       "'2024'"
      ]
     },
     "execution_count": 150,
     "metadata": {},
     "output_type": "execute_result"
    }
   ],
   "source": [
    "soup.select_one(\"div.infoDetailL ul li:nth-of-type(5) > div\").text"
   ]
  },
  {
   "cell_type": "code",
   "execution_count": 152,
   "id": "ea9f15f6-7275-4237-acda-643149fa4340",
   "metadata": {},
   "outputs": [
    {
     "data": {
      "text/plain": [
       "['거대언어모델',\n",
       " '지식그래프',\n",
       " '챗봇',\n",
       " '민감정보',\n",
       " 'Neo4j',\n",
       " 'Large',\n",
       " 'language',\n",
       " 'model',\n",
       " 'Knowledge',\n",
       " 'graph',\n",
       " 'Chatbot',\n",
       " 'Sensitive',\n",
       " 'information',\n",
       " 'Neo4j']"
      ]
     },
     "execution_count": 152,
     "metadata": {},
     "output_type": "execute_result"
    }
   ],
   "source": [
    "soup.select_one(\"div.infoDetailL ul li:nth-of-type(7) > div > p\").text.strip().replace(\";\",'').split()"
   ]
  },
  {
   "cell_type": "code",
   "execution_count": 86,
   "id": "4e9204fc-3613-4489-8532-c03765d3fe17",
   "metadata": {},
   "outputs": [
    {
     "data": {
      "text/plain": [
       "[<span class=\"strong\">주제어</span>]"
      ]
     },
     "execution_count": 86,
     "metadata": {},
     "output_type": "execute_result"
    }
   ],
   "source": [
    "soup.find_all('span', string='주제어')"
   ]
  },
  {
   "cell_type": "code",
   "execution_count": 154,
   "id": "b1a05ede-3289-49d2-b35d-36f05ef7afd6",
   "metadata": {},
   "outputs": [],
   "source": [
    "tag = soup.find_all('span', string='DOI식별코드')"
   ]
  },
  {
   "cell_type": "code",
   "execution_count": 156,
   "id": "c8bf4faf-282c-4444-b243-03c0798b4c43",
   "metadata": {},
   "outputs": [
    {
     "data": {
      "text/plain": [
       "[<span class=\"strong\">DOI식별코드</span>]"
      ]
     },
     "execution_count": 156,
     "metadata": {},
     "output_type": "execute_result"
    }
   ],
   "source": [
    "tag"
   ]
  },
  {
   "cell_type": "code",
   "execution_count": 170,
   "id": "4a6832a2-ac5e-49b1-b022-1b83f3e08194",
   "metadata": {},
   "outputs": [
    {
     "data": {
      "text/plain": [
       "'http://dx.doi.org/10.15813/kmr.2024.25.2.001'"
      ]
     },
     "execution_count": 170,
     "metadata": {},
     "output_type": "execute_result"
    }
   ],
   "source": [
    "file = soup.find_all('span', string='DOI식별코드')[0].find_next_sibling()\n",
    "file = file.select_one(\"a\").attrs[\"href\"]\n",
    "file"
   ]
  },
  {
   "cell_type": "code",
   "execution_count": 88,
   "id": "6b84c40d-b425-451d-9572-02c0461df406",
   "metadata": {},
   "outputs": [
    {
     "data": {
      "text/plain": [
       "'주제어'"
      ]
     },
     "execution_count": 88,
     "metadata": {},
     "output_type": "execute_result"
    }
   ],
   "source": [
    "soup.select_one(\"div.infoDetailL ul li:nth-of-type(7) > span\").text"
   ]
  },
  {
   "cell_type": "code",
   "execution_count": 90,
   "id": "56210d07-1c00-4edf-87ec-7f06ca0a5368",
   "metadata": {},
   "outputs": [
    {
     "name": "stdout",
     "output_type": "stream",
     "text": [
      "웹툰 전공 핵심역량이 생성형AI 활용에 미치는 영향 https://www.riss.kr/search/detail/DetailView.do?p_mat_type=1a0202e37d52c72d&control_no=6777f0b3941345457f7a54760bb41745&keyword=생성형 AI K교육연구학회 2023 ['웹툰', '생성형AI', '프롬프트', '전공핵심역량', '인공지능', 'Webtoon', 'Generative', 'AI', 'Prompt', 'Major', 'Core', 'Competency', 'Artificial', 'Intelligence']\n",
      " \n",
      "생성형AI의 환각현상 최소화를 위한 요인 탐색 연구 - 소비자의 감성·경험 분석을 중심으로- https://www.riss.kr/search/detail/DetailView.do?p_mat_type=1a0202e37d52c72d&control_no=c60b3393dc735421d18150b21a227875&keyword=생성형 AI 서비스사이언스학회 2024 ['Generative', 'AI', 'emotion', '&', 'experience', 'data', 'user', 'satisfaction', 'prompt', 'engineering', 'minimizing', 'hallucination', 'symptoms', '생성형AI', '감성경험데이터', '사용자만족도', '프롬프트엔지니어링', '환각증상']\n",
      " \n",
      "중국의 생성형AI 법적 규제에 관한 연구 https://www.riss.kr/search/detail/DetailView.do?p_mat_type=1a0202e37d52c72d&control_no=92825f52b827ecc7b7998d826d417196&keyword=생성형 AI 한중법학회 2023 ['Generative', 'AI', 'Regulation', 'Privacy', 'Information', 'Algorithm', '生成式', '人工智能', '法律', '个人信息', '算法', '생성형', 'AI', '법규제', '개인정보', '알고리즘']\n",
      " \n",
      "ChatGPT vs Gemini : 생성형AI를 활용한 자동 채점 및 피드백의 가능성과 한계 https://www.riss.kr/search/detail/DetailView.do?p_mat_type=1a0202e37d52c72d&control_no=1ac2b03b6b93fd61b7998d826d417196&keyword=생성형 AI 청람어문교육학회 2025 ['국어교육', 'AI', 'ChatGPT', 'Gemini', '자동채점', 'Korean', 'ediucation', 'Artificial', 'Inetelligence', 'ChatGPT', 'Gemini', 'AES']\n",
      " \n",
      "소그룹활동을 위한 생성형AI 활용사례 연구 - 상호텍스트성에 기반한 창의적 문화예술 활동을 중심으로 - https://www.riss.kr/search/detail/DetailView.do?p_mat_type=1a0202e37d52c72d&control_no=0ada00b72d074f3a7ecd42904f0c5d65&keyword=생성형 AI 한국실천신학회 2024 ['생성형AI', '상호텍스트활동', '소그룹활동', '창의적문화예술활동', '교회소그룹', 'Generative', 'AI', 'Intertextual', 'activities', 'Small', 'group', 'activities', 'Creative', 'culture', 'and', 'arts', 'activities', 'Small', 'group', 'of', 'churches']\n",
      " \n",
      "생성형AI의 사용자 경험과 상호작용에 대한 연구- ChatGPT를 중심으로 - https://www.riss.kr/search/detail/DetailView.do?p_mat_type=1a0202e37d52c72d&control_no=ac10f4eb521e3b46d18150b21a227875&keyword=생성형 AI 사단법인 한국브랜드디자인학회 2024 ['생성형AI', 'ChatGPT', '사용자', '경험', 'Generative', 'AI', 'ChatGPT', 'User', 'Experience']\n",
      " \n",
      "예비교사를 위한 생성형AI챗봇 활용 데이터 기반 맞춤형 수업 설계 프로그램 개발연구 https://www.riss.kr/search/detail/DetailView.do?p_mat_type=1a0202e37d52c72d&control_no=cfc77d6f61b20f20d18150b21a227875&keyword=생성형 AI 한국교육정보미디어학회 2025 ['Data-Driven', 'Personalized', 'Instruction', 'Design', 'Data', 'Literacy', 'Generative', 'AI', 'Chatbot', 'Pre-Service', 'Teachers', 'Development', 'Research', '데이터', '기반', '맞춤형', '수업', '설계', '데이터', '리터러시', '생성형AI챗봇', '예비교사', '개발연구']\n",
      " \n",
      "생성형AI 기반외식서비스에대한인식이수용태도와이용의도에미치는영향 -자기효능감과 AI FOMO의 확장된 UTAUT 모형 적용- https://www.riss.kr/search/detail/DetailView.do?p_mat_type=1a0202e37d52c72d&control_no=414f877739b2359d6aae8a972f9116fb&keyword=생성형 AI 한국외식산업학회 2025 ['Generative', 'AI-based', 'Dining', 'Service', 'Acceptance', 'Attitude', 'Intention', 'to', 'Use', 'Extended', 'UTAUT', 'Model', 'Self-efficacy', 'AI', 'FOMO']\n",
      " \n",
      "생성형AI 제작 가상인간에 의한 위험커뮤니케이션이 안천수칙 준수 행동에 미치는 영향 https://www.riss.kr/search/detail/DetailView.do?p_mat_type=1a0202e37d52c72d&control_no=c910b41addfbe3934884a65323211ff0&keyword=생성형 AI 한국전자거래학회(Society for e-Business Studies) 2024 ['Risk', 'Communication', 'Theory', 'Virtual', 'humans', 'Compliance', 'behavior', 'Safety', 'communication', 'Empirical', 'research', '위험', '커뮤니케이션', '이론', '가상인간', '순응', '행동', '안전', '의사소통', '실증연구']\n",
      " \n",
      "생성형AI의 프롬프트 창작에 대한 저작권법적 고찰 https://www.riss.kr/search/detail/DetailView.do?p_mat_type=1a0202e37d52c72d&control_no=dce1b00590a8a2057f7a54760bb41745&keyword=생성형 AI 한국법학원(韓國法學院) 2024 ['인공지능', '창작', '생성형', 'AI', '프롬프트', '창작', '‘인간의’', '사상과', '감정', '인간의', '정신적', '노력', 'Artificial', 'intelligence', 'creation', 'Generative', 'AI', 'Prompt', 'creation', \"'Human'\", 'thoughts', 'and', 'emotions', 'Human', 'mental', 'efforts']\n",
      " \n"
     ]
    }
   ],
   "source": [
    "import urllib3\n",
    "urllib3.disable_warnings()\n",
    "\n",
    "for element in elements :\n",
    "    title = element.select_one(\".title > a\").text\n",
    "    link = \"https://www.riss.kr\" + element.select_one(\".title > a\").attrs[\"href\"]\n",
    "\n",
    "    #상세 페이지 요청\n",
    "    res = requests.get(link, headers = headers, verify=False)\n",
    "    soup = bs4.BeautifulSoup(res.text)\n",
    "    press = soup.select_one(\"div.infoDetailL ul li:nth-of-type(2) a\").text\n",
    "    years = soup.select_one(\"div.infoDetailL ul li:nth-of-type(5) > div\").text\n",
    "\n",
    "    tag = soup.select_one(\"div.infoDetailL ul li:nth-of-type(7) > span\").text\n",
    "\n",
    "    if tag == '주제어' :\n",
    "        tag = soup.select_one(\"div.infoDetailL ul li:nth-of-type(7) > div > p\").text.strip().replace(\";\",'').split()\n",
    "    else :\n",
    "        tag = \"\"\n",
    "    \n",
    "    print(title, link, press, years, tag)\n",
    "    print(\" \")"
   ]
  },
  {
   "cell_type": "markdown",
   "id": "246759b4-1555-48df-9867-18372f3bbce8",
   "metadata": {},
   "source": [
    "### 텍스트를 기준으로 찾기"
   ]
  },
  {
   "cell_type": "code",
   "execution_count": 296,
   "id": "0f63b4e1-14b7-425b-8f6a-41d400bb3e9f",
   "metadata": {},
   "outputs": [
    {
     "name": "stdout",
     "output_type": "stream",
     "text": [
      "https://www.riss.kr/search/detail/DetailView.do?p_mat_type=1a0202e37d52c72d&control_no=dcd1a8e873c0ca787ecd42904f0c5d65&keyword=패션 인공지능\n",
      "패션 제조 기업의 디지털 트랜스포메이션을 위한 인공지능 솔루션 개발 및 활용 현황 https://www.riss.kr/search/detail/DetailView.do?p_mat_type=1a0202e37d52c72d&control_no=dcd1a8e873c0ca787ecd42904f0c5d65&keyword=패션 인공지능 한국패션비즈니스학회 2022 ['디지털', '트랜스포메이션', '패션산업', '인공지능', 'AI', '진화', '단계', 'digital', 'transformation', 'fashion', 'business', 'artificial', 'intelligence', 'AI', 'evolutionary', 'stage']\n",
      "\n",
      "https://www.riss.kr/search/detail/DetailView.do?p_mat_type=1a0202e37d52c72d&control_no=657a0ea4ce31f352b36097776a77e665&keyword=패션 인공지능\n",
      "텍스트마이닝을 활용한 인공지능과 패션의 융합에 대한 인식변화 분석 https://www.riss.kr/search/detail/DetailView.do?p_mat_type=1a0202e37d52c72d&control_no=657a0ea4ce31f352b36097776a77e665&keyword=패션 인공지능 한국전시산업융합연구원 2025 ['인공지능', '패션', '인공지능', '패션', '텍스트', '마이닝', '융합', 'AI', 'Fashion', 'AI', 'Fashion', 'Text', 'Mining', 'Convergence']\n",
      "\n",
      "https://www.riss.kr/search/detail/DetailView.do?p_mat_type=1a0202e37d52c72d&control_no=9c3313ce986b119147de9c1710b0298d&keyword=패션 인공지능\n",
      "패션산업에 반영된 인공지능 사례연구 -패션 소비자 중심으로- https://www.riss.kr/search/detail/DetailView.do?p_mat_type=1a0202e37d52c72d&control_no=9c3313ce986b119147de9c1710b0298d&keyword=패션 인공지능 한국디자인문화학회 2020 ['Artificial', 'Intelligence(인공지능)', 'Fashion', 'Industry(패션산업)', 'Fashion', 'Design', '(패션', '디자인)']\n",
      "\n",
      "https://www.riss.kr/search/detail/DetailView.do?p_mat_type=1a0202e37d52c72d&control_no=404996b30e5d827bb7998d826d417196&keyword=패션 인공지능\n",
      "인공지능(AI) 패션 스타일링 서비스 ‘스티치 픽스’의 융합 콘텐츠 연구 https://www.riss.kr/search/detail/DetailView.do?p_mat_type=1a0202e37d52c72d&control_no=404996b30e5d827bb7998d826d417196&keyword=패션 인공지능 한국전시산업융합연구원 2020 ['Artificial', 'Intelligence(인공지능)', 'Fashion', 'Styling', 'Service(패션', '스타일링', '서비스)', 'Stitch', 'Fix(스티치', '픽스)', 'Convergence', 'Content(융합', '콘텐츠)']\n",
      "\n",
      "https://www.riss.kr/search/detail/DetailView.do?p_mat_type=1a0202e37d52c72d&control_no=b22cdd16f60538efd18150b21a227875&keyword=패션 인공지능\n",
      "생성형 인공지능이 적용된 패션 이미지의 활용방안 제안-학습용 인공지능 데이터와 인공지능 기술적용 중심으로- https://www.riss.kr/search/detail/DetailView.do?p_mat_type=1a0202e37d52c72d&control_no=b22cdd16f60538efd18150b21a227875&keyword=패션 인공지능 한국디자인문화학회 2023 ['AI', 'Learning(인공지능', '학습)', 'Fashion', 'Generative', 'AI', '(패션생성형', '인공지능)', 'Fashion', 'Daraset(패션', '데이터세트)', 'AI', 'Fashion(인공지능', '패션)']\n",
      "\n",
      "https://www.riss.kr/search/detail/DetailView.do?p_mat_type=1a0202e37d52c72d&control_no=1eadfd1deba772aac85d2949c297615a&keyword=패션 인공지능\n",
      "인공지능 기반의 패션 제품 사례 연구 https://www.riss.kr/search/detail/DetailView.do?p_mat_type=1a0202e37d52c72d&control_no=1eadfd1deba772aac85d2949c297615a&keyword=패션 인공지능 한국기초조형학회(Korean Society of Basic Design & Art) 2021 ['4차', '산업혁명', '스마트', '인공지능', '패션', '제품', 'artificial', 'intelligence', 'fashion', 'products', 'smart', 'the', '4th', 'industrial', 'revolution']\n",
      "\n",
      "https://www.riss.kr/search/detail/DetailView.do?p_mat_type=1a0202e37d52c72d&control_no=c4e4105ef5ab879fb7998d826d417196&keyword=패션 인공지능\n",
      "인공지능 학습용 패션 데이터셋 최근 동향 조사 https://www.riss.kr/search/detail/DetailView.do?p_mat_type=1a0202e37d52c72d&control_no=c4e4105ef5ab879fb7998d826d417196&keyword=패션 인공지능 한국방송·미디어공학회 2020 \n",
      "\n",
      "https://www.riss.kr/search/detail/DetailView.do?p_mat_type=1a0202e37d52c72d&control_no=78a4c578a5bbf1a94884a65323211ff0&keyword=패션 인공지능\n",
      "패션산업에서 인공지능 기반의 디자인 프로세스 혁신에 관한 연구 https://www.riss.kr/search/detail/DetailView.do?p_mat_type=1a0202e37d52c72d&control_no=78a4c578a5bbf1a94884a65323211ff0&keyword=패션 인공지능 커뮤니케이션디자인학회 2019 ['인공지능', '기술', '혁신', '디자인', '혁신', '프로세스', '혁신', '패션', '디자인', '프로세스', '혁신', 'Artificial', 'Intelligence', 'Technological', 'Innovation', 'Design', 'Innovation', 'Process', 'Innovation', 'Fashion', 'Design', 'Process', 'Innovation']\n",
      "\n",
      "https://www.riss.kr/search/detail/DetailView.do?p_mat_type=1a0202e37d52c72d&control_no=e7b83280940ee1757ecd42904f0c5d65&keyword=패션 인공지능\n",
      "패션과 인공지능을 융합한 2D 이미지 기반 가상 착의의 복합적 특성 개선 연구 https://www.riss.kr/search/detail/DetailView.do?p_mat_type=1a0202e37d52c72d&control_no=e7b83280940ee1757ecd42904f0c5d65&keyword=패션 인공지능 한국전시산업융합연구원 2022 ['2D', 'Virtual', 'Try-on', 'AI', 'Fashion', 'Convergence', 'Deep', 'Learning', 'Fashion', 'Fashion', 'Digital', 'Transformation', '2D', '가상', '착의', 'AI', '패션', '융합', '딥러닝', '패션', '패션디지털', '전환']\n",
      "\n",
      "https://www.riss.kr/search/detail/DetailView.do?p_mat_type=1a0202e37d52c72d&control_no=13d063967a0be5024884a65323211ff0&keyword=패션 인공지능\n",
      "인공지능이 패션산업에 미치는 영향 : 기계학습을 중심으로 https://www.riss.kr/search/detail/DetailView.do?p_mat_type=1a0202e37d52c72d&control_no=13d063967a0be5024884a65323211ff0&keyword=패션 인공지능 한국생활과학회(KOREAN LIVING SCIENCE ASSOCIATION) 2019 \n",
      "\n"
     ]
    }
   ],
   "source": [
    "import urllib3\n",
    "urllib3.disable_warnings()\n",
    "\n",
    "for element in elements :\n",
    "    title = element.select_one(\".title > a\").text\n",
    "    link = \"https://www.riss.kr\" + element.select_one(\".title > a\").attrs[\"href\"]\n",
    "    print(link)\n",
    "\n",
    "    #상세 페이지 요청\n",
    "    res = requests.get(link, headers = headers, verify=False)\n",
    "    soup = bs4.BeautifulSoup(res.text)\n",
    "    press = soup.find('span', string='발행기관').find_next_sibling().text\n",
    "    year = soup.find('span', string='발행연도').find_next_sibling().text\n",
    "    tag = soup.find_all('span', string='주제어')\n",
    "\n",
    "    if tag :\n",
    "        tag = soup.find('span', string='주제어').find_next_sibling().text.strip().replace(\";\",'').split()\n",
    "    else : \n",
    "        tag = \"\"\n",
    "    \n",
    "    print(title, link, press, year, tag)\n",
    "    print(\"\")"
   ]
  },
  {
   "cell_type": "markdown",
   "id": "72b089be-3e5a-417d-a1b2-2988dc8015d7",
   "metadata": {},
   "source": [
    "### 풀 코드"
   ]
  },
  {
   "cell_type": "code",
   "execution_count": 98,
   "id": "e73fe7f9-5911-4aaf-901c-bbdb6a6cab04",
   "metadata": {},
   "outputs": [
    {
     "name": "stdin",
     "output_type": "stream",
     "text": [
      "검색어를 입력하세요:  LLM\n"
     ]
    },
    {
     "name": "stdout",
     "output_type": "stream",
     "text": [
      "{'isDetailSearch': 'N', 'searchGubun': 'true', 'viewYn': 'OP', 'order': '/DESC', 'onHanja': 'false', 'strSort': 'RANK', 'iStartCount': 0, 'sflag': 1, 'isFDetailSearch': 'N', 'pageNumber': 1, 'icate': 're_a_kor', 'colName': 're_a_kor', 'pageScale': 10, 'isTab': 'Y', 'query': 'LLM'}\n"
     ]
    }
   ],
   "source": [
    "param = {\n",
    "    'isDetailSearch': 'N',\n",
    "    'searchGubun': 'true',\n",
    "    'viewYn': 'OP',\n",
    "    'order': '/DESC',\n",
    "    'onHanja': 'false',\n",
    "    'strSort': 'RANK',\n",
    "    'iStartCount': 0,\n",
    "    'sflag': 1,\n",
    "    'isFDetailSearch': 'N',\n",
    "    'pageNumber': 1,\n",
    "    'icate': 're_a_kor',\n",
    "    'colName': 're_a_kor',\n",
    "    'pageScale': 10,\n",
    "    'isTab': 'Y',\n",
    "    'query': input(\"검색어를 입력하세요: \")\n",
    "}\n",
    "\n",
    "print(param)"
   ]
  },
  {
   "cell_type": "code",
   "execution_count": 177,
   "id": "89dcc415-e2b5-427e-814c-7ae7b6aa7484",
   "metadata": {},
   "outputs": [
    {
     "name": "stdin",
     "output_type": "stream",
     "text": [
      "검색어를 입력하세요:  패션\n"
     ]
    },
    {
     "name": "stdout",
     "output_type": "stream",
     "text": [
      "{'isDetailSearch': 'N', 'searchGubun': 'true', 'viewYn': 'OP', 'order': '/DESC', 'onHanja': 'false', 'strSort': 'RANK', 'iStartCount': 0, 'sflag': 1, 'isFDetailSearch': 'N', 'pageNumber': 1, 'icate': 're_a_kor', 'colName': 're_a_kor', 'pageScale': 20, 'isTab': 'Y', 'query': '패션'}\n"
     ]
    }
   ],
   "source": [
    "data = []\n",
    "\n",
    "param = {\n",
    "    'isDetailSearch': 'N',\n",
    "    'searchGubun': 'true',\n",
    "    'viewYn': 'OP',\n",
    "    'order': '/DESC',\n",
    "    'onHanja': 'false',\n",
    "    'strSort': 'RANK',\n",
    "    'iStartCount': 0,\n",
    "    'sflag': 1,\n",
    "    'isFDetailSearch': 'N',\n",
    "    'pageNumber': 1,\n",
    "    'icate': 're_a_kor',\n",
    "    'colName': 're_a_kor',\n",
    "    'pageScale': 20,\n",
    "    'isTab': 'Y',\n",
    "    'query': input(\"검색어를 입력하세요: \")\n",
    "}\n",
    "\n",
    "headers = {\n",
    "    'accept':\n",
    "    'text/html,application/xhtml+xml,application/xml;q=0.9,image/avif,image/webp,image/apng,*/*;q=0.8,application/signed-exchange;v=b3;q=0.7',\n",
    "    'accept-encoding':\n",
    "    'gzip, deflate, br, zstd',\n",
    "    'accept-language':\n",
    "    'ko-KR,ko;q=0.9,en-US;q=0.8,en;q=0.7',\n",
    "    'cache-control':\n",
    "    'max-age=0',\n",
    "    'connection':\n",
    "    'keep-alive',\n",
    "    'cookie':\n",
    "    'JSESSIONID=xKFrPftFpgy9zYcgZ1Gu9nMbZyBThHjKG9GGYFe34MCdgTI7v3e21mmutHePZf6a.amV1c19kb21haW4vcmlzc3dhczJfY29udGFpbmVyMQ==; WMONID=ZGn2FxH-9ap; _ga=GA1.1.739771833.1740983462; TodayView=1a0202e37d52c72d_dcd1a8e873c0ca787ecd42904f0c5d65_%ED%8C%A8%EC%85%98+%EC%A0%9C%EC%A1%B0+%EA%B8%B0%EC%97%85%EC%9D%98+%EB%94%94%EC%A7%80%ED%84%B8+%ED%8A%B8%EB%9E%9C%EC%8A%A4%ED%8F%AC%EB%A9%94%EC%9D%B4%EC%85%98%EC%9D%84+%EC%9C%84%ED%95%9C+%EC%9D%B8%EA%B3%B5%EC%A7%80%EB%8A%A5+%EC%86%94%EB%A3%A8%EC%85%98+%EA%B0%9C%EB%B0%9C+%EB%B0%8F+%ED%99%9C%EC%9A%A9+%ED%98%84%ED%99%A9_RISS; TodayKeyword=%ED%8C%A8%EC%85%98+%EC%9D%B8%EA%B3%B5%EC%A7%80%EB%8A%A5,84,re_a_kor:%ED%8C%A8%EC%85%98+%EC%9D%B8%EA%B3%B5%EC%A7%80%EB%8A%A5,84,re_a_kor:%ED%8C%A8%EC%85%98+%EC%9D%B8%EA%B3%B5%EC%A7%80%EB%8A%A5,84,re_a_kor:%ED%8C%A8%EC%85%98+%EC%9D%B8%EA%B3%B5%EC%A7%80%EB%8A%A5,84,re_a_kor; _ga_E7TB6KFQFY=GS1.1.1740983461.1.1.1740985767.0.0.0',\n",
    "    'host':\n",
    "    'www.riss.kr',\n",
    "    'referer':\n",
    "    'http://localhost:8888/',\n",
    "    'sec-ch-ua':\n",
    "    '\"Not(A:Brand\";v=\"99\", \"Google Chrome\";v=\"133\", \"Chromium\";v=\"133\"',\n",
    "    'sec-ch-ua-mobile':\n",
    "    '?0',\n",
    "    'sec-ch-ua-platform':\n",
    "    '\"Windows\"',\n",
    "    'sec-fetch-dest':\n",
    "    'document',\n",
    "    'sec-fetch-mode':\n",
    "    'navigate',\n",
    "    'sec-fetch-site':\n",
    "    'cross-site',\n",
    "    'sec-fetch-user':\n",
    "    '?1',\n",
    "    'upgrade-insecure-requests':\n",
    "    '1',\n",
    "    'user-agent':\n",
    "    'Mozilla/5.0 (Windows NT 10.0; Win64; x64) AppleWebKit/537.36 (KHTML, like Gecko) Chrome/133.0.0.0 Safari/537.36',\n",
    "}\n",
    "\n",
    "print(param)\n",
    "\n",
    "url = \"https://www.riss.kr/search/Search.do\"\n",
    "res = requests.get(url, params = param)\n",
    "soup = bs4.BeautifulSoup(res.text)\n",
    "elements = soup.select(\".srchResultListW > ul > li\")\n",
    "\n",
    "\n",
    "\n",
    "import urllib3\n",
    "urllib3.disable_warnings()\n",
    "\n",
    "for element in elements :\n",
    "    title = element.select_one(\".title > a\").text\n",
    "    link = \"https://www.riss.kr\" + element.select_one(\".title > a\").attrs[\"href\"]\n",
    "\n",
    "    #상세 페이지 요청\n",
    "    res = requests.get(link, headers = headers, verify=False)\n",
    "    soup = bs4.BeautifulSoup(res.text)\n",
    "    press = soup.select_one(\"div.infoDetailL ul li:nth-of-type(2) a\").text\n",
    "    years = soup.select_one(\"div.infoDetailL ul li:nth-of-type(5) > div\").text\n",
    "\n",
    "    tag = soup.select_one(\"div.infoDetailL ul li:nth-of-type(7) > span\").text\n",
    "\n",
    "    file = soup.find_all('span', string='DOI식별코드')\n",
    "\n",
    "    if tag == '주제어' :\n",
    "        tag = soup.select_one(\"div.infoDetailL ul li:nth-of-type(7) > div > p\").text.strip().replace(\";\",'').split()\n",
    "    else :\n",
    "        tag = \"\"\n",
    "\n",
    "    if file :\n",
    "        file = soup.find_all('span', string='DOI식별코드')[0].find_next_sibling()\n",
    "        file = file.select_one(\"a\").attrs[\"href\"]\n",
    "    else :\n",
    "        file = \"\"\n",
    "    \n",
    "    data.append([title, link, press, years, tag, file])\n",
    "\n",
    "data = pd.DataFrame(data, columns = ['제목', '링크', '발행기관', '년도', '태그', '무료논문파일'])"
   ]
  },
  {
   "cell_type": "code",
   "execution_count": 179,
   "id": "aeb26813-cc8c-4eb5-9d18-9414b3debb8f",
   "metadata": {},
   "outputs": [
    {
     "data": {
      "text/html": [
       "<div>\n",
       "<style scoped>\n",
       "    .dataframe tbody tr th:only-of-type {\n",
       "        vertical-align: middle;\n",
       "    }\n",
       "\n",
       "    .dataframe tbody tr th {\n",
       "        vertical-align: top;\n",
       "    }\n",
       "\n",
       "    .dataframe thead th {\n",
       "        text-align: right;\n",
       "    }\n",
       "</style>\n",
       "<table border=\"1\" class=\"dataframe\">\n",
       "  <thead>\n",
       "    <tr style=\"text-align: right;\">\n",
       "      <th></th>\n",
       "      <th>제목</th>\n",
       "      <th>링크</th>\n",
       "      <th>발행기관</th>\n",
       "      <th>년도</th>\n",
       "      <th>태그</th>\n",
       "      <th>무료논문파일</th>\n",
       "    </tr>\n",
       "  </thead>\n",
       "  <tbody>\n",
       "    <tr>\n",
       "      <th>0</th>\n",
       "      <td>패션산업에서의 윤리적 패션 : 지속가능한 패션의 실천 사례를 중심으로</td>\n",
       "      <td>https://www.riss.kr/search/detail/DetailView.d...</td>\n",
       "      <td>한국패션디자인학회</td>\n",
       "      <td>2012</td>\n",
       "      <td>[지속가능한, 재활용, 패션, 재생, 재사용, sustainable, recycle...</td>\n",
       "      <td></td>\n",
       "    </tr>\n",
       "    <tr>\n",
       "      <th>1</th>\n",
       "      <td>디지털 패션필름의 확산에 따른 브랜드 커뮤니케이션의 혁신 : 패션쇼와 디지털 매체를...</td>\n",
       "      <td>https://www.riss.kr/search/detail/DetailView.d...</td>\n",
       "      <td>한국패션디자인학회</td>\n",
       "      <td>2013</td>\n",
       "      <td>[패션, 필름, 디지털, 융합, 브랜드, 커뮤니케이션, 패션쇼, 디지털, 매체, a...</td>\n",
       "      <td></td>\n",
       "    </tr>\n",
       "    <tr>\n",
       "      <th>2</th>\n",
       "      <td>디지털시대에 나타난 패션의 표현특성에 관한 연구 : 건축의 영향을 받은 패션을 중심으로</td>\n",
       "      <td>https://www.riss.kr/search/detail/DetailView.d...</td>\n",
       "      <td>한국패션디자인학회</td>\n",
       "      <td>2011</td>\n",
       "      <td>[디지털시대, 디지털, 건축, 건축적, 패션, digital, age, digita...</td>\n",
       "      <td></td>\n",
       "    </tr>\n",
       "    <tr>\n",
       "      <th>3</th>\n",
       "      <td>패션아트의 특성에 관한 연구 : 초현실주의적 패션아트 작품을 중심으로</td>\n",
       "      <td>https://www.riss.kr/search/detail/DetailView.d...</td>\n",
       "      <td>한국패션디자인학회</td>\n",
       "      <td>2010</td>\n",
       "      <td>[초현실주의, 순수예술, 패션아트, surrealism, fine, art, fas...</td>\n",
       "      <td></td>\n",
       "    </tr>\n",
       "    <tr>\n",
       "      <th>4</th>\n",
       "      <td>건축과 패션의 유사성 : 환경적 요인을 반영한 건축과 패션을 중심으로</td>\n",
       "      <td>https://www.riss.kr/search/detail/DetailView.d...</td>\n",
       "      <td>한국패션디자인학회</td>\n",
       "      <td>2011</td>\n",
       "      <td>[건축과, 패션의, 유사성, 환경, similarities, of, architec...</td>\n",
       "      <td></td>\n",
       "    </tr>\n",
       "    <tr>\n",
       "      <th>5</th>\n",
       "      <td>미셸 오바마의 패션 색상 연구 : 패션 정치의 관점에서</td>\n",
       "      <td>https://www.riss.kr/search/detail/DetailView.d...</td>\n",
       "      <td>한국패션디자인학회</td>\n",
       "      <td>2011</td>\n",
       "      <td>[미셸, 오바마, 패션, 정치, 색상, 자연색체계, Michelle, Obama, ...</td>\n",
       "      <td></td>\n",
       "    </tr>\n",
       "    <tr>\n",
       "      <th>6</th>\n",
       "      <td>패션잡지 스토리텔링 특징과 내용의 변화</td>\n",
       "      <td>https://www.riss.kr/search/detail/DetailView.d...</td>\n",
       "      <td>한국패션디자인학회</td>\n",
       "      <td>2010</td>\n",
       "      <td>[패션, 스토리텔링, 패션, 잡지광고, 스토리텔링, 광고화보, 시각적, 스토리텔링,...</td>\n",
       "      <td></td>\n",
       "    </tr>\n",
       "    <tr>\n",
       "      <th>7</th>\n",
       "      <td>패션 미디어에 나타난 상호작용 사례 연구</td>\n",
       "      <td>https://www.riss.kr/search/detail/DetailView.d...</td>\n",
       "      <td>한국패션비즈니스학회</td>\n",
       "      <td>2013</td>\n",
       "      <td>[패션, 미디어, 패션, 프로젝트, 상호작용성, 쇼스튜디오, fashion, med...</td>\n",
       "      <td>http://dx.doi.org/10.12940/jfb.2013.17.5.101</td>\n",
       "    </tr>\n",
       "    <tr>\n",
       "      <th>8</th>\n",
       "      <td>현대 패션쇼에 나타난 장소 특정성에 대한 연구</td>\n",
       "      <td>https://www.riss.kr/search/detail/DetailView.d...</td>\n",
       "      <td>한국패션디자인학회</td>\n",
       "      <td>2018</td>\n",
       "      <td>[현대, 패션쇼, 장소, 특정성, 물리적, 경험의, 장소, 사회문화적, 장소, 공적...</td>\n",
       "      <td>http://dx.doi.org/10.18652/2018.18.1.6</td>\n",
       "    </tr>\n",
       "    <tr>\n",
       "      <th>9</th>\n",
       "      <td>데페이즈망 연출을 통한 증강현실 속 패션의 스토리텔링 - 코카콜라와 드레스엑스 패션...</td>\n",
       "      <td>https://www.riss.kr/search/detail/DetailView.d...</td>\n",
       "      <td>한국패션디자인학회</td>\n",
       "      <td>2024</td>\n",
       "      <td>[증강현실, 데페이즈망, 스토리텔링, 패션, 컬래버레이션, 드림월드, 패션, 시리즈...</td>\n",
       "      <td></td>\n",
       "    </tr>\n",
       "    <tr>\n",
       "      <th>10</th>\n",
       "      <td>위르겐 텔러의 패션 광고사진에 나타난 예술적 표현</td>\n",
       "      <td>https://www.riss.kr/search/detail/DetailView.d...</td>\n",
       "      <td>한국패션디자인학회</td>\n",
       "      <td>2017</td>\n",
       "      <td>[패션, 광고사진, 위르겐, 텔러, 예술, fashion, advertisement...</td>\n",
       "      <td>http://dx.doi.org/10.18652/2017.17.4.1</td>\n",
       "    </tr>\n",
       "    <tr>\n",
       "      <th>11</th>\n",
       "      <td>에너지 하베스팅 패션제품 개발현황</td>\n",
       "      <td>https://www.riss.kr/search/detail/DetailView.d...</td>\n",
       "      <td>한국패션디자인학회</td>\n",
       "      <td>2017</td>\n",
       "      <td>[에너지, 하베스팅, 소자, 에너지, 하베스팅, 기술, 에너지, 하베스팅, 패션제품...</td>\n",
       "      <td>http://dx.doi.org/10.18652/2017.17.4.2</td>\n",
       "    </tr>\n",
       "    <tr>\n",
       "      <th>12</th>\n",
       "      <td>텍스트 마이닝을 통한 패션 스트리밍 서비스 인식에 관한 연구 - 프로젝트 앤 사례를...</td>\n",
       "      <td>https://www.riss.kr/search/detail/DetailView.d...</td>\n",
       "      <td>한국패션디자인학회</td>\n",
       "      <td>2018</td>\n",
       "      <td>[패션, 스트리밍, 서비스, 텍스트, 마이닝, 패션, 빅데이터, 분석, 네트워크분석...</td>\n",
       "      <td>http://dx.doi.org/10.18652/2018.18.1.7</td>\n",
       "    </tr>\n",
       "    <tr>\n",
       "      <th>13</th>\n",
       "      <td>한국 여성장신구와 패션 유행에 관한 연구 - 1990년대를 중심으로 -</td>\n",
       "      <td>https://www.riss.kr/search/detail/DetailView.d...</td>\n",
       "      <td>한국패션디자인학회</td>\n",
       "      <td>2018</td>\n",
       "      <td>[장신구, 액세서리, 유행, 패션장신구, ornaments, accessories,...</td>\n",
       "      <td>http://dx.doi.org/10.18652/2018.18.1.8</td>\n",
       "    </tr>\n",
       "    <tr>\n",
       "      <th>14</th>\n",
       "      <td>산학협동 캡스톤 디자인을 통한 패션디자인 교육 - 지속가능한 패션을 중심으로 -</td>\n",
       "      <td>https://www.riss.kr/search/detail/DetailView.d...</td>\n",
       "      <td>한국패션디자인학회</td>\n",
       "      <td>2015</td>\n",
       "      <td>[패션디자인, 대학교육, 지속가능한, 패션, 캡스톤, 디자인, 문제중심학습, 산학협...</td>\n",
       "      <td></td>\n",
       "    </tr>\n",
       "    <tr>\n",
       "      <th>15</th>\n",
       "      <td>3D 모델링 프로그램 CLO를 통한 가변성 패션디자인 개발</td>\n",
       "      <td>https://www.riss.kr/search/detail/DetailView.d...</td>\n",
       "      <td>한국패션디자인학회</td>\n",
       "      <td>2024</td>\n",
       "      <td>[3D, modeling, program, CLO, variable, fashion...</td>\n",
       "      <td></td>\n",
       "    </tr>\n",
       "    <tr>\n",
       "      <th>16</th>\n",
       "      <td>패션사진에 표현된 일상적 특성 - 일반인 모델과 작업한 패션사진작가를 중심으로 -</td>\n",
       "      <td>https://www.riss.kr/search/detail/DetailView.d...</td>\n",
       "      <td>한국패션디자인학회</td>\n",
       "      <td>2016</td>\n",
       "      <td>[패션사진, 일상성, 일반인, 모델, 연령, 파괴, 이상적, 신체, 파괴, 비, 주...</td>\n",
       "      <td>http://dx.doi.org/10.18652/2016.16.4.11</td>\n",
       "    </tr>\n",
       "    <tr>\n",
       "      <th>17</th>\n",
       "      <td>현대 벨벳패션에 나타난 디자인 특성</td>\n",
       "      <td>https://www.riss.kr/search/detail/DetailView.d...</td>\n",
       "      <td>한국패션디자인학회</td>\n",
       "      <td>2010</td>\n",
       "      <td>[벨벳, 벨벳패션, 디자인, 특성, velvet, velvet, styles, ch...</td>\n",
       "      <td></td>\n",
       "    </tr>\n",
       "    <tr>\n",
       "      <th>18</th>\n",
       "      <td>서브트렉션 커팅 방법을 활용한 제로 웨이스트 패션디자인 개발 - 면 저지 원단을 중...</td>\n",
       "      <td>https://www.riss.kr/search/detail/DetailView.d...</td>\n",
       "      <td>한국패션디자인학회</td>\n",
       "      <td>2017</td>\n",
       "      <td>[지속, 가능한, 패션, 제로, 웨이스트, 패션, 에코, 이슈, 서브트렉션, 커팅,...</td>\n",
       "      <td>http://dx.doi.org/10.18652/2017.17.2.2</td>\n",
       "    </tr>\n",
       "    <tr>\n",
       "      <th>19</th>\n",
       "      <td>테일러드 재킷의 패턴 해체를 통한 패션디자인 연구</td>\n",
       "      <td>https://www.riss.kr/search/detail/DetailView.d...</td>\n",
       "      <td>한국패션디자인학회</td>\n",
       "      <td>2018</td>\n",
       "      <td>[해체주의, 해체주의, 패션, 테일러드, 재킷, 패턴, 해체, 패션디자인, deco...</td>\n",
       "      <td>http://dx.doi.org/10.18652/2018.18.1.4</td>\n",
       "    </tr>\n",
       "  </tbody>\n",
       "</table>\n",
       "</div>"
      ],
      "text/plain": [
       "                                                   제목  \\\n",
       "0              패션산업에서의 윤리적 패션 : 지속가능한 패션의 실천 사례를 중심으로   \n",
       "1   디지털 패션필름의 확산에 따른 브랜드 커뮤니케이션의 혁신 : 패션쇼와 디지털 매체를...   \n",
       "2    디지털시대에 나타난 패션의 표현특성에 관한 연구 : 건축의 영향을 받은 패션을 중심으로   \n",
       "3              패션아트의 특성에 관한 연구 : 초현실주의적 패션아트 작품을 중심으로   \n",
       "4              건축과 패션의 유사성 : 환경적 요인을 반영한 건축과 패션을 중심으로   \n",
       "5                      미셸 오바마의 패션 색상 연구 : 패션 정치의 관점에서   \n",
       "6                               패션잡지 스토리텔링 특징과 내용의 변화   \n",
       "7                              패션 미디어에 나타난 상호작용 사례 연구   \n",
       "8                           현대 패션쇼에 나타난 장소 특정성에 대한 연구   \n",
       "9   데페이즈망 연출을 통한 증강현실 속 패션의 스토리텔링 - 코카콜라와 드레스엑스 패션...   \n",
       "10                        위르겐 텔러의 패션 광고사진에 나타난 예술적 표현   \n",
       "11                                 에너지 하베스팅 패션제품 개발현황   \n",
       "12  텍스트 마이닝을 통한 패션 스트리밍 서비스 인식에 관한 연구 - 프로젝트 앤 사례를...   \n",
       "13            한국 여성장신구와 패션 유행에 관한 연구 - 1990년대를 중심으로 -   \n",
       "14       산학협동 캡스톤 디자인을 통한 패션디자인 교육 - 지속가능한 패션을 중심으로 -   \n",
       "15                   3D 모델링 프로그램 CLO를 통한 가변성 패션디자인 개발   \n",
       "16      패션사진에 표현된 일상적 특성 - 일반인 모델과 작업한 패션사진작가를 중심으로 -   \n",
       "17                                현대 벨벳패션에 나타난 디자인 특성   \n",
       "18  서브트렉션 커팅 방법을 활용한 제로 웨이스트 패션디자인 개발 - 면 저지 원단을 중...   \n",
       "19                        테일러드 재킷의 패턴 해체를 통한 패션디자인 연구   \n",
       "\n",
       "                                                   링크        발행기관    년도  \\\n",
       "0   https://www.riss.kr/search/detail/DetailView.d...   한국패션디자인학회  2012   \n",
       "1   https://www.riss.kr/search/detail/DetailView.d...   한국패션디자인학회  2013   \n",
       "2   https://www.riss.kr/search/detail/DetailView.d...   한국패션디자인학회  2011   \n",
       "3   https://www.riss.kr/search/detail/DetailView.d...   한국패션디자인학회  2010   \n",
       "4   https://www.riss.kr/search/detail/DetailView.d...   한국패션디자인학회  2011   \n",
       "5   https://www.riss.kr/search/detail/DetailView.d...   한국패션디자인학회  2011   \n",
       "6   https://www.riss.kr/search/detail/DetailView.d...   한국패션디자인학회  2010   \n",
       "7   https://www.riss.kr/search/detail/DetailView.d...  한국패션비즈니스학회  2013   \n",
       "8   https://www.riss.kr/search/detail/DetailView.d...   한국패션디자인학회  2018   \n",
       "9   https://www.riss.kr/search/detail/DetailView.d...   한국패션디자인학회  2024   \n",
       "10  https://www.riss.kr/search/detail/DetailView.d...   한국패션디자인학회  2017   \n",
       "11  https://www.riss.kr/search/detail/DetailView.d...   한국패션디자인학회  2017   \n",
       "12  https://www.riss.kr/search/detail/DetailView.d...   한국패션디자인학회  2018   \n",
       "13  https://www.riss.kr/search/detail/DetailView.d...   한국패션디자인학회  2018   \n",
       "14  https://www.riss.kr/search/detail/DetailView.d...   한국패션디자인학회  2015   \n",
       "15  https://www.riss.kr/search/detail/DetailView.d...   한국패션디자인학회  2024   \n",
       "16  https://www.riss.kr/search/detail/DetailView.d...   한국패션디자인학회  2016   \n",
       "17  https://www.riss.kr/search/detail/DetailView.d...   한국패션디자인학회  2010   \n",
       "18  https://www.riss.kr/search/detail/DetailView.d...   한국패션디자인학회  2017   \n",
       "19  https://www.riss.kr/search/detail/DetailView.d...   한국패션디자인학회  2018   \n",
       "\n",
       "                                                   태그  \\\n",
       "0   [지속가능한, 재활용, 패션, 재생, 재사용, sustainable, recycle...   \n",
       "1   [패션, 필름, 디지털, 융합, 브랜드, 커뮤니케이션, 패션쇼, 디지털, 매체, a...   \n",
       "2   [디지털시대, 디지털, 건축, 건축적, 패션, digital, age, digita...   \n",
       "3   [초현실주의, 순수예술, 패션아트, surrealism, fine, art, fas...   \n",
       "4   [건축과, 패션의, 유사성, 환경, similarities, of, architec...   \n",
       "5   [미셸, 오바마, 패션, 정치, 색상, 자연색체계, Michelle, Obama, ...   \n",
       "6   [패션, 스토리텔링, 패션, 잡지광고, 스토리텔링, 광고화보, 시각적, 스토리텔링,...   \n",
       "7   [패션, 미디어, 패션, 프로젝트, 상호작용성, 쇼스튜디오, fashion, med...   \n",
       "8   [현대, 패션쇼, 장소, 특정성, 물리적, 경험의, 장소, 사회문화적, 장소, 공적...   \n",
       "9   [증강현실, 데페이즈망, 스토리텔링, 패션, 컬래버레이션, 드림월드, 패션, 시리즈...   \n",
       "10  [패션, 광고사진, 위르겐, 텔러, 예술, fashion, advertisement...   \n",
       "11  [에너지, 하베스팅, 소자, 에너지, 하베스팅, 기술, 에너지, 하베스팅, 패션제품...   \n",
       "12  [패션, 스트리밍, 서비스, 텍스트, 마이닝, 패션, 빅데이터, 분석, 네트워크분석...   \n",
       "13  [장신구, 액세서리, 유행, 패션장신구, ornaments, accessories,...   \n",
       "14  [패션디자인, 대학교육, 지속가능한, 패션, 캡스톤, 디자인, 문제중심학습, 산학협...   \n",
       "15  [3D, modeling, program, CLO, variable, fashion...   \n",
       "16  [패션사진, 일상성, 일반인, 모델, 연령, 파괴, 이상적, 신체, 파괴, 비, 주...   \n",
       "17  [벨벳, 벨벳패션, 디자인, 특성, velvet, velvet, styles, ch...   \n",
       "18  [지속, 가능한, 패션, 제로, 웨이스트, 패션, 에코, 이슈, 서브트렉션, 커팅,...   \n",
       "19  [해체주의, 해체주의, 패션, 테일러드, 재킷, 패턴, 해체, 패션디자인, deco...   \n",
       "\n",
       "                                          무료논문파일  \n",
       "0                                                 \n",
       "1                                                 \n",
       "2                                                 \n",
       "3                                                 \n",
       "4                                                 \n",
       "5                                                 \n",
       "6                                                 \n",
       "7   http://dx.doi.org/10.12940/jfb.2013.17.5.101  \n",
       "8         http://dx.doi.org/10.18652/2018.18.1.6  \n",
       "9                                                 \n",
       "10        http://dx.doi.org/10.18652/2017.17.4.1  \n",
       "11        http://dx.doi.org/10.18652/2017.17.4.2  \n",
       "12        http://dx.doi.org/10.18652/2018.18.1.7  \n",
       "13        http://dx.doi.org/10.18652/2018.18.1.8  \n",
       "14                                                \n",
       "15                                                \n",
       "16       http://dx.doi.org/10.18652/2016.16.4.11  \n",
       "17                                                \n",
       "18        http://dx.doi.org/10.18652/2017.17.2.2  \n",
       "19        http://dx.doi.org/10.18652/2018.18.1.4  "
      ]
     },
     "execution_count": 179,
     "metadata": {},
     "output_type": "execute_result"
    }
   ],
   "source": [
    "data"
   ]
  },
  {
   "cell_type": "code",
   "execution_count": null,
   "id": "5b891119-6970-461f-8d0c-7980f01478aa",
   "metadata": {},
   "outputs": [],
   "source": []
  }
 ],
 "metadata": {
  "kernelspec": {
   "display_name": "Python [conda env:crawling_class]",
   "language": "python",
   "name": "conda-env-crawling_class-py"
  },
  "language_info": {
   "codemirror_mode": {
    "name": "ipython",
    "version": 3
   },
   "file_extension": ".py",
   "mimetype": "text/x-python",
   "name": "python",
   "nbconvert_exporter": "python",
   "pygments_lexer": "ipython3",
   "version": "3.8.20"
  }
 },
 "nbformat": 4,
 "nbformat_minor": 5
}
