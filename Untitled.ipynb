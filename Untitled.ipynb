{
 "cells": [
  {
   "cell_type": "code",
   "execution_count": 3,
   "id": "ad01e558",
   "metadata": {},
   "outputs": [],
   "source": [
    "from selenium import webdriver\n",
    "from selenium.webdriver.common.keys import Keys\n",
    "from selenium.webdriver.common.by import By\n",
    "import pyperclip\n",
    "import time\n",
    "import requests\n",
    "import json\n",
    "import requests\n",
    "import re, json\n",
    "from bs4 import BeautifulSoup\n",
    "import pandas as pd\n",
    "from selenium import webdriver\n",
    "from selenium.webdriver.common.keys import Keys\n",
    "from selenium.webdriver.common.by import By\n",
    "import pyperclip\n",
    "import time\n",
    "import requests\n",
    "import json,re\n",
    "import base64"
   ]
  },
  {
   "cell_type": "code",
   "execution_count": 18,
   "id": "cfc45929",
   "metadata": {
    "scrolled": true
   },
   "outputs": [
    {
     "name": "stdout",
     "output_type": "stream",
     "text": [
      "                                    상품명        ISBN 자체관리코드     원상품ISBN  \\\n",
      "0               [중고-최상] 우리가 인생이라 부르는 것들  U455841450   1-22  K242637915   \n",
      "1                 [중고-최상] 몰입 Flow (반양장)  U925841450   1-12  K152534691   \n",
      "2                       [중고-최상] 리빙 더 월드  U325841459   2-14  8984371238   \n",
      "3  [중고-상] Recycling & Redesigning Logos  U105841458   2-13  1592536115   \n",
      "4                        [중고-상] 필경사 바틀비  U975841458   2-13  8954614442   \n",
      "\n",
      "              바코드            출판사 품질등급 판매상태     정가    판매가  잔여수량  \\\n",
      "0   9791189995539       인플루엔셜(주)   최상  판매중  16000   2700     1   \n",
      "1   9788958270096            한울림   최상  판매중  25000  14400     1   \n",
      "2   9788984371231           밝은세상   최상  판매중  14500    990     1   \n",
      "3   9781592536115   Rockport Pub    상  판매중  55610  19900     1   \n",
      "4   9788954614443           문학동네    상  판매중  11000   4400     1   \n",
      "\n",
      "                상품등록일  \n",
      "0 2025-03-14 12:49:00  \n",
      "1 2025-03-14 12:48:00  \n",
      "2 2025-03-14 12:47:00  \n",
      "3 2025-03-14 12:46:00  \n",
      "4 2025-03-14 12:46:00  \n"
     ]
    }
   ],
   "source": [
    "df = pd.read_excel(\"라일락책_20250314.xlsx\")\n",
    "\n",
    "# 결과 확인\n",
    "print(df.head())  # 상위 5개 행 출력"
   ]
  },
  {
   "cell_type": "code",
   "execution_count": 35,
   "id": "58beaf54",
   "metadata": {},
   "outputs": [],
   "source": [
    "df['바코드'] = df['바코드'].apply(lambda x: x.replace('\\xa0', '') if isinstance(x, str) else x)"
   ]
  },
  {
   "cell_type": "code",
   "execution_count": 84,
   "id": "b2acfbcd",
   "metadata": {},
   "outputs": [],
   "source": [
    "code = df['바코드'][0]"
   ]
  },
  {
   "cell_type": "code",
   "execution_count": 85,
   "id": "77afefba",
   "metadata": {},
   "outputs": [],
   "source": [
    "url = \"https://www.aladin.co.kr/search/wsearchresult.aspx?SearchTarget=Used&SearchWord={}\".format(code)"
   ]
  },
  {
   "cell_type": "code",
   "execution_count": 86,
   "id": "ae64a9f6",
   "metadata": {},
   "outputs": [],
   "source": [
    "res = requests.get(url)"
   ]
  },
  {
   "cell_type": "code",
   "execution_count": 87,
   "id": "58d4f68d",
   "metadata": {},
   "outputs": [
    {
     "data": {
      "text/plain": [
       "<Response [200]>"
      ]
     },
     "execution_count": 87,
     "metadata": {},
     "output_type": "execute_result"
    }
   ],
   "source": [
    "res"
   ]
  },
  {
   "cell_type": "code",
   "execution_count": 88,
   "id": "1f9b46d6",
   "metadata": {},
   "outputs": [],
   "source": [
    "soup = BeautifulSoup(res.text)"
   ]
  },
  {
   "cell_type": "code",
   "execution_count": 89,
   "id": "442e9de5",
   "metadata": {},
   "outputs": [],
   "source": [
    "code_url_table = soup.select_one(\"#Search3_Result > div:nth-child(1) > table\")"
   ]
  },
  {
   "cell_type": "code",
   "execution_count": 90,
   "id": "0437df52",
   "metadata": {},
   "outputs": [],
   "source": [
    "danggen_url = code_url_table.select_one(\"div.ss_book_list > ul > li > a\").attrs[\"href\"]"
   ]
  },
  {
   "cell_type": "code",
   "execution_count": 91,
   "id": "421ad7a7",
   "metadata": {},
   "outputs": [
    {
     "name": "stdout",
     "output_type": "stream",
     "text": [
      "https://www.aladin.co.kr/shop/UsedShop/wuseditemall.aspx?ItemId=233423187\n"
     ]
    }
   ],
   "source": [
    "domain = \"https://www.aladin.co.kr\"\n",
    "full_url = domain + danggen_url\n",
    "print(full_url)"
   ]
  },
  {
   "cell_type": "code",
   "execution_count": null,
   "id": "7e5202da",
   "metadata": {},
   "outputs": [],
   "source": []
  }
 ],
 "metadata": {
  "kernelspec": {
   "display_name": "crawling",
   "language": "python",
   "name": "crawling"
  },
  "language_info": {
   "codemirror_mode": {
    "name": "ipython",
    "version": 3
   },
   "file_extension": ".py",
   "mimetype": "text/x-python",
   "name": "python",
   "nbconvert_exporter": "python",
   "pygments_lexer": "ipython3",
   "version": "3.12.5"
  }
 },
 "nbformat": 4,
 "nbformat_minor": 5
}
