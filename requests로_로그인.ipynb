{
 "cells": [
  {
   "cell_type": "code",
   "execution_count": 17,
   "id": "d47a9e7e-d3a2-4bff-a92d-87a79d05edfa",
   "metadata": {},
   "outputs": [],
   "source": [
    "import pandas as pd\n",
    "import requests\n",
    "import json"
   ]
  },
  {
   "cell_type": "code",
   "execution_count": 19,
   "id": "c84ed33f-dbbf-4c76-b00c-b30f1be6ed3f",
   "metadata": {},
   "outputs": [],
   "source": [
    "my_id_part = \"snsk656\""
   ]
  },
  {
   "cell_type": "code",
   "execution_count": 21,
   "id": "216427c0-2797-4921-8ac7-45e09719055d",
   "metadata": {},
   "outputs": [],
   "source": [
    "data_dict = {\n",
    "    'email':'{}@naver.com'.format(my_id_part),\n",
    "    'password':'snsk741852963',\n",
    "    'rememberme': 'off',\n",
    "}"
   ]
  },
  {
   "cell_type": "code",
   "execution_count": 23,
   "id": "b0ce9676-c325-4ac9-b700-b3dd07b90856",
   "metadata": {},
   "outputs": [],
   "source": [
    "url = \"https://opentutorials.org/auth/login_ajax\""
   ]
  },
  {
   "cell_type": "code",
   "execution_count": 25,
   "id": "417e7ce5-fde9-4667-95ba-944595e61a60",
   "metadata": {},
   "outputs": [
    {
     "data": {
      "text/plain": [
       "'{\"result\":false,\"msg\":\"\\\\ub85c\\\\uadf8\\\\uc778\\\\uc5d0 \\\\uc2e4\\\\ud328\\\\ud588\\\\uc2b5\\\\ub2c8\\\\ub2e4. \\\\uc544\\\\uc774\\\\ub514\\\\uc640 \\\\ube44\\\\ubc00\\\\ubc88\\\\ud638\\\\ub97c \\\\ud655\\\\uc778\\\\ud574\\\\uc8fc\\\\uc138\\\\uc694.\",\"errorCode\":20,\"data\":null}'"
      ]
     },
     "execution_count": 25,
     "metadata": {},
     "output_type": "execute_result"
    }
   ],
   "source": [
    "requests.post(url, data = data_dict)\n",
    "res.text"
   ]
  },
  {
   "cell_type": "code",
   "execution_count": 27,
   "id": "012a473c-223c-4e90-b882-ab6228144cdc",
   "metadata": {},
   "outputs": [],
   "source": [
    "session = requests.Session()"
   ]
  },
  {
   "cell_type": "code",
   "execution_count": 29,
   "id": "1281ea0e-fe0e-4bd2-9bce-f2f87df83f5f",
   "metadata": {},
   "outputs": [
    {
     "data": {
      "text/plain": [
       "200"
      ]
     },
     "execution_count": 29,
     "metadata": {},
     "output_type": "execute_result"
    }
   ],
   "source": [
    "res = session.post(url, data=data_dict)\n",
    "res.status_code"
   ]
  },
  {
   "cell_type": "code",
   "execution_count": 31,
   "id": "2a36ecb5-da6c-4363-a683-0be49acf9517",
   "metadata": {},
   "outputs": [
    {
     "data": {
      "text/plain": [
       "'{\"result\":true,\"msg\":\"\\\\ub85c\\\\uadf8\\\\uc778\\\\uc5d0 \\\\uc131\\\\uacf5\\\\ud588\\\\uc2b5\\\\ub2c8\\\\ub2e4.\",\"errorCode\":0,\"data\":null}'"
      ]
     },
     "execution_count": 31,
     "metadata": {},
     "output_type": "execute_result"
    }
   ],
   "source": [
    "res.text"
   ]
  },
  {
   "cell_type": "code",
   "execution_count": 33,
   "id": "8dcfa584-a1e5-4f2b-bd12-7693fe89f36d",
   "metadata": {},
   "outputs": [],
   "source": [
    "res = session.get(\"https://opentutorials.org/\")"
   ]
  },
  {
   "cell_type": "code",
   "execution_count": 37,
   "id": "6df46638-bb65-44c6-a882-4f7b4b0d06f1",
   "metadata": {},
   "outputs": [
    {
     "data": {
      "text/plain": [
       "True"
      ]
     },
     "execution_count": 37,
     "metadata": {},
     "output_type": "execute_result"
    }
   ],
   "source": [
    "\"권태혁\" in res.text"
   ]
  },
  {
   "cell_type": "code",
   "execution_count": null,
   "id": "0efa094b-ffb8-4736-99e6-6deaa6f5e10f",
   "metadata": {},
   "outputs": [],
   "source": []
  }
 ],
 "metadata": {
  "kernelspec": {
   "display_name": "Python [conda env:crawling_class]",
   "language": "python",
   "name": "conda-env-crawling_class-py"
  },
  "language_info": {
   "codemirror_mode": {
    "name": "ipython",
    "version": 3
   },
   "file_extension": ".py",
   "mimetype": "text/x-python",
   "name": "python",
   "nbconvert_exporter": "python",
   "pygments_lexer": "ipython3",
   "version": "3.8.5"
  }
 },
 "nbformat": 4,
 "nbformat_minor": 5
}
