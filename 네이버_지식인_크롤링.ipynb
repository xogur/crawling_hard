{
 "cells": [
  {
   "cell_type": "code",
   "execution_count": 81,
   "id": "93495944-6c2a-48e0-8848-5a102ff91109",
   "metadata": {},
   "outputs": [],
   "source": [
    "import requests\n",
    "import pandas as pd\n",
    "import bs4\n",
    "from selenium import webdriver\n",
    "from selenium.webdriver.common.by import By\n",
    "import time\n",
    "import re"
   ]
  },
  {
   "cell_type": "code",
   "execution_count": 3,
   "id": "1d1604d2-4be5-4298-b985-0632ca65692a",
   "metadata": {},
   "outputs": [],
   "source": [
    "url = \"https://kin.naver.com/search/list.naver?query=%EC%82%BC%EC%84%B1%EC%A0%84%EC%9E%90\""
   ]
  },
  {
   "cell_type": "code",
   "execution_count": 5,
   "id": "5d3ef0b3-9c4d-4e51-a5f4-491d520290cf",
   "metadata": {},
   "outputs": [],
   "source": [
    "res = requests.get(url)"
   ]
  },
  {
   "cell_type": "code",
   "execution_count": 7,
   "id": "77297b78-3d34-49bc-8875-74cf96fa5fda",
   "metadata": {},
   "outputs": [
    {
     "data": {
      "text/plain": [
       "<Response [200]>"
      ]
     },
     "execution_count": 7,
     "metadata": {},
     "output_type": "execute_result"
    }
   ],
   "source": [
    "res"
   ]
  },
  {
   "cell_type": "code",
   "execution_count": 9,
   "id": "9243dc2d-83e4-451b-a61f-b793998cc9f1",
   "metadata": {},
   "outputs": [],
   "source": [
    "soup = bs4.BeautifulSoup(res.text)"
   ]
  },
  {
   "cell_type": "code",
   "execution_count": 17,
   "id": "7a044096-354e-4287-bbe2-3354d1319792",
   "metadata": {},
   "outputs": [],
   "source": [
    "li_elements = soup.select(\"ul.basic1 > li\")"
   ]
  },
  {
   "cell_type": "code",
   "execution_count": 31,
   "id": "c615a666-ec77-4254-91b5-f8d743ebeae8",
   "metadata": {},
   "outputs": [
    {
     "data": {
      "text/plain": [
       "'삼성전자 주가 전망 어디까지 갈것인가?'"
      ]
     },
     "execution_count": 31,
     "metadata": {},
     "output_type": "execute_result"
    }
   ],
   "source": [
    "title = li_elements[0].select(\"a[target='_blank']\")[0].text.strip()"
   ]
  },
  {
   "cell_type": "code",
   "execution_count": 39,
   "id": "6ca54e0d-a71d-4946-b112-2cb5f0cf627c",
   "metadata": {},
   "outputs": [
    {
     "data": {
      "text/plain": [
       "'https://kin.naver.com/qna/detail.naver?d1id=4&dirId=40102&docId=480414718&qb=7IK87ISx7KCE7J6Q&enc=utf8'"
      ]
     },
     "execution_count": 39,
     "metadata": {},
     "output_type": "execute_result"
    }
   ],
   "source": [
    "link = li_elements[0].select(\"a[target='_blank']\")[0].get(\"href\")"
   ]
  },
  {
   "cell_type": "code",
   "execution_count": 57,
   "id": "b6de83cc-a091-4062-ad7d-d823c0feaaad",
   "metadata": {
    "scrolled": true
   },
   "outputs": [
    {
     "data": {
      "text/plain": [
       "'요즘 삼성전자 주가가 곤두박질 치고 있습니다. 덕분에... 삼성전자 주가 전망 어디까지 갈 것인가? 아시는분... (시황에 따라 변동 가능) 삼성전자 주가 전망은 여러 요인에...'"
      ]
     },
     "execution_count": 57,
     "metadata": {},
     "output_type": "execute_result"
    }
   ],
   "source": [
    "content = li_elements[0].select(\"dd\")[1].text.strip()"
   ]
  },
  {
   "cell_type": "code",
   "execution_count": 115,
   "id": "7672bd51-48bf-417d-befe-f527361a6900",
   "metadata": {},
   "outputs": [
    {
     "data": {
      "text/plain": [
       "'주식, 증권'"
      ]
     },
     "execution_count": 115,
     "metadata": {},
     "output_type": "execute_result"
    }
   ],
   "source": [
    "category = li_elements[0].find(\"a\", class_=\"_nclicks:kin.cat2\").text.strip()\n",
    "category"
   ]
  },
  {
   "cell_type": "code",
   "execution_count": 97,
   "id": "34940bf1-28ac-46ec-b68f-85ee69706e39",
   "metadata": {},
   "outputs": [],
   "source": [
    "text = li_elements[0].select(\".hit\")[0].text.strip()"
   ]
  },
  {
   "cell_type": "code",
   "execution_count": 99,
   "id": "f663eab1-22da-4f68-be78-9e1476c78a45",
   "metadata": {},
   "outputs": [],
   "source": [
    "text = re.search(r\"\\d+\", text).group()"
   ]
  },
  {
   "cell_type": "code",
   "execution_count": 101,
   "id": "68410cec-4c6d-4318-9244-7339af9dfd8b",
   "metadata": {},
   "outputs": [
    {
     "data": {
      "text/plain": [
       "'20'"
      ]
     },
     "execution_count": 101,
     "metadata": {},
     "output_type": "execute_result"
    }
   ],
   "source": [
    "text"
   ]
  },
  {
   "cell_type": "code",
   "execution_count": 107,
   "id": "1e626be8-b342-4f19-bd72-5590e90ac0fb",
   "metadata": {},
   "outputs": [
    {
     "name": "stdin",
     "output_type": "stream",
     "text": [
      "숫자를 입력하세요:  3\n"
     ]
    }
   ],
   "source": [
    "num = int(input(\"숫자를 입력하세요: \"))\n",
    "\n",
    "i = 1\n",
    "\n",
    "for i in range(1, num + 1) :\n",
    "    \n",
    "    url = \"https://kin.naver.com/search/list.naver?query=%EC%82%BC%EC%84%B1%EC%A0%84%EC%9E%90&page={}\".format(i)\n",
    "    res = requests.get(url)\n",
    "    soup = bs4.BeautifulSoup(res.text)\n",
    "    li_elements = soup.select(\"ul.basic1 > li\")\n",
    "    \n",
    "    for li_element in li_elements:\n",
    "        title = li_element.select(\"a[target='_blank']\")[0].text.strip()\n",
    "        \n",
    "        link = li_element.select(\"a[target='_blank']\")[0].get(\"href\")\n",
    "        \n",
    "        content = li_element.select(\"dd\")[1].text.strip()\n",
    "        \n",
    "        category = li_element.find(\"a\", class_=\"txt_g1 _nclicks:kin.cat2\").text.strip()\n",
    "        \n",
    "        text = li_element.select(\".hit\")[0].text.strip()\n",
    "        text = re.search(r\"\\d+\", text).group()\n",
    "    \n",
    "        data.append([title, link, content, category, text])\n"
   ]
  },
  {
   "cell_type": "code",
   "execution_count": 109,
   "id": "8d0bbb83-2541-42d0-a00c-eefaba072716",
   "metadata": {},
   "outputs": [
    {
     "data": {
      "text/plain": [
       "[['삼성전자 주가 전망 어디까지 갈것인가?',\n",
       "  'https://kin.naver.com/qna/detail.naver?d1id=4&dirId=40102&docId=480414718&qb=7IK87ISx7KCE7J6Q&enc=utf8',\n",
       "  '요즘 삼성전자 주가가 곤두박질 치고 있습니다. 덕분에... 삼성전자 주가 전망 어디까지 갈 것인가? 아시는분... (시황에 따라 변동 가능) 삼성전자 주가 전망은 여러 요인에...',\n",
       "  '주식, 증권',\n",
       "  '20'],\n",
       " ['삼성전자 5급 채용',\n",
       "  'https://kin.naver.com/qna/detail.naver?d1id=4&dirId=40609&docId=477072423&qb=7IK87ISx7KCE7J6Q&enc=utf8',\n",
       "  '2024 삼성전자 DS 5급 하반기 채용을 기다리는 중입니다. 삼성전자 DS 실적이 좋지 못하다고 들어서 채용이... 삼성전자 DS 5급 하반기 채용이 2024년 11월 11일부로...',\n",
       "  '생산, 기술',\n",
       "  '2'],\n",
       " ['삼성전자 렌탈 서비스의 가격대는 어떻게...',\n",
       "  'https://kin.naver.com/qna/detail.naver?d1id=5&dirId=501&docId=480491476&qb=7IK87ISx7KCE7J6Q&enc=utf8',\n",
       "  '삼성전자렌탈에 대해 아래 내용이 궁금해요. 1. 삼성전자 렌탈 서비스의 가격대는 어떻게 되나요? 2. 삼성전자 렌탈 서비스의 위약금 정책은 어떻게 되나요? 3. 삼성전자 렌탈...',\n",
       "  '가전제품',\n",
       "  '2'],\n",
       " ['삼성 전자 우 배당일 언제인가요?',\n",
       "  'https://kin.naver.com/qna/detail.naver?d1id=4&dirId=40102&docId=481835121&qb=7IK87ISx7KCE7J6Q&enc=utf8',\n",
       "  '삼성 전자 우선주 배당금 지급일을 알려주세요. 상세한 답변 부탁드립니다. 안녕하세요! 삼성전자 우선주(삼성전자우, 005935) 배당금 지급일과 관련해 상세히...',\n",
       "  '주식, 증권',\n",
       "  '3'],\n",
       " ['삼성전자 860 EVO 메인보드 호환',\n",
       "  'https://kin.naver.com/qna/detail.naver?d1id=5&dirId=5020304&docId=481306763&qb=7IK87ISx7KCE7J6Q&enc=utf8',\n",
       "  'ssd 삼성전자 860 EVO랑 메인보드MSI PRO B760M-P DDR4 호환 가능한가요??? 네, 문제 없이 호환됩니다. 조립컴퓨터 관련이라면 모든 해결. 이미 9,606명이...',\n",
       "  '메인보드',\n",
       "  '2'],\n",
       " ['삼성전자 사운드바 엘지tv와...',\n",
       "  'https://kin.naver.com/qna/detail.naver?d1id=5&dirId=50103&docId=477588576&qb=7IK87ISx7KCE7J6Q&enc=utf8',\n",
       "  '4년전 삼성전자 티비구입시 사은품으로받은 사운드바를 엘지티비에 사용이 가능할까요 LG전자 고객도우미 입니다. TV와 사운드바 연결에 대해 문의하신 내용...',\n",
       "  '영상, 음향 가전',\n",
       "  '5'],\n",
       " ['삼성전자서비스 카톡',\n",
       "  'https://kin.naver.com/qna/detail.naver?d1id=1&dirId=107040201&docId=481782551&qb=7IK87ISx7KCE7J6Q&enc=utf8',\n",
       "  '예전에 삼성전자서비스센터에 삼성 노트북 배터리 때문에 A/S 맡긴거 밖에 없는데요 오늘 삼성전자서비스 해가지고... 찝찝해서요ㅠ 삼성전자서비스 카톡 예전에...',\n",
       "  '삼성',\n",
       "  '2'],\n",
       " ['',\n",
       "  'https://kin.naver.com/qna/detail.naver?d1id=5&dirId=50104&docId=480030721&qb=7IK87ISx7KCE7J6Q&enc=utf8',\n",
       "  '삼성전자 BESPOKE 큐커 오븐 35L (직화오븐) 을 사용하고있는데요 전자레인지 모드로... 안녕하세요 삼성전자 생활가전 담당입니다 안내드리기 죄송스럽게도 제품에서 발생되는...',\n",
       "  '청소, 주방, 계절 가전',\n",
       "  '3'],\n",
       " ['삼성전자 갤럭시 북4 프로360 충전기',\n",
       "  'https://kin.naver.com/qna/detail.naver?d1id=1&dirId=107040201&docId=481090553&qb=7IK87ISx7KCE7J6Q&enc=utf8',\n",
       "  '삼성전자 갤럭시 북4 프로360 충전기 어떤 것을 사용해야 할까요? 구매 링크도 같이 알려주시면 감사하겠습니다 이 모델은 65W...',\n",
       "  '삼성',\n",
       "  '2'],\n",
       " ['삼성전자반도체 근무중(점심시간 뇌출혈)...',\n",
       "  'https://kin.naver.com/qna/detail.naver?d1id=6&dirId=6100403&docId=477806009&qb=7IK87ISx7KCE7J6Q&enc=utf8',\n",
       "  '삼성전자반도체 근무중(점심시간 뇌출혈)산재신청가능한가요? 퇴직을 하면 신청이 불가능한지도 궁금하며 발병후 신청가능한 기한이 있는지도 궁금합니다...',\n",
       "  '산업재해보상보험',\n",
       "  '7'],\n",
       " ['삼성전자 주가 전망 어디까지 갈것인가?',\n",
       "  'https://kin.naver.com/qna/detail.naver?d1id=4&dirId=40102&docId=480414718&qb=7IK87ISx7KCE7J6Q&enc=utf8',\n",
       "  '요즘 삼성전자 주가가 곤두박질 치고 있습니다. 덕분에... 삼성전자 주가 전망 어디까지 갈 것인가? 아시는분... (시황에 따라 변동 가능) 삼성전자 주가 전망은 여러 요인에...',\n",
       "  '주식, 증권',\n",
       "  '20'],\n",
       " ['삼성전자 5급 채용',\n",
       "  'https://kin.naver.com/qna/detail.naver?d1id=4&dirId=40609&docId=477072423&qb=7IK87ISx7KCE7J6Q&enc=utf8',\n",
       "  '2024 삼성전자 DS 5급 하반기 채용을 기다리는 중입니다. 삼성전자 DS 실적이 좋지 못하다고 들어서 채용이... 삼성전자 DS 5급 하반기 채용이 2024년 11월 11일부로...',\n",
       "  '생산, 기술',\n",
       "  '2'],\n",
       " ['삼성전자 렌탈 서비스의 가격대는 어떻게...',\n",
       "  'https://kin.naver.com/qna/detail.naver?d1id=5&dirId=501&docId=480491476&qb=7IK87ISx7KCE7J6Q&enc=utf8',\n",
       "  '삼성전자렌탈에 대해 아래 내용이 궁금해요. 1. 삼성전자 렌탈 서비스의 가격대는 어떻게 되나요? 2. 삼성전자 렌탈 서비스의 위약금 정책은 어떻게 되나요? 3. 삼성전자 렌탈...',\n",
       "  '가전제품',\n",
       "  '2'],\n",
       " ['삼성 전자 우 배당일 언제인가요?',\n",
       "  'https://kin.naver.com/qna/detail.naver?d1id=4&dirId=40102&docId=481835121&qb=7IK87ISx7KCE7J6Q&enc=utf8',\n",
       "  '삼성 전자 우선주 배당금 지급일을 알려주세요. 상세한 답변 부탁드립니다. 안녕하세요! 삼성전자 우선주(삼성전자우, 005935) 배당금 지급일과 관련해 상세히...',\n",
       "  '주식, 증권',\n",
       "  '3'],\n",
       " ['삼성전자 860 EVO 메인보드 호환',\n",
       "  'https://kin.naver.com/qna/detail.naver?d1id=5&dirId=5020304&docId=481306763&qb=7IK87ISx7KCE7J6Q&enc=utf8',\n",
       "  'ssd 삼성전자 860 EVO랑 메인보드MSI PRO B760M-P DDR4 호환 가능한가요??? 네, 문제 없이 호환됩니다. 조립컴퓨터 관련이라면 모든 해결. 이미 9,606명이...',\n",
       "  '메인보드',\n",
       "  '2'],\n",
       " ['삼성전자 사운드바 엘지tv와...',\n",
       "  'https://kin.naver.com/qna/detail.naver?d1id=5&dirId=50103&docId=477588576&qb=7IK87ISx7KCE7J6Q&enc=utf8',\n",
       "  '4년전 삼성전자 티비구입시 사은품으로받은 사운드바를 엘지티비에 사용이 가능할까요 LG전자 고객도우미 입니다. TV와 사운드바 연결에 대해 문의하신 내용...',\n",
       "  '영상, 음향 가전',\n",
       "  '5'],\n",
       " ['삼성전자서비스 카톡',\n",
       "  'https://kin.naver.com/qna/detail.naver?d1id=1&dirId=107040201&docId=481782551&qb=7IK87ISx7KCE7J6Q&enc=utf8',\n",
       "  '예전에 삼성전자서비스센터에 삼성 노트북 배터리 때문에 A/S 맡긴거 밖에 없는데요 오늘 삼성전자서비스 해가지고... 찝찝해서요ㅠ 삼성전자서비스 카톡 예전에...',\n",
       "  '삼성',\n",
       "  '2'],\n",
       " ['',\n",
       "  'https://kin.naver.com/qna/detail.naver?d1id=5&dirId=50104&docId=480030721&qb=7IK87ISx7KCE7J6Q&enc=utf8',\n",
       "  '삼성전자 BESPOKE 큐커 오븐 35L (직화오븐) 을 사용하고있는데요 전자레인지 모드로... 안녕하세요 삼성전자 생활가전 담당입니다 안내드리기 죄송스럽게도 제품에서 발생되는...',\n",
       "  '청소, 주방, 계절 가전',\n",
       "  '3'],\n",
       " ['삼성전자 갤럭시 북4 프로360 충전기',\n",
       "  'https://kin.naver.com/qna/detail.naver?d1id=1&dirId=107040201&docId=481090553&qb=7IK87ISx7KCE7J6Q&enc=utf8',\n",
       "  '삼성전자 갤럭시 북4 프로360 충전기 어떤 것을 사용해야 할까요? 구매 링크도 같이 알려주시면 감사하겠습니다 이 모델은 65W...',\n",
       "  '삼성',\n",
       "  '2'],\n",
       " ['삼성전자반도체 근무중(점심시간 뇌출혈)...',\n",
       "  'https://kin.naver.com/qna/detail.naver?d1id=6&dirId=6100403&docId=477806009&qb=7IK87ISx7KCE7J6Q&enc=utf8',\n",
       "  '삼성전자반도체 근무중(점심시간 뇌출혈)산재신청가능한가요? 퇴직을 하면 신청이 불가능한지도 궁금하며 발병후 신청가능한 기한이 있는지도 궁금합니다...',\n",
       "  '산업재해보상보험',\n",
       "  '7'],\n",
       " ['삼성전자 주식 어케되는거죠',\n",
       "  'https://kin.naver.com/qna/detail.naver?d1id=4&dirId=40102&docId=477751145&qb=7IK87ISx7KCE7J6Q&enc=utf8',\n",
       "  '삼성전자 16주 61000원일때 샀는데 (약100만원) 지금 55000원이라 손실을 보는... 삼성전자인데??? 투자금 회수를 못 하는 상황에 대해서 인지가 잘 안 돼있어서...',\n",
       "  '주식, 증권',\n",
       "  '11'],\n",
       " ['삼성전자 배당금 지급일',\n",
       "  'https://kin.naver.com/qna/detail.naver?d1id=11&dirId=1107&docId=383486890&qb=7IK87ISx7KCE7J6Q&enc=utf8',\n",
       "  '삼성전자 배당금 지급일을 알고 싶어요. 제가 이번에 처음으로 주식을 했고 삼성전자를 매수했는데요. 삼성전자는 배당금을 주는걸로 알고 있습니다. 삼성전자 배당금...',\n",
       "  '평생교육',\n",
       "  '6'],\n",
       " ['삼성전자 주식',\n",
       "  'https://kin.naver.com/qna/detail.naver?d1id=4&dirId=40102&docId=481199952&qb=7IK87ISx7KCE7J6Q&enc=utf8',\n",
       "  '현재 삼성전자 주식 살만한가요??? 6만에서 7만까지 올라갈라면 예상 기간이 어느정도인가요 삼성전자 주식은 현재 살만해요 6만에서 7만까지 올라갈 가능성이 있으며 예상...',\n",
       "  '주식, 증권',\n",
       "  '6'],\n",
       " ['삼성전자 본사 위치가 어딘가요?',\n",
       "  'https://kin.naver.com/qna/detail.naver?d1id=1&dirId=107040201&docId=472663460&qb=7IK87ISx7KCE7J6Q&enc=utf8',\n",
       "  '삼성전자 본사 위치 아직 수원인가요? 아니면 서울로 옮겼나요? ㅇ 삼성전자 홈페이지 기준 본사는 수원입니다. 경기도 수원시 영통구 삼성로 129...',\n",
       "  '삼성',\n",
       "  '3'],\n",
       " ['삼성전자 ds dx',\n",
       "  'https://kin.naver.com/qna/detail.naver?d1id=11&dirId=1114&docId=439344340&qb=7IK87ISx7KCE7J6Q&enc=utf8',\n",
       "  '1.삼성 전자 ds dx차이가 뭔가요. 2. 삼성전자 ds dx 연봉차이는 얼마나 차이나요? 3. 서울에 있는 삼성전자 다니려면 무슨 일을 해야하나요? 삼성전자 DS DX 삼성전자 1:1...',\n",
       "  '물리학',\n",
       "  '2'],\n",
       " ['삼성전자 매수',\n",
       "  'https://kin.naver.com/qna/detail.naver?d1id=4&dirId=40102&docId=481342750&qb=7IK87ISx7KCE7J6Q&enc=utf8',\n",
       "  '삼성전자 2월4일 화요일 52700원에 매수했습니다 괜찮은가요? 삼성전자 주가 전망에 대한 블로그 글입니다. 읽어보고 도움되세요^^ https://blog.naver.com...',\n",
       "  '주식, 증권',\n",
       "  '3'],\n",
       " ['삼성전자매장에서 갤럭시 자급제 살수...',\n",
       "  'https://kin.naver.com/qna/detail.naver?d1id=5&dirId=5010602&docId=469930383&qb=7IK87ISx7KCE7J6Q&enc=utf8',\n",
       "  '... 가개통, 미개봉폰 말고 자급제 새 폰을 삼성전자매장에서 살수 있나요? 아님 살 수 있는 곳이 있을까요? 삼성전자 서비스 고객센터에 연락을 해서요. 가까운 점에.. 해당...',\n",
       "  '안드로이드폰',\n",
       "  '4'],\n",
       " ['삼성전자 택배',\n",
       "  'https://kin.naver.com/qna/detail.naver?d1id=5&dirId=501&docId=479449678&qb=7IK87ISx7KCE7J6Q&enc=utf8',\n",
       "  '삼성전자에서 이어폰 시켰는데 배송 올 때 언제 받을건지 전화오나요?아님 그냥 문... 삼성전자로지텍에서 직접 배송하는 것이 아닌, CJ대한통운 택배에서 배송하는 것이기...',\n",
       "  '가전제품',\n",
       "  '1'],\n",
       " ['삼성전자 1억 매수 어때요?',\n",
       "  'https://kin.naver.com/qna/detail.naver?d1id=4&dirId=40102&docId=473897632&qb=7IK87ISx7KCE7J6Q&enc=utf8',\n",
       "  '1억 여윳돈이 있는데 삼성전자 1억 매수 어떨까요? 그 동안... 어쩃든 국내시장 하고싶으신거라면 삼성전자... 삼성전자가 지난30년동안 . 10년 평균 최소 5~8배씩...',\n",
       "  '주식, 증권',\n",
       "  '9'],\n",
       " ['삼성전자 주가하락원인.',\n",
       "  'https://kin.naver.com/qna/detail.naver?d1id=4&dirId=40102&docId=476452815&qb=7IK87ISx7KCE7J6Q&enc=utf8',\n",
       "  '전문가들은 삼성전자가 10만전자가 될것이다.반도체가... 삼성전자가 \"10만전자\"가 될 것이라는 기대와 달리 현재... 감소하면서 삼성전자의 실적에 부정적인 영향을...',\n",
       "  '주식, 증권',\n",
       "  '6'],\n",
       " ['삼성전자 주식',\n",
       "  'https://kin.naver.com/qna/detail.naver?d1id=4&dirId=40102&docId=481357960&qb=7IK87ISx7KCE7J6Q&enc=utf8',\n",
       "  '삼성전자 주식 지금 52.700원 이던데 지금 사도 될까요? 삼성전자 주식을 지금 사도 될지 고민 중이시군요! 삼성전자(005930) 지금 사도 될까? ✔ 현재 주가: 52,700원 (실시간...',\n",
       "  '주식, 증권',\n",
       "  '7'],\n",
       " ['이 ssd 삼성전자 건가요?',\n",
       "  'https://kin.naver.com/qna/detail.naver?d1id=1&dirId=1010405&docId=478781336&qb=7IK87ISx7KCE7J6Q&enc=utf8',\n",
       "  '이 ssd 삼성전자 건가요? 모델명 읽기 눈아팠는데 이번엔 희미하게 보여서 남겨드립니다. ㅠㅠ',\n",
       "  '외장하드, 저장장치',\n",
       "  '3'],\n",
       " ['삼성전자 주가가 왜 떨어지죠?',\n",
       "  'https://kin.naver.com/qna/detail.naver?d1id=4&dirId=408&docId=476469656&qb=7IK87ISx7KCE7J6Q&enc=utf8',\n",
       "  '... 삼성전자 주가가 떨어진다는 뉴스를 봤는데 용어가 너무 어려워 이해에 어려움이... 삼성전자 주가가 왜 떨어지죠? 최근 삼성전자 주가가 떨어진 이유는 여러 가지가 있을 수...',\n",
       "  '경제 정책, 제도',\n",
       "  '8'],\n",
       " ['삼성전자 사업 대해서',\n",
       "  'https://kin.naver.com/qna/detail.naver?d1id=11&dirId=1118&docId=480109198&qb=7IK87ISx7KCE7J6Q&enc=utf8',\n",
       "  '삼성전자 MX 사업부는 어떤 업무를 한가요? 삼성전자 MX 사업부는 Mobile eXperience의... 즉, 삼성전자의 대표적 모바일 제품들의 연구 개발과 생산 및 판매를 담당하며...',\n",
       "  '전기, 전자 공학',\n",
       "  '1'],\n",
       " ['삼성전자 서비스센터 예약',\n",
       "  'https://kin.naver.com/qna/detail.naver?d1id=1&dirId=107040201&docId=475043882&qb=7IK87ISx7KCE7J6Q&enc=utf8',\n",
       "  '삼성전자 서비스 센터 예약하는 사이트가 있나요? 노트북... 온라인 예약 방법 - 삼성전자 서비스 공식 홈페이지에... 참고해주세요! [삼성전자 서비스센터 예약 자세히 알아보기]',\n",
       "  '삼성',\n",
       "  '6'],\n",
       " ['삼성전자 주가 하락과 상승의 이유는?',\n",
       "  'https://kin.naver.com/qna/detail.naver?d1id=4&dirId=40102&docId=476769663&qb=7IK87ISx7KCE7J6Q&enc=utf8',\n",
       "  '... 삼성전자의 주가가 2021년 즈음부터 하락해서 1년 좀... 삼성전자의 주가가 2021년 즈음부터 하락해서 1년 좀 넘는... 삼성전자의 주가가 2021년부터 하락했던 이유는, 반도체...',\n",
       "  '주식, 증권',\n",
       "  '10'],\n",
       " ['삼성전자서비스 센터에 갈 때',\n",
       "  'https://kin.naver.com/qna/detail.naver?d1id=8&dirId=814&docId=437422316&qb=7IK87ISx7KCE7J6Q&enc=utf8',\n",
       "  '삼성전자 서비스 센터에 갈 때는 일반적으로 예약을 하고가야 하나요? 그리고... 삼성전자 서비스센터를 직접 방문하는 것은 따로 예약시스템이 없으며 현장에서 번호표를...',\n",
       "  '기타',\n",
       "  '3'],\n",
       " ['삼성전자의 렌탈 서비스 종류는 어떤 게...',\n",
       "  'https://kin.naver.com/qna/detail.naver?d1id=5&dirId=501&docId=480491462&qb=7IK87ISx7KCE7J6Q&enc=utf8',\n",
       "  '삼성전자렌탈에 대해 아래 내용이 궁금해요. 1. 삼성전자의 렌탈 서비스 종류는 어떤 게 있나요? 2. 삼성전자 렌탈 서비스의 이용 방법은 어떻게 되나요? 3. 삼성전자 렌탈...',\n",
       "  '가전제품',\n",
       "  '3'],\n",
       " ['삼성전자 배당금',\n",
       "  'https://kin.naver.com/qna/detail.naver?d1id=4&dirId=40102&docId=469870616&qb=7IK87ISx7KCE7J6Q&enc=utf8',\n",
       "  '가지고있던 삼성전자 주식을 3.29일에 매도해도 배당금을 받을수있나요 배당락일이... 삼성전자 분기 배당기준일은 2024년3월31일 입니다. 배당락일은 3월28일 이므로...',\n",
       "  '주식, 증권',\n",
       "  '5'],\n",
       " ['2024 삼성전자 5급 채용 일정',\n",
       "  'https://kin.naver.com/qna/detail.naver?d1id=4&dirId=40609&docId=466096204&qb=7IK87ISx7KCE7J6Q&enc=utf8',\n",
       "  '2024 삼성전자 DS 5급 채용 일정 언제쯤 나올까요..? 3급 채용은 어제 뜬 것 같던데... 삼성전자 DS 5급 하반기 채용은 2024년 11월 11일에 서류 접수를 시작하였습니다. 11/11...',\n",
       "  '생산, 기술',\n",
       "  '4']]"
      ]
     },
     "execution_count": 109,
     "metadata": {},
     "output_type": "execute_result"
    }
   ],
   "source": [
    "data"
   ]
  },
  {
   "cell_type": "code",
   "execution_count": null,
   "id": "5c73cd06-34c1-4f9c-99ea-0f0c1f40ae75",
   "metadata": {},
   "outputs": [],
   "source": []
  }
 ],
 "metadata": {
  "kernelspec": {
   "display_name": "Python [conda env:crawling_class]",
   "language": "python",
   "name": "conda-env-crawling_class-py"
  },
  "language_info": {
   "codemirror_mode": {
    "name": "ipython",
    "version": 3
   },
   "file_extension": ".py",
   "mimetype": "text/x-python",
   "name": "python",
   "nbconvert_exporter": "python",
   "pygments_lexer": "ipython3",
   "version": "3.8.5"
  }
 },
 "nbformat": 4,
 "nbformat_minor": 5
}
