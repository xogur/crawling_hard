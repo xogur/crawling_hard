{
 "cells": [
  {
   "cell_type": "code",
   "execution_count": 31,
   "id": "6a996044-ca79-4eb3-8484-018433839762",
   "metadata": {},
   "outputs": [],
   "source": [
    "from selenium import webdriver\n",
    "from selenium.webdriver.common.by import By\n",
    "import time\n",
    "from selenium.webdriver.support.ui import WebDriverWait\n",
    "from selenium.webdriver.support import expected_conditions as EC\n",
    "from selenium.common.exceptions import NoSuchElementException, TimeoutException"
   ]
  },
  {
   "cell_type": "code",
   "execution_count": 33,
   "id": "4bd75ee0-bcd9-4304-8bc3-70382c266234",
   "metadata": {},
   "outputs": [],
   "source": [
    "driver = webdriver.Chrome()"
   ]
  },
  {
   "cell_type": "code",
   "execution_count": 34,
   "id": "2114384e-cf4b-495f-9ec5-a2e737488f9c",
   "metadata": {},
   "outputs": [],
   "source": [
    "driver.get(\"https://www.instagram.com/\")"
   ]
  },
  {
   "cell_type": "code",
   "execution_count": 37,
   "id": "6b13dc7d-4f1d-40bb-97a9-80c4876481f6",
   "metadata": {},
   "outputs": [],
   "source": [
    "driver.get(\"https://www.instagram.com/\")\n",
    "\n",
    "username_element = WebDriverWait(driver, 10).until(\n",
    "    EC.presence_of_element_located(\n",
    "        (By.NAME, \"username\")\n",
    "    )\n",
    ")"
   ]
  },
  {
   "cell_type": "code",
   "execution_count": 39,
   "id": "ed5a13b8-83e4-4955-8a12-00bb9904229c",
   "metadata": {},
   "outputs": [],
   "source": [
    "username_element.send_keys(\"snsk656@naver.com\")"
   ]
  },
  {
   "cell_type": "code",
   "execution_count": 41,
   "id": "dead79b0-4087-4b3b-b9be-06a35077aa9f",
   "metadata": {},
   "outputs": [],
   "source": [
    "pw_element = driver.find_element(By.NAME, \"password\")"
   ]
  },
  {
   "cell_type": "code",
   "execution_count": 43,
   "id": "18ddb93b-4f4c-422d-8218-d0ad2261f504",
   "metadata": {},
   "outputs": [],
   "source": [
    "pw_element.send_keys(\"snsk741852963\")"
   ]
  },
  {
   "cell_type": "code",
   "execution_count": 45,
   "id": "3fe2d6bc-292c-42ff-95e8-19a2c41c8667",
   "metadata": {},
   "outputs": [],
   "source": [
    "pw_element.submit() ## or 로그인 버튼을 찾아서 클릭"
   ]
  },
  {
   "cell_type": "code",
   "execution_count": 55,
   "id": "0743fadf-3d27-486d-94ad-11ee29a6017c",
   "metadata": {},
   "outputs": [
    {
     "data": {
      "text/plain": [
       "40"
      ]
     },
     "execution_count": 55,
     "metadata": {},
     "output_type": "execute_result"
    }
   ],
   "source": [
    "len(driver.find_elements(By.CSS_SELECTOR,\"div._aagu\"))"
   ]
  },
  {
   "cell_type": "code",
   "execution_count": 65,
   "id": "08fae3bc-0588-4deb-9718-7a8c1a861b6c",
   "metadata": {},
   "outputs": [
    {
     "data": {
      "text/plain": [
       "<selenium.webdriver.remote.webelement.WebElement (session=\"9a1c215c517f44da8cd1f13d7de0eef4\", element=\"f.89FA55DB6109763AE3FC85111F884A0C.d.7C88DD153F2A6EB3A04727AEFF7A9868.e.730\")>"
      ]
     },
     "execution_count": 65,
     "metadata": {},
     "output_type": "execute_result"
    }
   ],
   "source": [
    "driver.find_elements(By.CSS_SELECTOR,\"div._aagu\")[0]"
   ]
  },
  {
   "cell_type": "code",
   "execution_count": 81,
   "id": "cd68a86f-6479-4ef6-b1b3-d1020815a149",
   "metadata": {},
   "outputs": [],
   "source": [
    "a = driver.find_elements(By.CSS_SELECTOR,\"div.x9f619 a\")[0]"
   ]
  },
  {
   "cell_type": "code",
   "execution_count": 83,
   "id": "83d442c3-745c-46f9-a179-60815978fbda",
   "metadata": {},
   "outputs": [],
   "source": [
    "a.click()"
   ]
  },
  {
   "cell_type": "code",
   "execution_count": null,
   "id": "cb272b28-e922-4f5a-bed0-5fe5a2ff6268",
   "metadata": {},
   "outputs": [],
   "source": []
  }
 ],
 "metadata": {
  "kernelspec": {
   "display_name": "Python [conda env:crawling_class]",
   "language": "python",
   "name": "conda-env-crawling_class-py"
  },
  "language_info": {
   "codemirror_mode": {
    "name": "ipython",
    "version": 3
   },
   "file_extension": ".py",
   "mimetype": "text/x-python",
   "name": "python",
   "nbconvert_exporter": "python",
   "pygments_lexer": "ipython3",
   "version": "3.8.5"
  }
 },
 "nbformat": 4,
 "nbformat_minor": 5
}
