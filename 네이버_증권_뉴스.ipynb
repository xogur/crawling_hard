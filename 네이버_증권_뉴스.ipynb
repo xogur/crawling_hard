{
 "cells": [
  {
   "cell_type": "code",
   "execution_count": 139,
   "id": "266d2813-3a3b-4ecd-b45c-5f1d38307b68",
   "metadata": {},
   "outputs": [],
   "source": [
    "import requests\n",
    "import pandas as pd\n",
    "import bs4\n",
    "from selenium import webdriver\n",
    "from selenium.webdriver.common.by import By\n",
    "import time"
   ]
  },
  {
   "cell_type": "code",
   "execution_count": 135,
   "id": "3726356a-cc48-4098-9576-dcf5a775ecc3",
   "metadata": {},
   "outputs": [],
   "source": [
    "driver = webdriver.Chrome()"
   ]
  },
  {
   "cell_type": "code",
   "execution_count": 137,
   "id": "257f9119-1c71-4664-90a8-0435046e5cab",
   "metadata": {},
   "outputs": [],
   "source": [
    "driver.get(\"https://finance.naver.com/news/mainnews.naver?date=2025-02-27&page=1\")"
   ]
  },
  {
   "cell_type": "code",
   "execution_count": 223,
   "id": "6b6faf60-ccbd-47e5-9235-fb96a05a4afd",
   "metadata": {},
   "outputs": [
    {
     "data": {
      "text/plain": [
       "20"
      ]
     },
     "execution_count": 223,
     "metadata": {},
     "output_type": "execute_result"
    }
   ],
   "source": [
    "len(driver.find_elements(By.CSS_SELECTOR, \"ul.newsList > li\"))"
   ]
  },
  {
   "cell_type": "code",
   "execution_count": 157,
   "id": "0ba0be33-bb55-4bb5-8b96-6697c7e510b8",
   "metadata": {},
   "outputs": [],
   "source": [
    "e = driver.find_elements(By.CSS_SELECTOR, \"ul.newsList > li\")[0]"
   ]
  },
  {
   "cell_type": "code",
   "execution_count": 171,
   "id": "43a89a05-6d4a-49e0-9ac5-6824e7b9183d",
   "metadata": {},
   "outputs": [
    {
     "data": {
      "text/plain": [
       "'https://n.news.naver.com/mnews/article/009/0005451321'"
      ]
     },
     "execution_count": 171,
     "metadata": {},
     "output_type": "execute_result"
    }
   ],
   "source": [
    "link = e.find_element(By.CSS_SELECTOR, \"a\").get_attribute(\"href\")"
   ]
  },
  {
   "cell_type": "code",
   "execution_count": 181,
   "id": "d09b927f-4684-4139-a1f2-eaba0e6b2640",
   "metadata": {},
   "outputs": [],
   "source": [
    "title = driver.find_elements(By.CSS_SELECTOR, \"ul.newsList > li > dl > dd.articleSubject\")[0].text.strip()"
   ]
  },
  {
   "cell_type": "code",
   "execution_count": 217,
   "id": "19ab0398-8567-4e69-be28-df7c84cc47d1",
   "metadata": {},
   "outputs": [
    {
     "data": {
      "text/plain": [
       "'테슬라 1주새 18% 떨어지자 개인 1억4000만弗 매수나서 팰런티어·코인베이스도 줍줍 서학개미 투자 성적은 부진 올들어 관련 ETF ..'"
      ]
     },
     "execution_count": 217,
     "metadata": {},
     "output_type": "execute_result"
    }
   ],
   "source": [
    "content = driver.find_elements(By.CSS_SELECTOR, \"ul.newsList > li > dl > dd.articleSummary\")[0].get_attribute(\"textContent\").split(\"\\n\")[1].strip()"
   ]
  },
  {
   "cell_type": "code",
   "execution_count": 219,
   "id": "7200d39e-048c-45da-b4c7-88889a87004c",
   "metadata": {},
   "outputs": [
    {
     "data": {
      "text/plain": [
       "'매일경제'"
      ]
     },
     "execution_count": 219,
     "metadata": {},
     "output_type": "execute_result"
    }
   ],
   "source": [
    "pres = driver.find_elements(By.CSS_SELECTOR, \"ul.newsList > li > dl > dd.articleSummary\")[0].get_attribute(\"textContent\").split(\"\\n\")[2].strip()"
   ]
  },
  {
   "cell_type": "code",
   "execution_count": 221,
   "id": "38323c5d-58bf-41ea-8f54-b5993ceea0ab",
   "metadata": {},
   "outputs": [
    {
     "data": {
      "text/plain": [
       "'2025-02-27 22:34:13'"
      ]
     },
     "execution_count": 221,
     "metadata": {},
     "output_type": "execute_result"
    }
   ],
   "source": [
    "date = driver.find_elements(By.CSS_SELECTOR, \"ul.newsList > li > dl > dd.articleSummary\")[0].get_attribute(\"textContent\").split(\"\\n\")[4].strip()"
   ]
  },
  {
   "cell_type": "code",
   "execution_count": 231,
   "id": "edc6c351-8c91-462c-b6b9-7b31cbae23fd",
   "metadata": {},
   "outputs": [],
   "source": [
    "i = 0\n",
    "data = []\n",
    "while True:\n",
    "    if i == 12 :\n",
    "        break\n",
    "\n",
    "    url = \"https://finance.naver.com/news/mainnews.naver?date=2025-02-27&page={}\".format(i)\n",
    "    driver.get(url)\n",
    "\n",
    "    for j in range(len(driver.find_elements(By.CSS_SELECTOR, \"ul.newsList > li\"))) :\n",
    "        e = driver.find_elements(By.CSS_SELECTOR, \"ul.newsList > li\")[j]\n",
    "        link = e.find_element(By.CSS_SELECTOR, \"a\").get_attribute(\"href\")\n",
    "        title = driver.find_elements(By.CSS_SELECTOR, \"ul.newsList > li > dl > dd.articleSubject\")[j].text.strip()\n",
    "        content = driver.find_elements(By.CSS_SELECTOR, \"ul.newsList > li > dl > dd.articleSummary\")[j].get_attribute(\"textContent\").split(\"\\n\")[1].strip()\n",
    "        pres = driver.find_elements(By.CSS_SELECTOR, \"ul.newsList > li > dl > dd.articleSummary\")[j].get_attribute(\"textContent\").split(\"\\n\")[2].strip()\n",
    "        date = driver.find_elements(By.CSS_SELECTOR, \"ul.newsList > li > dl > dd.articleSummary\")[j].get_attribute(\"textContent\").split(\"\\n\")[4].strip()\n",
    "    \n",
    "        data.append([title,link,content,pres,date])\n",
    "\n",
    "\n",
    "    i = i + 1"
   ]
  },
  {
   "cell_type": "code",
   "execution_count": 237,
   "id": "1c5d9bff-b3b2-4179-a63f-ef3ba9f37be3",
   "metadata": {},
   "outputs": [],
   "source": [
    "data = pd.DataFrame(data)"
   ]
  },
  {
   "cell_type": "code",
   "execution_count": 239,
   "id": "9a5d0363-7621-45f3-8d88-9f38a9ceccec",
   "metadata": {},
   "outputs": [
    {
     "data": {
      "text/html": [
       "<div>\n",
       "<style scoped>\n",
       "    .dataframe tbody tr th:only-of-type {\n",
       "        vertical-align: middle;\n",
       "    }\n",
       "\n",
       "    .dataframe tbody tr th {\n",
       "        vertical-align: top;\n",
       "    }\n",
       "\n",
       "    .dataframe thead th {\n",
       "        text-align: right;\n",
       "    }\n",
       "</style>\n",
       "<table border=\"1\" class=\"dataframe\">\n",
       "  <thead>\n",
       "    <tr style=\"text-align: right;\">\n",
       "      <th></th>\n",
       "      <th>0</th>\n",
       "      <th>1</th>\n",
       "      <th>2</th>\n",
       "      <th>3</th>\n",
       "      <th>4</th>\n",
       "    </tr>\n",
       "  </thead>\n",
       "  <tbody>\n",
       "    <tr>\n",
       "      <th>0</th>\n",
       "      <td>“역시 간 큰 개미들이네”…폭락장에 美 기술주 쓸어담는다는데, 얼마나</td>\n",
       "      <td>https://n.news.naver.com/mnews/article/009/000...</td>\n",
       "      <td>테슬라 1주새 18% 떨어지자 개인 1억4000만弗 매수나서 팰런티어·코인베이스도 ...</td>\n",
       "      <td>매일경제</td>\n",
       "      <td>2025-02-27 22:34:13</td>\n",
       "    </tr>\n",
       "    <tr>\n",
       "      <th>1</th>\n",
       "      <td>\"10만 원 더 나왔어요\"…껑충 뛴 난방비에 불만 속출</td>\n",
       "      <td>https://n.news.naver.com/mnews/article/057/000...</td>\n",
       "      <td>지난달 아파트 관리비 청구서 보고 놀란 분들 많으실 겁니다. 한두달 전보다 10만 ...</td>\n",
       "      <td>MBN</td>\n",
       "      <td>2025-02-27 20:12:11</td>\n",
       "    </tr>\n",
       "    <tr>\n",
       "      <th>2</th>\n",
       "      <td>이지스자산운용, 최대주주 지분 매각 추진...최대 25% 매물로</td>\n",
       "      <td>https://n.news.naver.com/mnews/article/008/000...</td>\n",
       "      <td>부동산 전문 자산 운용사 이지스자산운용의 최대주주이 지분 매각에 나선다. 태그얼롱(...</td>\n",
       "      <td>머니투데이</td>\n",
       "      <td>2025-02-27 19:32:13</td>\n",
       "    </tr>\n",
       "    <tr>\n",
       "      <th>3</th>\n",
       "      <td>이지스운용 최대주주 지분 매각 본격화[fn마켓워치]</td>\n",
       "      <td>https://n.news.naver.com/mnews/article/014/000...</td>\n",
       "      <td>이지스자산운용 최대주주(손화자, 12.4%) 보유 지분의 매각이 본격화됐다. 주요 ...</td>\n",
       "      <td>파이낸셜뉴스</td>\n",
       "      <td>2025-02-27 19:09:11</td>\n",
       "    </tr>\n",
       "    <tr>\n",
       "      <th>4</th>\n",
       "      <td>국민연금 기금운용위원회, 갑자기 취소된 이유는</td>\n",
       "      <td>https://n.news.naver.com/mnews/article/018/000...</td>\n",
       "      <td>이 기사는 2025년02월27일 17시56분에 마켓인 프리미엄 콘텐츠로 선공개 되었...</td>\n",
       "      <td>이데일리</td>\n",
       "      <td>2025-02-27 18:57:09</td>\n",
       "    </tr>\n",
       "    <tr>\n",
       "      <th>...</th>\n",
       "      <td>...</td>\n",
       "      <td>...</td>\n",
       "      <td>...</td>\n",
       "      <td>...</td>\n",
       "      <td>...</td>\n",
       "    </tr>\n",
       "    <tr>\n",
       "      <th>198</th>\n",
       "      <td>‘3월 4일 출범’ 대체거래소 넥스트레이드, 28개 증권사로 출발</td>\n",
       "      <td>https://n.news.naver.com/mnews/article/119/000...</td>\n",
       "      <td>국내 최초 대체거래소인 넥스트레이드는 다음 달 4일 출범부터 28개 증권사가 거래에...</td>\n",
       "      <td>데일리안</td>\n",
       "      <td>2025-02-27 04:14:15</td>\n",
       "    </tr>\n",
       "    <tr>\n",
       "      <th>199</th>\n",
       "      <td>[단독] 롯데건설, 본사사옥도 내놨다...유동성 확보 총력</td>\n",
       "      <td>https://n.news.naver.com/mnews/article/009/000...</td>\n",
       "      <td>잠원동 본사사옥 매각 초강수 5천억원 안팎 자금 확보 기대 유동성 리스크가 불거진 ...</td>\n",
       "      <td>매일경제</td>\n",
       "      <td>2025-02-27 01:08:06</td>\n",
       "    </tr>\n",
       "    <tr>\n",
       "      <th>200</th>\n",
       "      <td>롯데건설 잠원동 본사사옥 판다</td>\n",
       "      <td>https://n.news.naver.com/mnews/article/009/000...</td>\n",
       "      <td>유동성 확보 위해 매물로 5천억 안팎 자금확보 기대 유동성 리스크가 불거진 롯데건설...</td>\n",
       "      <td>매일경제</td>\n",
       "      <td>2025-02-27 01:01:06</td>\n",
       "    </tr>\n",
       "    <tr>\n",
       "      <th>201</th>\n",
       "      <td>뉴욕증시, 트럼프 감세 기대·엔비디아 실적 D-데이…상승 출발</td>\n",
       "      <td>https://n.news.naver.com/mnews/article/001/001...</td>\n",
       "      <td>김 현 연합인포맥스 통신원 = 뉴욕증시는 인공지능(AI) 미래를 가늠할 엔비디아 실...</td>\n",
       "      <td>연합뉴스</td>\n",
       "      <td>2025-02-27 00:59:56</td>\n",
       "    </tr>\n",
       "    <tr>\n",
       "      <th>202</th>\n",
       "      <td>'오너家' 유창수 유진證 CEO, 주가 부진 딛고 임기 20년 채울까</td>\n",
       "      <td>https://n.news.naver.com/mnews/article/629/000...</td>\n",
       "      <td>15년째 CEO 자리 지킨 오너경영인 내달 4번째 연임 임기 만료 호실적 와중에 엇...</td>\n",
       "      <td>더팩트</td>\n",
       "      <td>2025-02-27 00:01:44</td>\n",
       "    </tr>\n",
       "  </tbody>\n",
       "</table>\n",
       "<p>203 rows × 5 columns</p>\n",
       "</div>"
      ],
      "text/plain": [
       "                                          0  \\\n",
       "0    “역시 간 큰 개미들이네”…폭락장에 美 기술주 쓸어담는다는데, 얼마나   \n",
       "1            \"10만 원 더 나왔어요\"…껑충 뛴 난방비에 불만 속출   \n",
       "2       이지스자산운용, 최대주주 지분 매각 추진...최대 25% 매물로   \n",
       "3              이지스운용 최대주주 지분 매각 본격화[fn마켓워치]   \n",
       "4                 국민연금 기금운용위원회, 갑자기 취소된 이유는   \n",
       "..                                      ...   \n",
       "198    ‘3월 4일 출범’ 대체거래소 넥스트레이드, 28개 증권사로 출발   \n",
       "199        [단독] 롯데건설, 본사사옥도 내놨다...유동성 확보 총력   \n",
       "200                        롯데건설 잠원동 본사사옥 판다   \n",
       "201      뉴욕증시, 트럼프 감세 기대·엔비디아 실적 D-데이…상승 출발   \n",
       "202  '오너家' 유창수 유진證 CEO, 주가 부진 딛고 임기 20년 채울까   \n",
       "\n",
       "                                                     1  \\\n",
       "0    https://n.news.naver.com/mnews/article/009/000...   \n",
       "1    https://n.news.naver.com/mnews/article/057/000...   \n",
       "2    https://n.news.naver.com/mnews/article/008/000...   \n",
       "3    https://n.news.naver.com/mnews/article/014/000...   \n",
       "4    https://n.news.naver.com/mnews/article/018/000...   \n",
       "..                                                 ...   \n",
       "198  https://n.news.naver.com/mnews/article/119/000...   \n",
       "199  https://n.news.naver.com/mnews/article/009/000...   \n",
       "200  https://n.news.naver.com/mnews/article/009/000...   \n",
       "201  https://n.news.naver.com/mnews/article/001/001...   \n",
       "202  https://n.news.naver.com/mnews/article/629/000...   \n",
       "\n",
       "                                                     2       3  \\\n",
       "0    테슬라 1주새 18% 떨어지자 개인 1억4000만弗 매수나서 팰런티어·코인베이스도 ...    매일경제   \n",
       "1    지난달 아파트 관리비 청구서 보고 놀란 분들 많으실 겁니다. 한두달 전보다 10만 ...     MBN   \n",
       "2    부동산 전문 자산 운용사 이지스자산운용의 최대주주이 지분 매각에 나선다. 태그얼롱(...   머니투데이   \n",
       "3    이지스자산운용 최대주주(손화자, 12.4%) 보유 지분의 매각이 본격화됐다. 주요 ...  파이낸셜뉴스   \n",
       "4    이 기사는 2025년02월27일 17시56분에 마켓인 프리미엄 콘텐츠로 선공개 되었...    이데일리   \n",
       "..                                                 ...     ...   \n",
       "198  국내 최초 대체거래소인 넥스트레이드는 다음 달 4일 출범부터 28개 증권사가 거래에...    데일리안   \n",
       "199  잠원동 본사사옥 매각 초강수 5천억원 안팎 자금 확보 기대 유동성 리스크가 불거진 ...    매일경제   \n",
       "200  유동성 확보 위해 매물로 5천억 안팎 자금확보 기대 유동성 리스크가 불거진 롯데건설...    매일경제   \n",
       "201  김 현 연합인포맥스 통신원 = 뉴욕증시는 인공지능(AI) 미래를 가늠할 엔비디아 실...    연합뉴스   \n",
       "202  15년째 CEO 자리 지킨 오너경영인 내달 4번째 연임 임기 만료 호실적 와중에 엇...     더팩트   \n",
       "\n",
       "                       4  \n",
       "0    2025-02-27 22:34:13  \n",
       "1    2025-02-27 20:12:11  \n",
       "2    2025-02-27 19:32:13  \n",
       "3    2025-02-27 19:09:11  \n",
       "4    2025-02-27 18:57:09  \n",
       "..                   ...  \n",
       "198  2025-02-27 04:14:15  \n",
       "199  2025-02-27 01:08:06  \n",
       "200  2025-02-27 01:01:06  \n",
       "201  2025-02-27 00:59:56  \n",
       "202  2025-02-27 00:01:44  \n",
       "\n",
       "[203 rows x 5 columns]"
      ]
     },
     "execution_count": 239,
     "metadata": {},
     "output_type": "execute_result"
    }
   ],
   "source": [
    "data"
   ]
  },
  {
   "cell_type": "code",
   "execution_count": null,
   "id": "4c4a5f5e-0028-443f-9a0d-03fa11d93ed2",
   "metadata": {},
   "outputs": [],
   "source": []
  }
 ],
 "metadata": {
  "kernelspec": {
   "display_name": "Python [conda env:crawling_class]",
   "language": "python",
   "name": "conda-env-crawling_class-py"
  },
  "language_info": {
   "codemirror_mode": {
    "name": "ipython",
    "version": 3
   },
   "file_extension": ".py",
   "mimetype": "text/x-python",
   "name": "python",
   "nbconvert_exporter": "python",
   "pygments_lexer": "ipython3",
   "version": "3.8.5"
  }
 },
 "nbformat": 4,
 "nbformat_minor": 5
}
