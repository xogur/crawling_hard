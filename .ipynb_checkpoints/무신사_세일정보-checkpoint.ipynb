{
 "cells": [
  {
   "cell_type": "code",
   "execution_count": 11,
   "id": "c3700e83-a4c7-437b-a03e-e3babe81402b",
   "metadata": {},
   "outputs": [],
   "source": [
    "from selenium import webdriver\n",
    "from selenium.webdriver.common.keys import Keys\n",
    "from selenium.webdriver.common.by import By\n",
    "import pyperclip\n",
    "import time\n",
    "import requests\n",
    "\n",
    "driver = webdriver.Chrome()\n",
    "driver.get(\"https://www.musinsa.com/mypage\")\n",
    "time.sleep(1)\n",
    "\n",
    "driver.find_element(By.CSS_SELECTOR, \"#__next > div > div.SignInUp__Container-sc-1wbn3h6-0.hjEKVr > div > a > span\").click()\n",
    "time.sleep(1)\n",
    "\n",
    "driver.find_element(By.CSS_SELECTOR, \"#commonLayoutContents > section > div.login-v2-member > div > div > a.login-v2-button__item.login-v2-button__item--kakao.gtm-click-button\").click()\n",
    "time.sleep(1)\n",
    "\n",
    "id = driver.find_element(By.CSS_SELECTOR, '#loginId--1')\n",
    "pyperclip.copy(your_id)\n",
    "id.send_keys(Keys.CONTROL, 'v')\n",
    "time.sleep(1)\n",
    "\n",
    "pw = driver.find_element(By.CSS_SELECTOR, '#password--2')\n",
    "pyperclip.copy(your_pw)\n",
    "pw.send_keys(Keys.CONTROL, 'v')\n",
    "time.sleep(1)\n",
    "\n",
    "\n",
    "driver.find_element(By.CSS_SELECTOR, \"#mainContent > div > div > form > div.confirm_btn > button.btn_g.highlight.submit\").click()\n"
   ]
  },
  {
   "cell_type": "code",
   "execution_count": 8,
   "id": "358c3056-c4bb-45fb-b640-790db8969266",
   "metadata": {},
   "outputs": [],
   "source": [
    "driver.find_element(By.CSS_SELECTOR, \"#commonLayoutContents > section > div.login-v2-member > div > div > a.login-v2-button__item.login-v2-button__item--kakao.gtm-click-button\").click()"
   ]
  },
  {
   "cell_type": "code",
   "execution_count": 3,
   "id": "6c733988-d8e0-4959-8489-698b02e2969b",
   "metadata": {},
   "outputs": [],
   "source": [
    "your_id = \"snsk656@naver.com\"\n",
    "your_pw = \"q1w2e3r4\""
   ]
  },
  {
   "cell_type": "code",
   "execution_count": 9,
   "id": "6ceb43c9-4c18-4abf-a581-dd3b73d920f6",
   "metadata": {},
   "outputs": [],
   "source": [
    "id = driver.find_element(By.CSS_SELECTOR, '#loginId--1')\n",
    "pyperclip.copy(your_id)\n",
    "id.send_keys(Keys.CONTROL, 'v')\n",
    "time.sleep(1)\n",
    "\n",
    "pw = driver.find_element(By.CSS_SELECTOR, '#password--2')\n",
    "pyperclip.copy(your_pw)\n",
    "pw.send_keys(Keys.CONTROL, 'v')\n",
    "time.sleep(1)\n",
    "\n",
    "\n",
    "driver.find_element(By.CSS_SELECTOR, \"#mainContent > div > div > form > div.confirm_btn > button.btn_g.highlight.submit\").click()"
   ]
  },
  {
   "cell_type": "code",
   "execution_count": null,
   "id": "fa58b114-760b-4ef0-9323-8936378948e1",
   "metadata": {},
   "outputs": [],
   "source": []
  }
 ],
 "metadata": {
  "kernelspec": {
   "display_name": "crawling",
   "language": "python",
   "name": "crawling"
  },
  "language_info": {
   "codemirror_mode": {
    "name": "ipython",
    "version": 3
   },
   "file_extension": ".py",
   "mimetype": "text/x-python",
   "name": "python",
   "nbconvert_exporter": "python",
   "pygments_lexer": "ipython3",
   "version": "3.12.9"
  }
 },
 "nbformat": 4,
 "nbformat_minor": 5
}
