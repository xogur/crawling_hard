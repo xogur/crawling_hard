{
 "cells": [
  {
   "cell_type": "code",
   "execution_count": 1,
   "id": "819e4fdb-72e6-41bb-a501-41f9fa5fe33e",
   "metadata": {},
   "outputs": [],
   "source": [
    "import requests\n",
    "import re, json\n",
    "from bs4 import BeautifulSoup\n",
    "import pandas as pd\n",
    "from selenium import webdriver\n",
    "from selenium.webdriver.common.keys import Keys\n",
    "from selenium.webdriver.common.by import By\n",
    "import pyperclip\n",
    "import time\n",
    "import requests\n",
    "import json,re\n",
    "import base64"
   ]
  },
  {
   "cell_type": "code",
   "execution_count": 2,
   "id": "752256fe-9456-45f9-91f1-8ab343835bb4",
   "metadata": {},
   "outputs": [],
   "source": [
    "캐주얼 = 8\n",
    "미니멀 = 5"
   ]
  },
  {
   "cell_type": "code",
   "execution_count": 124,
   "id": "5960f20a-493c-45d4-a7ad-83e0948a784b",
   "metadata": {},
   "outputs": [],
   "source": [
    "import requests\n",
    "cookies = {\n",
    "    '_gf': 'A',\n",
    "    'tr[vid]': '67dcc9ed80d478.78189875',\n",
    "    'tr[vd]': '1742522861',\n",
    "    '_ga': 'GA1.1.2014950775.1742522862',\n",
    "    '_gcl_au': '1.1.1173424347.1742522862',\n",
    "    '_kmpid': 'km|musinsa.com|1742522862391|8bed8223-fe1b-4702-a9ff-df8d0ca43824',\n",
    "    '_fbp': 'fb.1.1742522862889.61970195871643448',\n",
    "    '_fwb': '1557zuEgyrlkclzlKZTqlUc.1742522862899',\n",
    "    '_pin_unauth': 'dWlkPU9UWTRaVFZtWXpJdE5XVmlPQzAwWW1WakxXSXpNVFl0TlRGalkyVXhOekV6T0dJNQ',\n",
    "    '_hjSessionUser_1491926': 'eyJpZCI6IjM4YmQ2OThkLTMyY2MtNTIxNi1hOWNmLTFmN2MzN2E4ZTI0NiIsImNyZWF0ZWQiOjE3NDI1MjI4NjI5MTcsImV4aXN0aW5nIjp0cnVlfQ==',\n",
    "    '_tt_enable_cookie': '1',\n",
    "    '_ttp': '01JPV7AKAA8M0D5JH5FH4N16B3_.tt.1',\n",
    "    'cart_no': 'x4cYG0jKxoPy11Hca%2F4hvNL%2FJlQrtTNAe1nKIT3RZlY%3D',\n",
    "    '_hjSession_1491926': 'eyJpZCI6IjRlODg4NDg4LTA5MjEtNGZiZS04NmRiLWRmYWNlMTkyNDVmNSIsImMiOjE3NDM1OTUwNzA3MzEsInMiOjAsInIiOjAsInNiIjowLCJzciI6MCwic2UiOjAsImZzIjowLCJzcCI6MH0=',\n",
    "    'ab.storage.deviceId.1773491f-ef03-4901-baf8-dbf84e1de25b': '%7B%22g%22%3A%229fa9d012-1d4c-a302-ef6e-7adb457cf56e%22%2C%22c%22%3A1742522895703%2C%22l%22%3A1743596015889%7D',\n",
    "    'snap_interest': 'd86886a5-26eb-4d80-9393-d85a80de4666',\n",
    "    'ab.storage.sessionId.1773491f-ef03-4901-baf8-dbf84e1de25b': '%7B%22g%22%3A%22da9b78ff-b445-ac2c-37b1-9eb2b76e7e69%22%2C%22e%22%3A1743597831729%2C%22c%22%3A1743596015888%2C%22l%22%3A1743596031729%7D',\n",
    "    'tr[vt]': '1743596273',\n",
    "    'tr[vc]': '2',\n",
    "    'tr[pv]': '2',\n",
    "    'cto_bundle': 'NR4Rp19DWXB3OTN4bXRnSmJmOW5GNmozRGRTSnN3dkxhN0dNZ1E0JTJGYmlLQTVLOE43UHY1MGhmc1FDUG9kc3RFa3olMkJBN2FlVHVScTJtb0hocDF6SyUyRnRDZnM0c1ZTc0d3OHlLa1RNNWpsZmdaNklKZGVaR21RYktYYWVIOFNOaGs0RDFUSnJ4V2lrbG1JcHVJN0ZZelB6YzNFQ0ElM0QlM0Q',\n",
    "    'AMP_74a056ea4a': 'JTdCJTIyZGV2aWNlSWQlMjIlM0ElMjIyMjNkZmIxNC1hNGVhLTRlNmQtYjY3ZS02YzhjODAzYWFlMGElMjIlMkMlMjJzZXNzaW9uSWQlMjIlM0ExNzQzNTk1ODE1MjMxJTJDJTIyb3B0T3V0JTIyJTNBZmFsc2UlN0Q=',\n",
    "    '_ga_8PEGV51YTJ': 'GS1.1.1743595069.4.1.1743596397.48.0.0',\n",
    "    'AMP_TLDTEST': 'MQ==',\n",
    "}\n",
    "\n",
    "headers = {\n",
    "    'accept': 'application/json',\n",
    "    'accept-language': 'ko-KR,ko;q=0.9,en-US;q=0.8,en;q=0.7',\n",
    "    'authorization': 'Bearer null',\n",
    "    'origin': 'https://www.musinsa.com',\n",
    "    'priority': 'u=1, i',\n",
    "    'referer': 'https://www.musinsa.com/',\n",
    "    'sec-ch-ua': '\"Chromium\";v=\"134\", \"Not:A-Brand\";v=\"24\", \"Google Chrome\";v=\"134\"',\n",
    "    'sec-ch-ua-mobile': '?0',\n",
    "    'sec-ch-ua-platform': '\"Windows\"',\n",
    "    'sec-fetch-dest': 'empty',\n",
    "    'sec-fetch-mode': 'cors',\n",
    "    'sec-fetch-site': 'same-site',\n",
    "    'user-agent': 'Mozilla/5.0 (Windows NT 10.0; Win64; x64) AppleWebKit/537.36 (KHTML, like Gecko) Chrome/134.0.0.0 Safari/537.36',\n",
    "    # 'cookie': '_gf=A; tr[vid]=67dcc9ed80d478.78189875; tr[vd]=1742522861; _ga=GA1.1.2014950775.1742522862; _gcl_au=1.1.1173424347.1742522862; _kmpid=km|musinsa.com|1742522862391|8bed8223-fe1b-4702-a9ff-df8d0ca43824; _fbp=fb.1.1742522862889.61970195871643448; _fwb=1557zuEgyrlkclzlKZTqlUc.1742522862899; _pin_unauth=dWlkPU9UWTRaVFZtWXpJdE5XVmlPQzAwWW1WakxXSXpNVFl0TlRGalkyVXhOekV6T0dJNQ; _hjSessionUser_1491926=eyJpZCI6IjM4YmQ2OThkLTMyY2MtNTIxNi1hOWNmLTFmN2MzN2E4ZTI0NiIsImNyZWF0ZWQiOjE3NDI1MjI4NjI5MTcsImV4aXN0aW5nIjp0cnVlfQ==; _tt_enable_cookie=1; _ttp=01JPV7AKAA8M0D5JH5FH4N16B3_.tt.1; cart_no=x4cYG0jKxoPy11Hca%2F4hvNL%2FJlQrtTNAe1nKIT3RZlY%3D; _hjSession_1491926=eyJpZCI6IjRlODg4NDg4LTA5MjEtNGZiZS04NmRiLWRmYWNlMTkyNDVmNSIsImMiOjE3NDM1OTUwNzA3MzEsInMiOjAsInIiOjAsInNiIjowLCJzciI6MCwic2UiOjAsImZzIjowLCJzcCI6MH0=; ab.storage.deviceId.1773491f-ef03-4901-baf8-dbf84e1de25b=%7B%22g%22%3A%229fa9d012-1d4c-a302-ef6e-7adb457cf56e%22%2C%22c%22%3A1742522895703%2C%22l%22%3A1743596015889%7D; snap_interest=d86886a5-26eb-4d80-9393-d85a80de4666; ab.storage.sessionId.1773491f-ef03-4901-baf8-dbf84e1de25b=%7B%22g%22%3A%22da9b78ff-b445-ac2c-37b1-9eb2b76e7e69%22%2C%22e%22%3A1743597831729%2C%22c%22%3A1743596015888%2C%22l%22%3A1743596031729%7D; tr[vt]=1743596273; tr[vc]=2; tr[pv]=2; cto_bundle=NR4Rp19DWXB3OTN4bXRnSmJmOW5GNmozRGRTSnN3dkxhN0dNZ1E0JTJGYmlLQTVLOE43UHY1MGhmc1FDUG9kc3RFa3olMkJBN2FlVHVScTJtb0hocDF6SyUyRnRDZnM0c1ZTc0d3OHlLa1RNNWpsZmdaNklKZGVaR21RYktYYWVIOFNOaGs0RDFUSnJ4V2lrbG1JcHVJN0ZZelB6YzNFQ0ElM0QlM0Q; AMP_74a056ea4a=JTdCJTIyZGV2aWNlSWQlMjIlM0ElMjIyMjNkZmIxNC1hNGVhLTRlNmQtYjY3ZS02YzhjODAzYWFlMGElMjIlMkMlMjJzZXNzaW9uSWQlMjIlM0ExNzQzNTk1ODE1MjMxJTJDJTIyb3B0T3V0JTIyJTNBZmFsc2UlN0Q=; _ga_8PEGV51YTJ=GS1.1.1743595069.4.1.1743596397.48.0.0; AMP_TLDTEST=MQ==',\n",
    "}\n",
    "\n",
    "params = {\n",
    "    'formatTypes': 'POST,SHORTS',\n",
    "    'bodyHeightRange': '',\n",
    "    'bodyWeightRange': '',\n",
    "    'brands': '',\n",
    "    'contentTypes': '',\n",
    "    'genders': 'MEN',\n",
    "    'goodsCategories': '',\n",
    "    'seasonLabels': '4',\n",
    "    'sort': 'POPULAR',\n",
    "    'styleLabels': '5',\n",
    "    'tpoLabels': '',\n",
    "    'page': 1,\n",
    "    'size': '24',\n",
    "    'excludedSnapIds': id_list,\n",
    "}\n",
    "\n",
    "res = requests.get(\n",
    "    'https://content.musinsa.com/api2/content/snap/ui/v2/modules/discovery/sections',\n",
    "    params=params,\n",
    "    cookies=cookies,\n",
    "    headers=headers,\n",
    ")"
   ]
  },
  {
   "cell_type": "code",
   "execution_count": 122,
   "id": "1978cff8-8498-44b0-9274-158a4d6c892d",
   "metadata": {
    "scrolled": true
   },
   "outputs": [],
   "source": [
    "id_list = []\n",
    "for idd in json.loads(res.text)['data']['list'][0]['contents']:\n",
    "    id_list.append(idd['id'])"
   ]
  },
  {
   "cell_type": "code",
   "execution_count": 123,
   "id": "aac5fd79-7bd1-49d1-b98d-4e97f2dbf826",
   "metadata": {},
   "outputs": [
    {
     "data": {
      "text/plain": [
       "['1357007705369024593',\n",
       " '1356706777270127776',\n",
       " '1357241737938030006',\n",
       " '1357078415257190189',\n",
       " '1357074065554226483',\n",
       " '1357072889317707548',\n",
       " '1357019323531222451',\n",
       " '1357011903376897730',\n",
       " '1357008379111099999',\n",
       " '1357314396324118970',\n",
       " '1356962810467176473',\n",
       " '1357154489607471871',\n",
       " '1357203284957679483',\n",
       " '1357167767088089826',\n",
       " '1357315615365721911',\n",
       " '1357133936339933769',\n",
       " '1357305494999116405',\n",
       " '1357009828010112119',\n",
       " '1357004342051953168',\n",
       " '1356737312254284868',\n",
       " '1356672237461901153',\n",
       " '1357194221196495476',\n",
       " '1357297437466406156',\n",
       " '1356955743144530884']"
      ]
     },
     "execution_count": 123,
     "metadata": {},
     "output_type": "execute_result"
    }
   ],
   "source": [
    "id_list"
   ]
  },
  {
   "cell_type": "code",
   "execution_count": 125,
   "id": "6f0e1317-815a-4747-9c1c-1ef7e4dedfdd",
   "metadata": {},
   "outputs": [
    {
     "data": {
      "text/plain": [
       "[{'id': '1357193417568506850',\n",
       "  'type': 'IMAGE',\n",
       "  'path': 'https://image.msscdn.net/thumbnails/snap/images/2025/04/03/256afe22cc774faa967c78dfd5a0dc87.jpg'},\n",
       " {'id': '1357193417568506851',\n",
       "  'type': 'IMAGE',\n",
       "  'path': 'https://image.msscdn.net/thumbnails/snap/images/2025/04/03/27bd22ceb3c144c7bb8e6c5b44f64b80.jpg'},\n",
       " {'id': '1357193417568506852',\n",
       "  'type': 'IMAGE',\n",
       "  'path': 'https://image.msscdn.net/thumbnails/snap/images/2025/04/03/0cf87b1f3b0347119bd340c8814b8067.jpg'}]"
      ]
     },
     "execution_count": 125,
     "metadata": {},
     "output_type": "execute_result"
    }
   ],
   "source": [
    "json.loads(res.text)['data']['list'][0]['contents'][0]['medias']"
   ]
  },
  {
   "cell_type": "code",
   "execution_count": null,
   "id": "c58a2693-16f8-42ca-860a-2d790c00eae2",
   "metadata": {},
   "outputs": [],
   "source": [
    "# 스냅에서 첫번째 스냅 id 가져오기(id 하나만 가져오면 다 추출 할 수 있음)\n",
    "# 가져온 id를 통해 상세보기\n",
    "# 각 스냅 id별 상품넘버를 추출\n",
    "# 상품 넘버를 이용해 상품 상세보기\n",
    "# 해당 상품의 이름 및 이미지 추출\n",
    "\n",
    "# 리스트에는 각 상품의 이름과 스냅에 나온 수를 카운트, 색상 및 상품 이지지"
   ]
  },
  {
   "cell_type": "code",
   "execution_count": 39,
   "id": "a5ff0fb9-b5d5-4d50-8a7d-a2a6185abb2b",
   "metadata": {},
   "outputs": [],
   "source": [
    "import requests\n",
    "\n",
    "\n",
    "\n",
    "params = {\n",
    "    'formatTypes': 'POST,SHORTS',\n",
    "    'page': '1',\n",
    "    'size': '10',\n",
    "}\n",
    "\n",
    "response = requests.get(\n",
    "    'https://content.musinsa.com/api2/content/snap/v1/snaps/1356706777270127776/recommendations',\n",
    "    params=params,\n",
    "    cookies=cookies,\n",
    "    headers=headers,\n",
    ")"
   ]
  },
  {
   "cell_type": "code",
   "execution_count": 42,
   "id": "e1970972-5df4-43fe-8fdc-7527010a66cc",
   "metadata": {},
   "outputs": [
    {
     "data": {
      "text/plain": [
       "'4355520'"
      ]
     },
     "execution_count": 42,
     "metadata": {},
     "output_type": "execute_result"
    }
   ],
   "source": [
    "json.loads(response.text)['data']['list'][0]['goods'][0]['goodsNo']"
   ]
  },
  {
   "cell_type": "code",
   "execution_count": null,
   "id": "12481856-672f-4def-815b-35a119e3dee3",
   "metadata": {},
   "outputs": [],
   "source": []
  },
  {
   "cell_type": "code",
   "execution_count": 8,
   "id": "904607ee-f38f-4302-b8c7-81ec74f79858",
   "metadata": {},
   "outputs": [
    {
     "data": {
      "text/plain": [
       "<Response [200]>"
      ]
     },
     "execution_count": 8,
     "metadata": {},
     "output_type": "execute_result"
    }
   ],
   "source": [
    "import requests\n",
    "\n",
    "\n",
    "\n",
    "res = requests.get('https://www.musinsa.com/products/4355520', cookies=cookies, headers=headers)\n",
    "res"
   ]
  },
  {
   "cell_type": "code",
   "execution_count": 9,
   "id": "fe2d2d93-5c23-4a0b-a0d6-af04b675e7ed",
   "metadata": {
    "scrolled": true
   },
   "outputs": [
    {
     "data": {
      "text/plain": [
       "'<!DOCTYPE html><html lang=\"ko\"><head><meta charSet=\"utf-8\"/><title>주앙옴므(JUAN HOMME)  헨리넥 롱 슬리브 티셔츠 (블랙) - 사이즈 &amp; 후기 | 무신사</title><meta name=\"viewport\" content=\"width=device-width, initial-scale=1\"/><meta property=\"og:type\" content=\"product\"/><meta id=\"fbAddId\" property=\"fb:app_id\" content=\"648837775133366\"/><meta id=\"fbOgTitle\" property=\"og:title\" content=\"주앙옴므(JUAN HOMME)  헨리넥 롱 슬리브 티셔츠 (블랙) - 사이즈 &amp; 후기 | 무신사\"/><meta id=\"fbOgImage\" property=\"og:image\" content=\"https://image.msscdn.net/images/goods_img/20240821/4355520/4355520_17248080231327_500.jpg\"/><meta id=\"fbOgDescription\" property=\"og:description\" content=\"제품분류 : 상의 &gt; 긴소매 티셔츠 브랜드 : 주앙옴므(JUAN HOMME)  제품번호 : JUT027-BK 제품 : 헨리넥 롱 슬리브 티셔츠 (블랙) - 62,100\"/><meta id=\"fbOgUrl\" property=\"og:url\" content=\"https://www.musinsa.com/products/4355520\"/><link rel=\"canonical\" href=\"https://www.musinsa.com/products/4355520\"/><meta property=\"product:brand\" content=\"주앙옴므\"/><meta property=\"product:availability\" content=\"주문가능\"/><meta property=\"product:condition\" content=\"신규\"/><meta property=\"product:price:amount\" content=\"62100\"/><meta property=\"product:price:currency\" content=\"KRW\"/><meta property=\"product:retailer_item_id\" content=\"주식회사 콜렉티브원\"/><meta property=\"product:price:normal_price\" content=\"69000\"/><meta property=\"product:price:sale_rate\" content=\"10\"/><link rel=\"modulepreload\" href=\"https://static.msscdn.net/static/v2/pc/pdp/product-detail.js\"/><style>\\n          * {\\n            margin: 0;\\n            padding: 0;\\n            box-sizing: border-box;\\n          }\\n\\n          /* 스켈레톤 컨테이너 */\\n          .skeleton {\\n            display: flex;\\n            max-width: 1440px;\\n            height: 100vh;\\n            background-color: #fafafa;\\n          }\\n\\n          /* 좌측 섹션 */\\n          .skeleton__left-section {\\n            display: flex;\\n            flex-direction: column;\\n            width: calc(982 / 1440 * 100%);\\n            min-width: 428px;\\n            padding-left: 8px;\\n            background-color: #fafafa;\\n          }\\n\\n          /* 이미지 영역 래퍼 */\\n          .skeleton__image-wrap {\\n            display: flex;\\n            justify-content: center;\\n            overflow: hidden;\\n            width: 100%;\\n            height: 715px;\\n            padding: 16px 0;\\n            background: rgb(250, 250, 250);\\n            box-sizing: content-box;\\n          }\\n\\n          /* 좌측 이미지 섬네일 컨테이너 */\\n          .skeleton__left-images {\\n            display: flex;\\n            flex-direction: column;\\n            gap: 4px;\\n            width: 72px;\\n            height: 100%;\\n            margin-right: 16px;\\n          }\\n\\n          /* 이미지 박스 */\\n          .skeleton__image-box {\\n            aspect-ratio: 72 / 86;\\n          }\\n\\n          /* 중앙 이미지 */\\n          .skeleton__center-image {\\n            width: 100%;\\n            max-width: 596px;\\n          }\\n\\n          /* 우측 섹션 */\\n          .skeleton__right-section {\\n            flex: 1 1 0%;\\n            min-width: 300px;\\n            padding: 0px 16px;\\n            margin: 16px 16px 0;\\n            background-color: #f5f5f5;\\n          }\\n\\n          /* 하단 섹션 */\\n          .skeleton__bottom-section {\\n            width: 100%;\\n            margin-top: 4%;\\n            padding: 2% 0;\\n          }\\n\\n          /* 박스 컨테이너 */\\n          .skeleton__box {\\n            align-items: center;\\n          }\\n\\n          /* 스켈레톤 아이템 (로딩 효과) */\\n          .skeleton__item {\\n            overflow: hidden;\\n            position: relative;\\n            box-sizing: border-box;\\n            background-color: #ebebeb;\\n            transform: translate3d(0, 0, 0);\\n          }\\n          \\n          @media (max-width: 1162px) {\\n            .skeleton__image-wrap {\\n                height: auto;\\n                aspect-ratio: 808 / 700;\\n            }\\n            .skeleton__left-images {\\n              width: 8.9%;\\n            }\\n            .skeleton__center-image {\\n              width: 74.2574%;\\n              height: auto;\\n              aspect-ratio: 596 / 700;\\n            }\\n          }\\n        <!-- -->\\n            /* 스켈레톤 로딩 애니메이션 */\\n            .skeleton__item::after {\\n              display: block;\\n              position: absolute;\\n              left: 0;\\n              top: 0;\\n              right: 0;\\n              bottom: 0;\\n              background-image: linear-gradient(90deg, #ebebeb, #f5f5f5, #ebebeb);\\n              transform: translateX(-100%);\\n              animation: move 1s linear infinite;\\n              content: &#x27;&#x27;;\\n            }\\n\\n            #root:not(:empty) ~ .skeleton {\\n              display: none;\\n            }\\n\\n            @keyframes move {\\n            0% {\\n              transform: translateX(-100%);\\n            }\\n            100% {\\n              transform: translateX(100%);\\n            }\\n          }\\n          </style><meta name=\"next-head-count\" content=\"20\"/><link href=\"https://static.msscdn.net/static/common/layout-pc/style.css\" type=\"text/css\" rel=\"stylesheet\"/><link href=\"https://static.msscdn.net/platform/css/common-mobile.css\" type=\"text/css\" rel=\"stylesheet\"/><link rel=\"stylesheet\" type=\"text/css\" href=\"https://static.msscdn.net/static/mds/2.0.0/mds.css\"/><link rel=\"icon\" href=\"/favicon.ico\"/><link rel=\"apple-touch-icon\" href=\"https://image.msscdn.net/skin/m_musinsa/images/apple-touch-icon-precomposed.png\"/><link rel=\"apple-touch-icon-precomposed\" href=\"https://image.msscdn.net/skin/m_musinsa/images/apple-touch-icon-precomposed_128.png\"/><link rel=\"apple-touch-icon-precomposed\" href=\"https://image.msscdn.net/skin/m_musinsa/images/apple-touch-icon-precomposed_152.png\" sizes=\"152x152\"/><link rel=\"apple-touch-icon-precomposed\" href=\"https://image.msscdn.net/skin/m_musinsa/images/apple-touch-icon-precomposed_180.png\" sizes=\"180x180\"/><style>\\n              #__next {\\n                height: 100%;\\n              }\\n            </style><script id=\"category-data\" data-nscript=\"beforeInteractive\">\\n        window.__MSS__ = window.__MSS__ || {};\\n        window.__MSS__.shared = {\"loggedIn\":false};\\n        window.__MSS__.config = {\"gender\":{\"syncQueryToCookie\":true},\"isMobile\":false,\"dataDog\":{\"sessionSampleRate\":0.01}};\\n        window.__MSS__.product = window.__MSS__.product || {};\\n        window.__MSS__.product.state = {\"goodsNo\":4355520,\"goodsNm\":\"헨리넥 롱 슬리브 티셔츠 (블랙)\",\"goodsNmEng\":\"\",\"thumbnailImageUrl\":\"/images/goods_img/20240821/4355520/4355520_17248080231327_500.jpg\",\"headDesc\":\"\",\"styleNo\":\"JUT027-BK\",\"sex\":[\"남성\"],\"sexCode\":2,\"brand\":\"juanhomme\",\"brandInfo\":{\"brand\":\"juanhomme\",\"brandName\":\"주앙옴므\",\"brandEnglishName\":\"JUAN HOMME\",\"brandNationCode\":\"korea\",\"brandNationName\":\"한국\",\"brandNationEnglishName\":\"KOREA\",\"brandLogoImage\":\"//image.musinsa.com/mfile_s01/_brand/free_medium/juanhomme.png?20240912111401\",\"brandWhiteLogoImage\":\"//image.musinsa.com/images/brand/white_logo_img/juanhomme.svg?20240912114246\",\"sinceYear\":2017,\"memo\":\"JUAN HOMME(주앙옴므)는 합리적이고 기능적인 미니멀리즘의 높은 퀄리티와 합리적인 가치를 추구하는 컨템포러리 브랜드이며, 미니멀리즘과 놈코어룩을 기반으로 기능성과 디테일이 녹아있는 데일리 웨어를 지향하는 브랜드입니다.\",\"isBrandExclusive\":false,\"isFlagship\":false},\"seasonYear\":\"\",\"season\":\"\",\"couponDcPrice\":6210,\"comId\":\"juanhomme\",\"specialtyCodes\":[],\"storeCodes\":[],\"goodsEventType\":\"N\",\"isRestictedUsePoint\":false,\"isClearance\":false,\"isPrePoint\":true,\"isGivenPoint\":true,\"isParallelImport\":false,\"deliveryDueType\":\"NONE\",\"deliveryDuePeriod\":0,\"isLimitedQuantity\":false,\"isLimitedTotalQuantity\":false,\"limitedMaxQuantity\":999,\"limitedMinQuantity\":1,\"isBuyForMember\":false,\"isAppGoods\":false,\"isOfflineGoods\":false,\"isFreeReturn\":false,\"giftCount\":0,\"deliveryDueDay\":null,\"isSalePeriod\":false,\"isSale\":false,\"saleStartDate\":null,\"saleEndDate\":null,\"isSellPeriod\":true,\"sellStartDate\":\"2024-09-03T11:00:00\",\"sellEndDate\":null,\"maxUsePointRate\":0.07,\"isVerify\":false,\"isPlusDelivery\":false,\"isPlusDeliveryArea\":false,\"isRestock\":true,\"isSoonOutOfStock\":false,\"isLimit\":false,\"isMusinsaMonopoly\":false,\"isOnlineMonopoly\":false,\"isFirst\":false,\"isInvitation\":false,\"isMusinsaDirectDelivery\":false,\"isMusinsaOfflineShopStock\":false,\"isIntangibleGoods\":false,\"isExclusiveMusinsaPay\":false,\"isExclusiveMusinsaHyundaiCard\":false,\"isGoodsStatsGraphShow\":true,\"isCumulativePurchaseShow\":true,\"isCustomOrderWithdrawal\":false,\"isRobotsNoIndex\":false,\"isLimitedDc\":false,\"isLimitedCoupon\":false,\"intangibleGoodsDeliveryType\":\"\",\"baseCategoryFullPath\":\"Clothing > 티셔츠 > 긴소매 티셔츠\",\"category\":{\"categoryDepth1Code\":\"001\",\"categoryDepth1Title\":\"상의\",\"categoryDepth1Name\":\"상의\",\"categoryDepth2Code\":\"001010\",\"categoryDepth2Title\":\"긴소매 티셔츠\",\"categoryDepth2Name\":\"긴소매 티셔츠\",\"categoryDepth3Code\":\"\",\"categoryDepth3Title\":\"\",\"categoryDepth3Name\":\"\",\"categoryDepth4Code\":\"\",\"categoryDepth4Title\":\"\",\"categoryDepth4Name\":\"\",\"storeCode\":\"\"},\"deliveryExpectedArrival\":[{\"mark\":true,\"expectedDate\":\"2025-04-07\",\"expectedPercent\":94,\"koreanWeek\":\"월\",\"cutOfDate\":null,\"orderDeadLine\":null,\"guideText\":\"\"},{\"mark\":false,\"expectedDate\":\"2025-04-08\",\"expectedPercent\":99,\"koreanWeek\":\"화\",\"cutOfDate\":null,\"orderDeadLine\":null,\"guideText\":\"\"}],\"deliveryDelay\":null,\"goodsImages\":[{\"kind\":\"D\",\"repYn\":true,\"bigYn\":true,\"width\":1500,\"height\":1800,\"seq\":5,\"imageUrl\":\"/images/prd_img/20240821/4355520/detail_4355520_17249067402056_500.jpg\"},{\"kind\":\"D\",\"repYn\":false,\"bigYn\":true,\"width\":1500,\"height\":1800,\"seq\":6,\"imageUrl\":\"/images/prd_img/20240821/4355520/detail_4355520_17249067511080_500.jpg\"},{\"kind\":\"D\",\"repYn\":false,\"bigYn\":true,\"width\":1500,\"height\":1800,\"seq\":7,\"imageUrl\":\"/images/prd_img/20240821/4355520/detail_4355520_17249067539316_500.jpg\"},{\"kind\":\"D\",\"repYn\":false,\"bigYn\":true,\"width\":1500,\"height\":1800,\"seq\":8,\"imageUrl\":\"/images/prd_img/20240821/4355520/detail_4355520_17249067571334_500.jpg\"}],\"labels\":[],\"goodsPrice\":{\"minPrice\":0,\"maxPrice\":62100,\"originPrice\":69000,\"salePrice\":62100,\"normalPrice\":69000,\"memberPrice\":null,\"discountRate\":10,\"type\":\"DEFAULT\",\"isSale\":true,\"savePoint\":60,\"savePointPercent\":0.1,\"partnerInformation\":null,\"goodsPrePoint\":60,\"memberDiscountAmount\":0,\"memberSavePointPercent\":0},\"musinsaHyundaiCardEvent\":{\"discountRate\":0.05,\"maxAmountOfDiscountRate\":30000},\"goodsLogisticsInfo\":{\"deliveryInfoName\":\"국내 배송\",\"courierName\":\"롯데택배\",\"businessDayOrderDeadlineHour\":9,\"defaultReleasePeriod\":3,\"isOverseasDelivery\":false,\"isTodayReleaseGoods\":false,\"isAvailableTimeToTodayRelease\":false,\"isAutoReturnShipping\":true,\"returnShippingCourierName\":\"롯데택배\",\"returnShippingZipCode\":\"16902\",\"returnShippingAddress\":\"경기 용인시 기흥구 보정동 1271\",\"returnShippingAddressDetail\":\"롯데택배 용인보정대리점\"},\"interestFreeCard\":null,\"isRaffle\":false,\"goodsSaleType\":\"SALE\",\"isTimeSale\":false,\"goodsReview\":{\"totalCount\":324,\"satisfactionScore\":4.9},\"isLimitedPoint\":false,\"goodsType\":\"P\",\"returnShippingFee\":{\"roundShippingFee\":6000,\"additionalFeeForJeju\":0,\"additionalFeeForOthers\":0},\"goodsMaterial\":{\"maxLowCount\":0,\"materials\":[]},\"goodsContents\":\"<div style=\\\\\"text-align:center\\\\\"><img alt=\\\\\"\\\\\" src=\\\\\"//image.msscdn.net/images/prd_img/20241024141437000739678596719d7bd002eb.jpg\\\\\"></div>\",\"similarNo\":4355520,\"baseCategory\":\"029001002\",\"isEnabledToQnA\":true,\"mdOpinion\":\"\",\"specDesc\":\"\",\"sizeType\":\"7073035\",\"isUseSize\":true,\"optKindCd\":\"CLOTHES\",\"company\":{\"name\":\"주식회사 콜렉티브원\",\"ceoName\":\"이원일\",\"businessNumber\":\"8278802982\",\"mailOrderReportNumber\":\"2024-서울강남-01037\",\"phoneNumber\":\"02-548-9598\",\"email\":\"poy8067@lofficiel-juan.kr\",\"address\":\"서울 서초구 신반포로45길 74 (화신빌딩)\",\"detailAddress\":\"5층 501호\"},\"isShowInventoryCount\":true,\"isOnlyGlobalGoods\":false,\"isCompanyBrandOfficial\":false,\"goodsDetailBanner\":{\"benefitBanner\":[{\"eventBannerId\":1402,\"eventBannerKind\":\"BENEFIT\",\"name\":\"첫 구매 20% 쿠폰 즉시 지급\",\"displayType\":\"APP\",\"displayTarget\":\"ALL\",\"displayLogin\":\"N\",\"imgLink\":\"/images/goodsdetail/banner/2025/01/13/f25554bc5ae04be9b18fb5edc1310586.png\",\"bannerTitle\":\"첫 구매 20% 쿠폰 즉시 지급\",\"bannerSubTitle\":\"\",\"buttonTitle\":\"혜택보기\",\"landingUrl\":\"https://www.musinsa.com/onboarding/firstbuy\",\"memo\":\"\",\"exposeContents\":[]}],\"marketingBanner\":null,\"goodsBanner\":null,\"commonEventBanner\":null,\"offlineStoreBanner\":null,\"normalEventBanner\":[],\"exposeBanner\":{\"eventBannerId\":1407,\"eventBannerKind\":\"EXPOSE\",\"name\":\"첫 구매 20% 쿠폰 받으러 가기\",\"displayType\":\"ALL\",\"displayTarget\":\"ALL\",\"displayLogin\":\"ALL\",\"imgLink\":\"\",\"bannerTitle\":\"\",\"bannerSubTitle\":\"\",\"buttonTitle\":\"\",\"landingUrl\":\"\",\"memo\":\"\",\"exposeContents\":[{\"title\":\"비로그인\",\"content\":\"첫 구매 20% 쿠폰 받으러 가기\",\"text\":\"첫 구매 20% 쿠폰 받으러 가기\",\"link\":\"https://www.musinsa.com/onboarding/firstbuy\"},{\"title\":\"첫구매\",\"content\":\"첫 구매 20% 쿠폰 받으러 가기\",\"text\":\"첫 구매 20% 쿠폰 받으러 가기\",\"link\":\"https://www.musinsa.com/onboarding/firstbuy\"}]}},\"genders\":[\"M\"],\"isGoodsFill\":false,\"goodsFillInfo\":null,\"seo\":{\"title\":\"주앙옴므(JUAN HOMME)  헨리넥 롱 슬리브 티셔츠 (블랙) - 사이즈 & 후기 | 무신사\",\"metaDescription\":\"주앙옴므(JUAN HOMME) 헨리넥 롱 슬리브 티셔츠 (블랙). 무신사에서 상품 특징, 사이즈, 배송, 가격 정보와 더불어 후기, 관련 상품 등 제품 관련 다양한 정보를 확인하세요.\",\"faceBookMetaDescription\":\"제품분류 : 상의 > 긴소매 티셔츠 브랜드 : 주앙옴므(JUAN HOMME)  제품번호 : JUT027-BK 제품 : 헨리넥 롱 슬리브 티셔츠 (블랙) - 62,100\"},\"point\":{\"memberPoint\":0,\"isOnePoint\":false},\"rankingRecord\":{\"flatRankingRecords\":[],\"groupedRankingRecords\":[]},\"featureFlags\":{\"APPLY_NEW_API\":{\"key\":\"APPLY_NEW_API\",\"comment\":\"신규 API 적용을 위한 피처플래그\",\"isAvailable\":true},\"CURATION\":{\"key\":\"CURATION\",\"comment\":\"큐레이션 플래그\",\"isAvailable\":true},\"DISPLAY_MAX_BENEFIT_PRICE\":{\"key\":\"DISPLAY_MAX_BENEFIT_PRICE\",\"comment\":\"최대 혜택가 노출 플래그\",\"isAvailable\":true},\"EASY-PAY\":{\"key\":\"EASY-PAY\",\"comment\":\"빠른결제 on/off\",\"isAvailable\":true},\"MOLOCO-RECOMMEND\":{\"key\":\"MOLOCO-RECOMMEND\",\"comment\":\"광고추천 on/off\",\"isAvailable\":true},\"NEW_MEMBER_LEVEL\":{\"key\":\"NEW_MEMBER_LEVEL\",\"comment\":\"신규 회원제 개편 적용\",\"isAvailable\":true},\"Q_AND_A\":{\"key\":\"Q_AND_A\",\"comment\":\"문의하기 플래그\",\"isAvailable\":true},\"RECOMMEND\":{\"key\":\"RECOMMEND\",\"comment\":\"추천영역 on/off\",\"isAvailable\":true}}};\\n\\n        window.__MSS_FE__ = window.__MSS_FE__ || {};\\n        window.__MSS_FE__.shared = {\"loggedIn\":false};\\n        window.__MSS_FE__.config = {\"gender\":{\"syncQueryToCookie\":false},\"isMobile\":false,\"dataDog\":{\"sessionSampleRate\":0.01}};\\n        window.__MSS_FE__.product = window.__MSS_FE__.product || {};\\n        window.__MSS_FE__.product.state = {\"goodsNo\":4355520,\"goodsNm\":\"헨리넥 롱 슬리브 티셔츠 (블랙)\",\"goodsNmEng\":\"\",\"thumbnailImageUrl\":\"/images/goods_img/20240821/4355520/4355520_17248080231327_500.jpg\",\"headDesc\":\"\",\"styleNo\":\"JUT027-BK\",\"sex\":[\"남성\"],\"sexCode\":2,\"brand\":\"juanhomme\",\"brandInfo\":{\"brand\":\"juanhomme\",\"brandName\":\"주앙옴므\",\"brandEnglishName\":\"JUAN HOMME\",\"brandNationCode\":\"korea\",\"brandNationName\":\"한국\",\"brandNationEnglishName\":\"KOREA\",\"brandLogoImage\":\"//image.musinsa.com/mfile_s01/_brand/free_medium/juanhomme.png?20240912111401\",\"brandWhiteLogoImage\":\"//image.musinsa.com/images/brand/white_logo_img/juanhomme.svg?20240912114246\",\"sinceYear\":2017,\"memo\":\"JUAN HOMME(주앙옴므)는 합리적이고 기능적인 미니멀리즘의 높은 퀄리티와 합리적인 가치를 추구하는 컨템포러리 브랜드이며, 미니멀리즘과 놈코어룩을 기반으로 기능성과 디테일이 녹아있는 데일리 웨어를 지향하는 브랜드입니다.\",\"isBrandExclusive\":false,\"isFlagship\":false},\"seasonYear\":\"\",\"season\":\"\",\"couponDcPrice\":6210,\"comId\":\"juanhomme\",\"specialtyCodes\":[],\"storeCodes\":[],\"goodsEventType\":\"N\",\"isRestictedUsePoint\":false,\"isClearance\":false,\"isPrePoint\":true,\"isGivenPoint\":true,\"isParallelImport\":false,\"deliveryDueType\":\"NONE\",\"deliveryDuePeriod\":0,\"isLimitedQuantity\":false,\"isLimitedTotalQuantity\":false,\"limitedMaxQuantity\":999,\"limitedMinQuantity\":1,\"isBuyForMember\":false,\"isAppGoods\":false,\"isOfflineGoods\":false,\"isFreeReturn\":false,\"giftCount\":0,\"deliveryDueDay\":null,\"isSalePeriod\":false,\"isSale\":false,\"saleStartDate\":null,\"saleEndDate\":null,\"isSellPeriod\":true,\"sellStartDate\":\"2024-09-03T11:00:00\",\"sellEndDate\":null,\"maxUsePointRate\":0.07,\"isVerify\":false,\"isPlusDelivery\":false,\"isPlusDeliveryArea\":false,\"isRestock\":true,\"isSoonOutOfStock\":false,\"isLimit\":false,\"isMusinsaMonopoly\":false,\"isOnlineMonopoly\":false,\"isFirst\":false,\"isInvitation\":false,\"isMusinsaDirectDelivery\":false,\"isMusinsaOfflineShopStock\":false,\"isIntangibleGoods\":false,\"isExclusiveMusinsaPay\":false,\"isExclusiveMusinsaHyundaiCard\":false,\"isGoodsStatsGraphShow\":true,\"isCumulativePurchaseShow\":true,\"isCustomOrderWithdrawal\":false,\"isRobotsNoIndex\":false,\"isLimitedDc\":false,\"isLimitedCoupon\":false,\"intangibleGoodsDeliveryType\":\"\",\"baseCategoryFullPath\":\"Clothing > 티셔츠 > 긴소매 티셔츠\",\"category\":{\"categoryDepth1Code\":\"001\",\"categoryDepth1Title\":\"상의\",\"categoryDepth1Name\":\"상의\",\"categoryDepth2Code\":\"001010\",\"categoryDepth2Title\":\"긴소매 티셔츠\",\"categoryDepth2Name\":\"긴소매 티셔츠\",\"categoryDepth3Code\":\"\",\"categoryDepth3Title\":\"\",\"categoryDepth3Name\":\"\",\"categoryDepth4Code\":\"\",\"categoryDepth4Title\":\"\",\"categoryDepth4Name\":\"\",\"storeCode\":\"\"},\"deliveryExpectedArrival\":[{\"mark\":true,\"expectedDate\":\"2025-04-07\",\"expectedPercent\":94,\"koreanWeek\":\"월\",\"cutOfDate\":null,\"orderDeadLine\":null,\"guideText\":\"\"},{\"mark\":false,\"expectedDate\":\"2025-04-08\",\"expectedPercent\":99,\"koreanWeek\":\"화\",\"cutOfDate\":null,\"orderDeadLine\":null,\"guideText\":\"\"}],\"deliveryDelay\":null,\"goodsImages\":[{\"kind\":\"D\",\"repYn\":true,\"bigYn\":true,\"width\":1500,\"height\":1800,\"seq\":5,\"imageUrl\":\"/images/prd_img/20240821/4355520/detail_4355520_17249067402056_500.jpg\"},{\"kind\":\"D\",\"repYn\":false,\"bigYn\":true,\"width\":1500,\"height\":1800,\"seq\":6,\"imageUrl\":\"/images/prd_img/20240821/4355520/detail_4355520_17249067511080_500.jpg\"},{\"kind\":\"D\",\"repYn\":false,\"bigYn\":true,\"width\":1500,\"height\":1800,\"seq\":7,\"imageUrl\":\"/images/prd_img/20240821/4355520/detail_4355520_17249067539316_500.jpg\"},{\"kind\":\"D\",\"repYn\":false,\"bigYn\":true,\"width\":1500,\"height\":1800,\"seq\":8,\"imageUrl\":\"/images/prd_img/20240821/4355520/detail_4355520_17249067571334_500.jpg\"}],\"labels\":[],\"goodsPrice\":{\"minPrice\":0,\"maxPrice\":62100,\"originPrice\":69000,\"salePrice\":62100,\"normalPrice\":69000,\"memberPrice\":null,\"discountRate\":10,\"type\":\"DEFAULT\",\"isSale\":true,\"savePoint\":60,\"savePointPercent\":0.1,\"partnerInformation\":null,\"goodsPrePoint\":60,\"memberDiscountAmount\":0,\"memberSavePointPercent\":0},\"musinsaHyundaiCardEvent\":{\"discountRate\":0.05,\"maxAmountOfDiscountRate\":30000},\"goodsLogisticsInfo\":{\"deliveryInfoName\":\"국내 배송\",\"courierName\":\"롯데택배\",\"businessDayOrderDeadlineHour\":9,\"defaultReleasePeriod\":3,\"isOverseasDelivery\":false,\"isTodayReleaseGoods\":false,\"isAvailableTimeToTodayRelease\":false,\"isAutoReturnShipping\":true,\"returnShippingCourierName\":\"롯데택배\",\"returnShippingZipCode\":\"16902\",\"returnShippingAddress\":\"경기 용인시 기흥구 보정동 1271\",\"returnShippingAddressDetail\":\"롯데택배 용인보정대리점\"},\"interestFreeCard\":null,\"isRaffle\":false,\"goodsSaleType\":\"SALE\",\"isTimeSale\":false,\"goodsReview\":{\"totalCount\":324,\"satisfactionScore\":4.9},\"isLimitedPoint\":false,\"goodsType\":\"P\",\"returnShippingFee\":{\"roundShippingFee\":6000,\"additionalFeeForJeju\":0,\"additionalFeeForOthers\":0},\"goodsMaterial\":{\"maxLowCount\":0,\"materials\":[]},\"goodsContents\":\"<div style=\\\\\"text-align:center\\\\\"><img alt=\\\\\"\\\\\" src=\\\\\"//image.msscdn.net/images/prd_img/20241024141437000739678596719d7bd002eb.jpg\\\\\"></div>\",\"similarNo\":4355520,\"baseCategory\":\"029001002\",\"isEnabledToQnA\":true,\"mdOpinion\":\"\",\"specDesc\":\"\",\"sizeType\":\"7073035\",\"isUseSize\":true,\"optKindCd\":\"CLOTHES\",\"company\":{\"name\":\"주식회사 콜렉티브원\",\"ceoName\":\"이원일\",\"businessNumber\":\"8278802982\",\"mailOrderReportNumber\":\"2024-서울강남-01037\",\"phoneNumber\":\"02-548-9598\",\"email\":\"poy8067@lofficiel-juan.kr\",\"address\":\"서울 서초구 신반포로45길 74 (화신빌딩)\",\"detailAddress\":\"5층 501호\"},\"isShowInventoryCount\":true,\"isOnlyGlobalGoods\":false,\"isCompanyBrandOfficial\":false,\"goodsDetailBanner\":{\"benefitBanner\":[{\"eventBannerId\":1402,\"eventBannerKind\":\"BENEFIT\",\"name\":\"첫 구매 20% 쿠폰 즉시 지급\",\"displayType\":\"APP\",\"displayTarget\":\"ALL\",\"displayLogin\":\"N\",\"imgLink\":\"/images/goodsdetail/banner/2025/01/13/f25554bc5ae04be9b18fb5edc1310586.png\",\"bannerTitle\":\"첫 구매 20% 쿠폰 즉시 지급\",\"bannerSubTitle\":\"\",\"buttonTitle\":\"혜택보기\",\"landingUrl\":\"https://www.musinsa.com/onboarding/firstbuy\",\"memo\":\"\",\"exposeContents\":[]}],\"marketingBanner\":null,\"goodsBanner\":null,\"commonEventBanner\":null,\"offlineStoreBanner\":null,\"normalEventBanner\":[],\"exposeBanner\":{\"eventBannerId\":1407,\"eventBannerKind\":\"EXPOSE\",\"name\":\"첫 구매 20% 쿠폰 받으러 가기\",\"displayType\":\"ALL\",\"displayTarget\":\"ALL\",\"displayLogin\":\"ALL\",\"imgLink\":\"\",\"bannerTitle\":\"\",\"bannerSubTitle\":\"\",\"buttonTitle\":\"\",\"landingUrl\":\"\",\"memo\":\"\",\"exposeContents\":[{\"title\":\"비로그인\",\"content\":\"첫 구매 20% 쿠폰 받으러 가기\",\"text\":\"첫 구매 20% 쿠폰 받으러 가기\",\"link\":\"https://www.musinsa.com/onboarding/firstbuy\"},{\"title\":\"첫구매\",\"content\":\"첫 구매 20% 쿠폰 받으러 가기\",\"text\":\"첫 구매 20% 쿠폰 받으러 가기\",\"link\":\"https://www.musinsa.com/onboarding/firstbuy\"}]}},\"genders\":[\"M\"],\"isGoodsFill\":false,\"goodsFillInfo\":null,\"seo\":{\"title\":\"주앙옴므(JUAN HOMME)  헨리넥 롱 슬리브 티셔츠 (블랙) - 사이즈 & 후기 | 무신사\",\"metaDescription\":\"주앙옴므(JUAN HOMME) 헨리넥 롱 슬리브 티셔츠 (블랙). 무신사에서 상품 특징, 사이즈, 배송, 가격 정보와 더불어 후기, 관련 상품 등 제품 관련 다양한 정보를 확인하세요.\",\"faceBookMetaDescription\":\"제품분류 : 상의 > 긴소매 티셔츠 브랜드 : 주앙옴므(JUAN HOMME)  제품번호 : JUT027-BK 제품 : 헨리넥 롱 슬리브 티셔츠 (블랙) - 62,100\"},\"point\":{\"memberPoint\":0,\"isOnePoint\":false},\"rankingRecord\":{\"flatRankingRecords\":[],\"groupedRankingRecords\":[]},\"featureFlags\":{\"APPLY_NEW_API\":{\"key\":\"APPLY_NEW_API\",\"comment\":\"신규 API 적용을 위한 피처플래그\",\"isAvailable\":true},\"CURATION\":{\"key\":\"CURATION\",\"comment\":\"큐레이션 플래그\",\"isAvailable\":true},\"DISPLAY_MAX_BENEFIT_PRICE\":{\"key\":\"DISPLAY_MAX_BENEFIT_PRICE\",\"comment\":\"최대 혜택가 노출 플래그\",\"isAvailable\":true},\"EASY-PAY\":{\"key\":\"EASY-PAY\",\"comment\":\"빠른결제 on/off\",\"isAvailable\":true},\"MOLOCO-RECOMMEND\":{\"key\":\"MOLOCO-RECOMMEND\",\"comment\":\"광고추천 on/off\",\"isAvailable\":true},\"NEW_MEMBER_LEVEL\":{\"key\":\"NEW_MEMBER_LEVEL\",\"comment\":\"신규 회원제 개편 적용\",\"isAvailable\":true},\"Q_AND_A\":{\"key\":\"Q_AND_A\",\"comment\":\"문의하기 플래그\",\"isAvailable\":true},\"RECOMMEND\":{\"key\":\"RECOMMEND\",\"comment\":\"추천영역 on/off\",\"isAvailable\":true}}};\\n\\n      </script><link rel=\"preload\" href=\"https://static.msscdn.net/static/mss-frontend-web/_next/static/css/16ad98ee24b6f34e.css\" as=\"style\"/><link rel=\"stylesheet\" href=\"https://static.msscdn.net/static/mss-frontend-web/_next/static/css/16ad98ee24b6f34e.css\" data-n-g=\"\"/><noscript data-n-css=\"\"></noscript><script defer=\"\" nomodule=\"\" src=\"https://static.msscdn.net/static/mss-frontend-web/_next/static/chunks/polyfills-c67a75d1b6f99dc8.js\"></script><script src=\"https://static.msscdn.net/static/common-appinterface/release/common-appinterface.js\" defer=\"\" data-nscript=\"beforeInteractive\"></script><script src=\"https://static.msscdn.net/platform/js/common-mobile.js\" defer=\"\" data-nscript=\"beforeInteractive\"></script><script type=\"module\" defer=\"\" src=\"https://static.msscdn.net/static/common/layout-pc/render.js\" data-nscript=\"beforeInteractive\"></script><script src=\"https://static.msscdn.net/static/mss-frontend-web/_next/static/chunks/webpack-1743668119037-bf4cf6858a479b3f.js\" defer=\"\"></script><script src=\"https://static.msscdn.net/static/mss-frontend-web/_next/static/chunks/framework-1743668119037-b04c3654c455a343.js\" defer=\"\"></script><script src=\"https://static.msscdn.net/static/mss-frontend-web/_next/static/chunks/main-1743668119037-8d97020935fbf157.js\" defer=\"\"></script><script src=\"https://static.msscdn.net/static/mss-frontend-web/_next/static/chunks/pages/_app-1743668119037-907142b0bb09f70d.js\" defer=\"\"></script><script src=\"https://static.msscdn.net/static/mss-frontend-web/_next/static/chunks/pages/products/%5BproductId%5D-1743668119037-fc2d494ad2ee463e.js\" defer=\"\"></script><script src=\"https://static.msscdn.net/static/mss-frontend-web/_next/static/1743668104120-tfk2n1/_buildManifest.js\" defer=\"\"></script><script src=\"https://static.msscdn.net/static/mss-frontend-web/_next/static/1743668104120-tfk2n1/_ssgManifest.js\" defer=\"\"></script></head><body class=\"is-pc\"><div id=\"__next\"><div id=\"commonLayoutContainer\"><nav id=\"commonLayoutGnb\"></nav><header id=\"commonLayoutHeader\"></header><main id=\"commonLayoutContents\"><div id=\"root\"></div><div class=\"skeleton\"><div class=\"skeleton__left-section\"><div class=\"skeleton__image-wrap\"><div class=\"skeleton__left-images\"><div class=\"skeleton__image-box\"><div class=\"skeleton__item\" style=\"width:100%;padding-top:120%\"></div></div><div class=\"skeleton__image-box\"><div class=\"skeleton__item\" style=\"width:100%;padding-top:120%\"></div></div><div class=\"skeleton__image-box\"><div class=\"skeleton__item\" style=\"width:100%;padding-top:120%\"></div></div><div class=\"skeleton__image-box\"><div class=\"skeleton__item\" style=\"width:100%;padding-top:120%\"></div></div><div class=\"skeleton__image-box\"><div class=\"skeleton__item\" style=\"width:100%;padding-top:120%\"></div></div></div><div class=\"skeleton__center-image\"><div class=\"skeleton__item\" style=\"height:100%\"></div></div></div><div class=\"skeleton__box\" style=\"padding:24px 0 24px 16px;flex:1;background-color:#f5f5f5\"><div class=\"skeleton__item\" style=\"width:120px;height:20px\"></div></div></div><div class=\"skeleton__right-section\"><div class=\"skeleton__box\" style=\"display:flex;padding:12px 0;align-items:center;gap:2%\"><div class=\"skeleton__item\" style=\"width:32px;height:32px;border-radius:50%\"></div><div class=\"skeleton__item\" style=\"width:140px;height:20px\"></div></div><div class=\"skeleton__box\" style=\"display:flex;padding:12px 0;flex-direction:column;align-items:flex-start;gap:8px\"><div class=\"skeleton__item\" style=\"width:120px;height:20px\"></div><div class=\"skeleton__item\" style=\"width:260px;height:20px\"></div></div><div class=\"skeleton__box\" style=\"display:block;padding:80px 0 0 0\"><div class=\"skeleton__item\" style=\"width:100%;padding-top:46%\"></div></div><div class=\"skeleton__box\" style=\"display:flex;padding:16px 0;flex-direction:column;align-items:flex-start;gap:8px\"><div class=\"skeleton__item\" style=\"width:100%;padding-top:12%\"></div><div class=\"skeleton__item\" style=\"width:100%;padding-top:12%\"></div></div></div></div></main><aside id=\"commonLayoutFab\"></aside><footer id=\"commonLayoutFooter\"></footer></div></div><script id=\"__NEXT_DATA__\" type=\"application/json\">{\"props\":{\"pageProps\":{\"isMobile\":false,\"meta\":{\"meta\":{\"result\":\"SUCCESS\",\"errorCode\":\"\",\"message\":\"성공적으로 처리하였습니다.\"},\"data\":{\"goodsNo\":4355520,\"goodsNm\":\"헨리넥 롱 슬리브 티셔츠 (블랙)\",\"goodsNmEng\":\"\",\"thumbnailImageUrl\":\"/images/goods_img/20240821/4355520/4355520_17248080231327_500.jpg\",\"headDesc\":\"\",\"styleNo\":\"JUT027-BK\",\"sex\":[\"남성\"],\"sexCode\":2,\"brand\":\"juanhomme\",\"brandInfo\":{\"brand\":\"juanhomme\",\"brandName\":\"주앙옴므\",\"brandEnglishName\":\"JUAN HOMME\",\"brandNationCode\":\"korea\",\"brandNationName\":\"한국\",\"brandNationEnglishName\":\"KOREA\",\"brandLogoImage\":\"//image.musinsa.com/mfile_s01/_brand/free_medium/juanhomme.png?20240912111401\",\"brandWhiteLogoImage\":\"//image.musinsa.com/images/brand/white_logo_img/juanhomme.svg?20240912114246\",\"sinceYear\":2017,\"memo\":\"JUAN HOMME(주앙옴므)는 합리적이고 기능적인 미니멀리즘의 높은 퀄리티와 합리적인 가치를 추구하는 컨템포러리 브랜드이며, 미니멀리즘과 놈코어룩을 기반으로 기능성과 디테일이 녹아있는 데일리 웨어를 지향하는 브랜드입니다.\",\"isBrandExclusive\":false,\"isFlagship\":false},\"seasonYear\":\"\",\"season\":\"\",\"couponDcPrice\":6210,\"comId\":\"juanhomme\",\"specialtyCodes\":[],\"storeCodes\":[],\"goodsEventType\":\"N\",\"isRestictedUsePoint\":false,\"isClearance\":false,\"isPrePoint\":true,\"isGivenPoint\":true,\"isParallelImport\":false,\"deliveryDueType\":\"NONE\",\"deliveryDuePeriod\":0,\"isLimitedQuantity\":false,\"isLimitedTotalQuantity\":false,\"limitedMaxQuantity\":999,\"limitedMinQuantity\":1,\"isBuyForMember\":false,\"isAppGoods\":false,\"isOfflineGoods\":false,\"isFreeReturn\":false,\"giftCount\":0,\"deliveryDueDay\":null,\"isSalePeriod\":false,\"isSale\":false,\"saleStartDate\":null,\"saleEndDate\":null,\"isSellPeriod\":true,\"sellStartDate\":\"2024-09-03T11:00:00\",\"sellEndDate\":null,\"maxUsePointRate\":0.07,\"isVerify\":false,\"isPlusDelivery\":false,\"isPlusDeliveryArea\":false,\"isRestock\":true,\"isSoonOutOfStock\":false,\"isLimit\":false,\"isMusinsaMonopoly\":false,\"isOnlineMonopoly\":false,\"isFirst\":false,\"isInvitation\":false,\"isMusinsaDirectDelivery\":false,\"isMusinsaOfflineShopStock\":false,\"isIntangibleGoods\":false,\"isExclusiveMusinsaPay\":false,\"isExclusiveMusinsaHyundaiCard\":false,\"isGoodsStatsGraphShow\":true,\"isCumulativePurchaseShow\":true,\"isCustomOrderWithdrawal\":false,\"isRobotsNoIndex\":false,\"isLimitedDc\":false,\"isLimitedCoupon\":false,\"intangibleGoodsDeliveryType\":\"\",\"baseCategoryFullPath\":\"Clothing \\\\u003e 티셔츠 \\\\u003e 긴소매 티셔츠\",\"category\":{\"categoryDepth1Code\":\"001\",\"categoryDepth1Title\":\"상의\",\"categoryDepth1Name\":\"상의\",\"categoryDepth2Code\":\"001010\",\"categoryDepth2Title\":\"긴소매 티셔츠\",\"categoryDepth2Name\":\"긴소매 티셔츠\",\"categoryDepth3Code\":\"\",\"categoryDepth3Title\":\"\",\"categoryDepth3Name\":\"\",\"categoryDepth4Code\":\"\",\"categoryDepth4Title\":\"\",\"categoryDepth4Name\":\"\",\"storeCode\":\"\"},\"deliveryExpectedArrival\":[{\"mark\":true,\"expectedDate\":\"2025-04-07\",\"expectedPercent\":94,\"koreanWeek\":\"월\",\"cutOfDate\":null,\"orderDeadLine\":null,\"guideText\":\"\"},{\"mark\":false,\"expectedDate\":\"2025-04-08\",\"expectedPercent\":99,\"koreanWeek\":\"화\",\"cutOfDate\":null,\"orderDeadLine\":null,\"guideText\":\"\"}],\"deliveryDelay\":null,\"goodsImages\":[{\"kind\":\"D\",\"repYn\":true,\"bigYn\":true,\"width\":1500,\"height\":1800,\"seq\":5,\"imageUrl\":\"/images/prd_img/20240821/4355520/detail_4355520_17249067402056_500.jpg\"},{\"kind\":\"D\",\"repYn\":false,\"bigYn\":true,\"width\":1500,\"height\":1800,\"seq\":6,\"imageUrl\":\"/images/prd_img/20240821/4355520/detail_4355520_17249067511080_500.jpg\"},{\"kind\":\"D\",\"repYn\":false,\"bigYn\":true,\"width\":1500,\"height\":1800,\"seq\":7,\"imageUrl\":\"/images/prd_img/20240821/4355520/detail_4355520_17249067539316_500.jpg\"},{\"kind\":\"D\",\"repYn\":false,\"bigYn\":true,\"width\":1500,\"height\":1800,\"seq\":8,\"imageUrl\":\"/images/prd_img/20240821/4355520/detail_4355520_17249067571334_500.jpg\"}],\"labels\":[],\"goodsPrice\":{\"minPrice\":0,\"maxPrice\":62100,\"originPrice\":69000,\"salePrice\":62100,\"normalPrice\":69000,\"memberPrice\":null,\"discountRate\":10,\"type\":\"DEFAULT\",\"isSale\":true,\"savePoint\":60,\"savePointPercent\":0.1,\"partnerInformation\":null,\"goodsPrePoint\":60,\"memberDiscountAmount\":0,\"memberSavePointPercent\":0},\"musinsaHyundaiCardEvent\":{\"discountRate\":0.05,\"maxAmountOfDiscountRate\":30000},\"goodsLogisticsInfo\":{\"deliveryInfoName\":\"국내 배송\",\"courierName\":\"롯데택배\",\"businessDayOrderDeadlineHour\":9,\"defaultReleasePeriod\":3,\"isOverseasDelivery\":false,\"isTodayReleaseGoods\":false,\"isAvailableTimeToTodayRelease\":false,\"isAutoReturnShipping\":true,\"returnShippingCourierName\":\"롯데택배\",\"returnShippingZipCode\":\"16902\",\"returnShippingAddress\":\"경기 용인시 기흥구 보정동 1271\",\"returnShippingAddressDetail\":\"롯데택배 용인보정대리점\"},\"interestFreeCard\":null,\"isRaffle\":false,\"goodsSaleType\":\"SALE\",\"isTimeSale\":false,\"goodsReview\":{\"totalCount\":324,\"satisfactionScore\":4.9},\"isLimitedPoint\":false,\"goodsType\":\"P\",\"returnShippingFee\":{\"roundShippingFee\":6000,\"additionalFeeForJeju\":0,\"additionalFeeForOthers\":0},\"goodsMaterial\":{\"maxLowCount\":0,\"materials\":[]},\"goodsContents\":\"\\\\u003cdiv style=\\\\\"text-align:center\\\\\"\\\\u003e\\\\u003cimg alt=\\\\\"\\\\\" src=\\\\\"//image.msscdn.net/images/prd_img/20241024141437000739678596719d7bd002eb.jpg\\\\\"\\\\u003e\\\\u003c/div\\\\u003e\",\"similarNo\":4355520,\"baseCategory\":\"029001002\",\"isEnabledToQnA\":true,\"mdOpinion\":\"\",\"specDesc\":\"\",\"sizeType\":\"7073035\",\"isUseSize\":true,\"optKindCd\":\"CLOTHES\",\"company\":{\"name\":\"주식회사 콜렉티브원\",\"ceoName\":\"이원일\",\"businessNumber\":\"8278802982\",\"mailOrderReportNumber\":\"2024-서울강남-01037\",\"phoneNumber\":\"02-548-9598\",\"email\":\"poy8067@lofficiel-juan.kr\",\"address\":\"서울 서초구 신반포로45길 74 (화신빌딩)\",\"detailAddress\":\"5층 501호\"},\"isShowInventoryCount\":true,\"isOnlyGlobalGoods\":false,\"isCompanyBrandOfficial\":false,\"goodsDetailBanner\":{\"benefitBanner\":[{\"eventBannerId\":1402,\"eventBannerKind\":\"BENEFIT\",\"name\":\"첫 구매 20% 쿠폰 즉시 지급\",\"displayType\":\"APP\",\"displayTarget\":\"ALL\",\"displayLogin\":\"N\",\"imgLink\":\"/images/goodsdetail/banner/2025/01/13/f25554bc5ae04be9b18fb5edc1310586.png\",\"bannerTitle\":\"첫 구매 20% 쿠폰 즉시 지급\",\"bannerSubTitle\":\"\",\"buttonTitle\":\"혜택보기\",\"landingUrl\":\"https://www.musinsa.com/onboarding/firstbuy\",\"memo\":\"\",\"exposeContents\":[]}],\"marketingBanner\":null,\"goodsBanner\":null,\"commonEventBanner\":null,\"offlineStoreBanner\":null,\"normalEventBanner\":[],\"exposeBanner\":{\"eventBannerId\":1407,\"eventBannerKind\":\"EXPOSE\",\"name\":\"첫 구매 20% 쿠폰 받으러 가기\",\"displayType\":\"ALL\",\"displayTarget\":\"ALL\",\"displayLogin\":\"ALL\",\"imgLink\":\"\",\"bannerTitle\":\"\",\"bannerSubTitle\":\"\",\"buttonTitle\":\"\",\"landingUrl\":\"\",\"memo\":\"\",\"exposeContents\":[{\"title\":\"비로그인\",\"content\":\"첫 구매 20% 쿠폰 받으러 가기\",\"text\":\"첫 구매 20% 쿠폰 받으러 가기\",\"link\":\"https://www.musinsa.com/onboarding/firstbuy\"},{\"title\":\"첫구매\",\"content\":\"첫 구매 20% 쿠폰 받으러 가기\",\"text\":\"첫 구매 20% 쿠폰 받으러 가기\",\"link\":\"https://www.musinsa.com/onboarding/firstbuy\"}]}},\"genders\":[\"M\"],\"isGoodsFill\":false,\"goodsFillInfo\":null,\"seo\":{\"title\":\"주앙옴므(JUAN HOMME)  헨리넥 롱 슬리브 티셔츠 (블랙) - 사이즈 \\\\u0026 후기 | 무신사\",\"metaDescription\":\"주앙옴므(JUAN HOMME) 헨리넥 롱 슬리브 티셔츠 (블랙). 무신사에서 상품 특징, 사이즈, 배송, 가격 정보와 더불어 후기, 관련 상품 등 제품 관련 다양한 정보를 확인하세요.\",\"faceBookMetaDescription\":\"제품분류 : 상의 \\\\u003e 긴소매 티셔츠 브랜드 : 주앙옴므(JUAN HOMME)  제품번호 : JUT027-BK 제품 : 헨리넥 롱 슬리브 티셔츠 (블랙) - 62,100\"},\"point\":{\"memberPoint\":0,\"isOnePoint\":false},\"rankingRecord\":{\"flatRankingRecords\":[],\"groupedRankingRecords\":[]},\"featureFlags\":{\"APPLY_NEW_API\":{\"key\":\"APPLY_NEW_API\",\"comment\":\"신규 API 적용을 위한 피처플래그\",\"isAvailable\":true},\"CURATION\":{\"key\":\"CURATION\",\"comment\":\"큐레이션 플래그\",\"isAvailable\":true},\"DISPLAY_MAX_BENEFIT_PRICE\":{\"key\":\"DISPLAY_MAX_BENEFIT_PRICE\",\"comment\":\"최대 혜택가 노출 플래그\",\"isAvailable\":true},\"EASY-PAY\":{\"key\":\"EASY-PAY\",\"comment\":\"빠른결제 on/off\",\"isAvailable\":true},\"MOLOCO-RECOMMEND\":{\"key\":\"MOLOCO-RECOMMEND\",\"comment\":\"광고추천 on/off\",\"isAvailable\":true},\"NEW_MEMBER_LEVEL\":{\"key\":\"NEW_MEMBER_LEVEL\",\"comment\":\"신규 회원제 개편 적용\",\"isAvailable\":true},\"Q_AND_A\":{\"key\":\"Q_AND_A\",\"comment\":\"문의하기 플래그\",\"isAvailable\":true},\"RECOMMEND\":{\"key\":\"RECOMMEND\",\"comment\":\"추천영역 on/off\",\"isAvailable\":true}}},\"error\":null},\"shared\":{\"loggedIn\":false},\"buildTime\":1743668104120,\"featureFlag\":{\"brand\":{\"mss-pc\":true,\"dataDog\":{\"sessionSampleRate\":0.01}},\"category\":{\"mss-pc\":true,\"dataDog\":{\"sessionSampleRate\":0.01}},\"events\":{\"mss-pc\":true},\"like\":{\"mss-pc\":true},\"main\":{\"mss-pc\":true,\"dataDog\":{\"sessionSampleRate\":0.01}},\"notification\":{\"mss-pc\":true},\"offline\":{\"mss-pc\":true},\"products\":{\"mss-pc\":true,\"isMssCf\":false,\"hf-on\":false,\"dataDog\":{\"sessionSampleRate\":0.01}},\"ranking\":{\"mss-pc\":true,\"dataDog\":{\"sessionSampleRate\":0.01}},\"recommend\":{\"mss-pc\":true,\"dataDog\":{\"sessionSampleRate\":0.01}},\"release\":{\"mss-pc\":true,\"dataDog\":{\"sessionSampleRate\":0.01}},\"review\":{\"mss-pc\":true},\"search\":{\"mss-pc\":true,\"dataDog\":{\"sessionSampleRate\":0.01}},\"snap\":{\"mss-pc\":true},\"curator\":{\"mss-pc\":true},\"creatormarketplace\":{\"mss-pc\":true},\"preuser\":{\"mss-pc\":true},\"content\":{\"mss-pc\":true},\"order\":{\"mss-pc\":true},\"member\":{\"mss-pc\":true},\"onboarding\":{\"mss-pc\":true},\"campaign\":{\"mss-pc\":true},\"search-home\":{\"mss-pc\":true},\"menu\":{\"mss-pc\":true}}},\"__N_SSP\":true},\"page\":\"/products/[productId]\",\"query\":{\"productId\":\"4355520\"},\"buildId\":\"1743668104120-tfk2n1\",\"assetPrefix\":\"https://static.msscdn.net/static/mss-frontend-web\",\"isFallback\":false,\"isExperimentalCompile\":false,\"gssp\":true,\"scriptLoader\":[{\"id\":\"mss-gtm\",\"strategy\":\"afterInteractive\",\"dangerouslySetInnerHTML\":{\"__html\":\"(function (w, d, s, l, i) {\\\\n                  w[l] = w[l] || [];\\\\n                  w[l].push({ \\'gtm.start\\': new Date().getTime(), \\'event\\': \\'gtm.js\\' });\\\\n                  var f = d.getElementsByTagName(s)[0],\\\\n                    j = d.createElement(s),\\\\n                    dl = l != \\'dataLayer\\' ? \\'\\\\u0026l=\\' + l : \\'\\';\\\\n                  j.async = true;\\\\n                  j.src = \\'https://www.googletagmanager.com/gtm.js?id=\\' + i + dl;\\\\n                  f.parentNode.insertBefore(j, f);\\\\n                })(window, document, \\'script\\', \\'dataLayer\\', \\'GTM-KTZPBQV\\');\"}}]}</script></body></html>'"
      ]
     },
     "execution_count": 9,
     "metadata": {},
     "output_type": "execute_result"
    }
   ],
   "source": [
    "res.text"
   ]
  },
  {
   "cell_type": "code",
   "execution_count": 10,
   "id": "8cfeeac2-a8d2-4c9f-9f0c-948de1be79f0",
   "metadata": {
    "scrolled": true
   },
   "outputs": [
    {
     "data": {
      "text/plain": [
       "'\\n        window.__MSS__ = window.__MSS__ || {};\\n        window.__MSS__.shared = {\"loggedIn\":false};\\n        window.__MSS__.config = {\"gender\":{\"syncQueryToCookie\":true},\"isMobile\":false,\"dataDog\":{\"sessionSampleRate\":0.01}};\\n        window.__MSS__.product = window.__MSS__.product || {};\\n        window.__MSS__.product.state = {\"goodsNo\":4355520,\"goodsNm\":\"헨리넥 롱 슬리브 티셔츠 (블랙)\",\"goodsNmEng\":\"\",\"thumbnailImageUrl\":\"/images/goods_img/20240821/4355520/4355520_17248080231327_500.jpg\",\"headDesc\":\"\",\"styleNo\":\"JUT027-BK\",\"sex\":[\"남성\"],\"sexCode\":2,\"brand\":\"juanhomme\",\"brandInfo\":{\"brand\":\"juanhomme\",\"brandName\":\"주앙옴므\",\"brandEnglishName\":\"JUAN HOMME\",\"brandNationCode\":\"korea\",\"brandNationName\":\"한국\",\"brandNationEnglishName\":\"KOREA\",\"brandLogoImage\":\"//image.musinsa.com/mfile_s01/_brand/free_medium/juanhomme.png?20240912111401\",\"brandWhiteLogoImage\":\"//image.musinsa.com/images/brand/white_logo_img/juanhomme.svg?20240912114246\",\"sinceYear\":2017,\"memo\":\"JUAN HOMME(주앙옴므)는 합리적이고 기능적인 미니멀리즘의 높은 퀄리티와 합리적인 가치를 추구하는 컨템포러리 브랜드이며, 미니멀리즘과 놈코어룩을 기반으로 기능성과 디테일이 녹아있는 데일리 웨어를 지향하는 브랜드입니다.\",\"isBrandExclusive\":false,\"isFlagship\":false},\"seasonYear\":\"\",\"season\":\"\",\"couponDcPrice\":6210,\"comId\":\"juanhomme\",\"specialtyCodes\":[],\"storeCodes\":[],\"goodsEventType\":\"N\",\"isRestictedUsePoint\":false,\"isClearance\":false,\"isPrePoint\":true,\"isGivenPoint\":true,\"isParallelImport\":false,\"deliveryDueType\":\"NONE\",\"deliveryDuePeriod\":0,\"isLimitedQuantity\":false,\"isLimitedTotalQuantity\":false,\"limitedMaxQuantity\":999,\"limitedMinQuantity\":1,\"isBuyForMember\":false,\"isAppGoods\":false,\"isOfflineGoods\":false,\"isFreeReturn\":false,\"giftCount\":0,\"deliveryDueDay\":null,\"isSalePeriod\":false,\"isSale\":false,\"saleStartDate\":null,\"saleEndDate\":null,\"isSellPeriod\":true,\"sellStartDate\":\"2024-09-03T11:00:00\",\"sellEndDate\":null,\"maxUsePointRate\":0.07,\"isVerify\":false,\"isPlusDelivery\":false,\"isPlusDeliveryArea\":false,\"isRestock\":true,\"isSoonOutOfStock\":false,\"isLimit\":false,\"isMusinsaMonopoly\":false,\"isOnlineMonopoly\":false,\"isFirst\":false,\"isInvitation\":false,\"isMusinsaDirectDelivery\":false,\"isMusinsaOfflineShopStock\":false,\"isIntangibleGoods\":false,\"isExclusiveMusinsaPay\":false,\"isExclusiveMusinsaHyundaiCard\":false,\"isGoodsStatsGraphShow\":true,\"isCumulativePurchaseShow\":true,\"isCustomOrderWithdrawal\":false,\"isRobotsNoIndex\":false,\"isLimitedDc\":false,\"isLimitedCoupon\":false,\"intangibleGoodsDeliveryType\":\"\",\"baseCategoryFullPath\":\"Clothing > 티셔츠 > 긴소매 티셔츠\",\"category\":{\"categoryDepth1Code\":\"001\",\"categoryDepth1Title\":\"상의\",\"categoryDepth1Name\":\"상의\",\"categoryDepth2Code\":\"001010\",\"categoryDepth2Title\":\"긴소매 티셔츠\",\"categoryDepth2Name\":\"긴소매 티셔츠\",\"categoryDepth3Code\":\"\",\"categoryDepth3Title\":\"\",\"categoryDepth3Name\":\"\",\"categoryDepth4Code\":\"\",\"categoryDepth4Title\":\"\",\"categoryDepth4Name\":\"\",\"storeCode\":\"\"},\"deliveryExpectedArrival\":[{\"mark\":true,\"expectedDate\":\"2025-04-07\",\"expectedPercent\":94,\"koreanWeek\":\"월\",\"cutOfDate\":null,\"orderDeadLine\":null,\"guideText\":\"\"},{\"mark\":false,\"expectedDate\":\"2025-04-08\",\"expectedPercent\":99,\"koreanWeek\":\"화\",\"cutOfDate\":null,\"orderDeadLine\":null,\"guideText\":\"\"}],\"deliveryDelay\":null,\"goodsImages\":[{\"kind\":\"D\",\"repYn\":true,\"bigYn\":true,\"width\":1500,\"height\":1800,\"seq\":5,\"imageUrl\":\"/images/prd_img/20240821/4355520/detail_4355520_17249067402056_500.jpg\"},{\"kind\":\"D\",\"repYn\":false,\"bigYn\":true,\"width\":1500,\"height\":1800,\"seq\":6,\"imageUrl\":\"/images/prd_img/20240821/4355520/detail_4355520_17249067511080_500.jpg\"},{\"kind\":\"D\",\"repYn\":false,\"bigYn\":true,\"width\":1500,\"height\":1800,\"seq\":7,\"imageUrl\":\"/images/prd_img/20240821/4355520/detail_4355520_17249067539316_500.jpg\"},{\"kind\":\"D\",\"repYn\":false,\"bigYn\":true,\"width\":1500,\"height\":1800,\"seq\":8,\"imageUrl\":\"/images/prd_img/20240821/4355520/detail_4355520_17249067571334_500.jpg\"}],\"labels\":[],\"goodsPrice\":{\"minPrice\":0,\"maxPrice\":62100,\"originPrice\":69000,\"salePrice\":62100,\"normalPrice\":69000,\"memberPrice\":null,\"discountRate\":10,\"type\":\"DEFAULT\",\"isSale\":true,\"savePoint\":60,\"savePointPercent\":0.1,\"partnerInformation\":null,\"goodsPrePoint\":60,\"memberDiscountAmount\":0,\"memberSavePointPercent\":0},\"musinsaHyundaiCardEvent\":{\"discountRate\":0.05,\"maxAmountOfDiscountRate\":30000},\"goodsLogisticsInfo\":{\"deliveryInfoName\":\"국내 배송\",\"courierName\":\"롯데택배\",\"businessDayOrderDeadlineHour\":9,\"defaultReleasePeriod\":3,\"isOverseasDelivery\":false,\"isTodayReleaseGoods\":false,\"isAvailableTimeToTodayRelease\":false,\"isAutoReturnShipping\":true,\"returnShippingCourierName\":\"롯데택배\",\"returnShippingZipCode\":\"16902\",\"returnShippingAddress\":\"경기 용인시 기흥구 보정동 1271\",\"returnShippingAddressDetail\":\"롯데택배 용인보정대리점\"},\"interestFreeCard\":null,\"isRaffle\":false,\"goodsSaleType\":\"SALE\",\"isTimeSale\":false,\"goodsReview\":{\"totalCount\":324,\"satisfactionScore\":4.9},\"isLimitedPoint\":false,\"goodsType\":\"P\",\"returnShippingFee\":{\"roundShippingFee\":6000,\"additionalFeeForJeju\":0,\"additionalFeeForOthers\":0},\"goodsMaterial\":{\"maxLowCount\":0,\"materials\":[]},\"goodsContents\":\"<div style=\\\\\"text-align:center\\\\\"><img alt=\\\\\"\\\\\" src=\\\\\"//image.msscdn.net/images/prd_img/20241024141437000739678596719d7bd002eb.jpg\\\\\"></div>\",\"similarNo\":4355520,\"baseCategory\":\"029001002\",\"isEnabledToQnA\":true,\"mdOpinion\":\"\",\"specDesc\":\"\",\"sizeType\":\"7073035\",\"isUseSize\":true,\"optKindCd\":\"CLOTHES\",\"company\":{\"name\":\"주식회사 콜렉티브원\",\"ceoName\":\"이원일\",\"businessNumber\":\"8278802982\",\"mailOrderReportNumber\":\"2024-서울강남-01037\",\"phoneNumber\":\"02-548-9598\",\"email\":\"poy8067@lofficiel-juan.kr\",\"address\":\"서울 서초구 신반포로45길 74 (화신빌딩)\",\"detailAddress\":\"5층 501호\"},\"isShowInventoryCount\":true,\"isOnlyGlobalGoods\":false,\"isCompanyBrandOfficial\":false,\"goodsDetailBanner\":{\"benefitBanner\":[{\"eventBannerId\":1402,\"eventBannerKind\":\"BENEFIT\",\"name\":\"첫 구매 20% 쿠폰 즉시 지급\",\"displayType\":\"APP\",\"displayTarget\":\"ALL\",\"displayLogin\":\"N\",\"imgLink\":\"/images/goodsdetail/banner/2025/01/13/f25554bc5ae04be9b18fb5edc1310586.png\",\"bannerTitle\":\"첫 구매 20% 쿠폰 즉시 지급\",\"bannerSubTitle\":\"\",\"buttonTitle\":\"혜택보기\",\"landingUrl\":\"https://www.musinsa.com/onboarding/firstbuy\",\"memo\":\"\",\"exposeContents\":[]}],\"marketingBanner\":null,\"goodsBanner\":null,\"commonEventBanner\":null,\"offlineStoreBanner\":null,\"normalEventBanner\":[],\"exposeBanner\":{\"eventBannerId\":1407,\"eventBannerKind\":\"EXPOSE\",\"name\":\"첫 구매 20% 쿠폰 받으러 가기\",\"displayType\":\"ALL\",\"displayTarget\":\"ALL\",\"displayLogin\":\"ALL\",\"imgLink\":\"\",\"bannerTitle\":\"\",\"bannerSubTitle\":\"\",\"buttonTitle\":\"\",\"landingUrl\":\"\",\"memo\":\"\",\"exposeContents\":[{\"title\":\"비로그인\",\"content\":\"첫 구매 20% 쿠폰 받으러 가기\",\"text\":\"첫 구매 20% 쿠폰 받으러 가기\",\"link\":\"https://www.musinsa.com/onboarding/firstbuy\"},{\"title\":\"첫구매\",\"content\":\"첫 구매 20% 쿠폰 받으러 가기\",\"text\":\"첫 구매 20% 쿠폰 받으러 가기\",\"link\":\"https://www.musinsa.com/onboarding/firstbuy\"}]}},\"genders\":[\"M\"],\"isGoodsFill\":false,\"goodsFillInfo\":null,\"seo\":{\"title\":\"주앙옴므(JUAN HOMME)  헨리넥 롱 슬리브 티셔츠 (블랙) - 사이즈 & 후기 | 무신사\",\"metaDescription\":\"주앙옴므(JUAN HOMME) 헨리넥 롱 슬리브 티셔츠 (블랙). 무신사에서 상품 특징, 사이즈, 배송, 가격 정보와 더불어 후기, 관련 상품 등 제품 관련 다양한 정보를 확인하세요.\",\"faceBookMetaDescription\":\"제품분류 : 상의 > 긴소매 티셔츠 브랜드 : 주앙옴므(JUAN HOMME)  제품번호 : JUT027-BK 제품 : 헨리넥 롱 슬리브 티셔츠 (블랙) - 62,100\"},\"point\":{\"memberPoint\":0,\"isOnePoint\":false},\"rankingRecord\":{\"flatRankingRecords\":[],\"groupedRankingRecords\":[]},\"featureFlags\":{\"APPLY_NEW_API\":{\"key\":\"APPLY_NEW_API\",\"comment\":\"신규 API 적용을 위한 피처플래그\",\"isAvailable\":true},\"CURATION\":{\"key\":\"CURATION\",\"comment\":\"큐레이션 플래그\",\"isAvailable\":true},\"DISPLAY_MAX_BENEFIT_PRICE\":{\"key\":\"DISPLAY_MAX_BENEFIT_PRICE\",\"comment\":\"최대 혜택가 노출 플래그\",\"isAvailable\":true},\"EASY-PAY\":{\"key\":\"EASY-PAY\",\"comment\":\"빠른결제 on/off\",\"isAvailable\":true},\"MOLOCO-RECOMMEND\":{\"key\":\"MOLOCO-RECOMMEND\",\"comment\":\"광고추천 on/off\",\"isAvailable\":true},\"NEW_MEMBER_LEVEL\":{\"key\":\"NEW_MEMBER_LEVEL\",\"comment\":\"신규 회원제 개편 적용\",\"isAvailable\":true},\"Q_AND_A\":{\"key\":\"Q_AND_A\",\"comment\":\"문의하기 플래그\",\"isAvailable\":true},\"RECOMMEND\":{\"key\":\"RECOMMEND\",\"comment\":\"추천영역 on/off\",\"isAvailable\":true}}};\\n\\n        window.__MSS_FE__ = window.__MSS_FE__ || {};\\n        window.__MSS_FE__.shared = {\"loggedIn\":false};\\n        window.__MSS_FE__.config = {\"gender\":{\"syncQueryToCookie\":false},\"isMobile\":false,\"dataDog\":{\"sessionSampleRate\":0.01}};\\n        window.__MSS_FE__.product = window.__MSS_FE__.product || {};\\n        window.__MSS_FE__.product.state = {\"goodsNo\":4355520,\"goodsNm\":\"헨리넥 롱 슬리브 티셔츠 (블랙)\",\"goodsNmEng\":\"\",\"thumbnailImageUrl\":\"/images/goods_img/20240821/4355520/4355520_17248080231327_500.jpg\",\"headDesc\":\"\",\"styleNo\":\"JUT027-BK\",\"sex\":[\"남성\"],\"sexCode\":2,\"brand\":\"juanhomme\",\"brandInfo\":{\"brand\":\"juanhomme\",\"brandName\":\"주앙옴므\",\"brandEnglishName\":\"JUAN HOMME\",\"brandNationCode\":\"korea\",\"brandNationName\":\"한국\",\"brandNationEnglishName\":\"KOREA\",\"brandLogoImage\":\"//image.musinsa.com/mfile_s01/_brand/free_medium/juanhomme.png?20240912111401\",\"brandWhiteLogoImage\":\"//image.musinsa.com/images/brand/white_logo_img/juanhomme.svg?20240912114246\",\"sinceYear\":2017,\"memo\":\"JUAN HOMME(주앙옴므)는 합리적이고 기능적인 미니멀리즘의 높은 퀄리티와 합리적인 가치를 추구하는 컨템포러리 브랜드이며, 미니멀리즘과 놈코어룩을 기반으로 기능성과 디테일이 녹아있는 데일리 웨어를 지향하는 브랜드입니다.\",\"isBrandExclusive\":false,\"isFlagship\":false},\"seasonYear\":\"\",\"season\":\"\",\"couponDcPrice\":6210,\"comId\":\"juanhomme\",\"specialtyCodes\":[],\"storeCodes\":[],\"goodsEventType\":\"N\",\"isRestictedUsePoint\":false,\"isClearance\":false,\"isPrePoint\":true,\"isGivenPoint\":true,\"isParallelImport\":false,\"deliveryDueType\":\"NONE\",\"deliveryDuePeriod\":0,\"isLimitedQuantity\":false,\"isLimitedTotalQuantity\":false,\"limitedMaxQuantity\":999,\"limitedMinQuantity\":1,\"isBuyForMember\":false,\"isAppGoods\":false,\"isOfflineGoods\":false,\"isFreeReturn\":false,\"giftCount\":0,\"deliveryDueDay\":null,\"isSalePeriod\":false,\"isSale\":false,\"saleStartDate\":null,\"saleEndDate\":null,\"isSellPeriod\":true,\"sellStartDate\":\"2024-09-03T11:00:00\",\"sellEndDate\":null,\"maxUsePointRate\":0.07,\"isVerify\":false,\"isPlusDelivery\":false,\"isPlusDeliveryArea\":false,\"isRestock\":true,\"isSoonOutOfStock\":false,\"isLimit\":false,\"isMusinsaMonopoly\":false,\"isOnlineMonopoly\":false,\"isFirst\":false,\"isInvitation\":false,\"isMusinsaDirectDelivery\":false,\"isMusinsaOfflineShopStock\":false,\"isIntangibleGoods\":false,\"isExclusiveMusinsaPay\":false,\"isExclusiveMusinsaHyundaiCard\":false,\"isGoodsStatsGraphShow\":true,\"isCumulativePurchaseShow\":true,\"isCustomOrderWithdrawal\":false,\"isRobotsNoIndex\":false,\"isLimitedDc\":false,\"isLimitedCoupon\":false,\"intangibleGoodsDeliveryType\":\"\",\"baseCategoryFullPath\":\"Clothing > 티셔츠 > 긴소매 티셔츠\",\"category\":{\"categoryDepth1Code\":\"001\",\"categoryDepth1Title\":\"상의\",\"categoryDepth1Name\":\"상의\",\"categoryDepth2Code\":\"001010\",\"categoryDepth2Title\":\"긴소매 티셔츠\",\"categoryDepth2Name\":\"긴소매 티셔츠\",\"categoryDepth3Code\":\"\",\"categoryDepth3Title\":\"\",\"categoryDepth3Name\":\"\",\"categoryDepth4Code\":\"\",\"categoryDepth4Title\":\"\",\"categoryDepth4Name\":\"\",\"storeCode\":\"\"},\"deliveryExpectedArrival\":[{\"mark\":true,\"expectedDate\":\"2025-04-07\",\"expectedPercent\":94,\"koreanWeek\":\"월\",\"cutOfDate\":null,\"orderDeadLine\":null,\"guideText\":\"\"},{\"mark\":false,\"expectedDate\":\"2025-04-08\",\"expectedPercent\":99,\"koreanWeek\":\"화\",\"cutOfDate\":null,\"orderDeadLine\":null,\"guideText\":\"\"}],\"deliveryDelay\":null,\"goodsImages\":[{\"kind\":\"D\",\"repYn\":true,\"bigYn\":true,\"width\":1500,\"height\":1800,\"seq\":5,\"imageUrl\":\"/images/prd_img/20240821/4355520/detail_4355520_17249067402056_500.jpg\"},{\"kind\":\"D\",\"repYn\":false,\"bigYn\":true,\"width\":1500,\"height\":1800,\"seq\":6,\"imageUrl\":\"/images/prd_img/20240821/4355520/detail_4355520_17249067511080_500.jpg\"},{\"kind\":\"D\",\"repYn\":false,\"bigYn\":true,\"width\":1500,\"height\":1800,\"seq\":7,\"imageUrl\":\"/images/prd_img/20240821/4355520/detail_4355520_17249067539316_500.jpg\"},{\"kind\":\"D\",\"repYn\":false,\"bigYn\":true,\"width\":1500,\"height\":1800,\"seq\":8,\"imageUrl\":\"/images/prd_img/20240821/4355520/detail_4355520_17249067571334_500.jpg\"}],\"labels\":[],\"goodsPrice\":{\"minPrice\":0,\"maxPrice\":62100,\"originPrice\":69000,\"salePrice\":62100,\"normalPrice\":69000,\"memberPrice\":null,\"discountRate\":10,\"type\":\"DEFAULT\",\"isSale\":true,\"savePoint\":60,\"savePointPercent\":0.1,\"partnerInformation\":null,\"goodsPrePoint\":60,\"memberDiscountAmount\":0,\"memberSavePointPercent\":0},\"musinsaHyundaiCardEvent\":{\"discountRate\":0.05,\"maxAmountOfDiscountRate\":30000},\"goodsLogisticsInfo\":{\"deliveryInfoName\":\"국내 배송\",\"courierName\":\"롯데택배\",\"businessDayOrderDeadlineHour\":9,\"defaultReleasePeriod\":3,\"isOverseasDelivery\":false,\"isTodayReleaseGoods\":false,\"isAvailableTimeToTodayRelease\":false,\"isAutoReturnShipping\":true,\"returnShippingCourierName\":\"롯데택배\",\"returnShippingZipCode\":\"16902\",\"returnShippingAddress\":\"경기 용인시 기흥구 보정동 1271\",\"returnShippingAddressDetail\":\"롯데택배 용인보정대리점\"},\"interestFreeCard\":null,\"isRaffle\":false,\"goodsSaleType\":\"SALE\",\"isTimeSale\":false,\"goodsReview\":{\"totalCount\":324,\"satisfactionScore\":4.9},\"isLimitedPoint\":false,\"goodsType\":\"P\",\"returnShippingFee\":{\"roundShippingFee\":6000,\"additionalFeeForJeju\":0,\"additionalFeeForOthers\":0},\"goodsMaterial\":{\"maxLowCount\":0,\"materials\":[]},\"goodsContents\":\"<div style=\\\\\"text-align:center\\\\\"><img alt=\\\\\"\\\\\" src=\\\\\"//image.msscdn.net/images/prd_img/20241024141437000739678596719d7bd002eb.jpg\\\\\"></div>\",\"similarNo\":4355520,\"baseCategory\":\"029001002\",\"isEnabledToQnA\":true,\"mdOpinion\":\"\",\"specDesc\":\"\",\"sizeType\":\"7073035\",\"isUseSize\":true,\"optKindCd\":\"CLOTHES\",\"company\":{\"name\":\"주식회사 콜렉티브원\",\"ceoName\":\"이원일\",\"businessNumber\":\"8278802982\",\"mailOrderReportNumber\":\"2024-서울강남-01037\",\"phoneNumber\":\"02-548-9598\",\"email\":\"poy8067@lofficiel-juan.kr\",\"address\":\"서울 서초구 신반포로45길 74 (화신빌딩)\",\"detailAddress\":\"5층 501호\"},\"isShowInventoryCount\":true,\"isOnlyGlobalGoods\":false,\"isCompanyBrandOfficial\":false,\"goodsDetailBanner\":{\"benefitBanner\":[{\"eventBannerId\":1402,\"eventBannerKind\":\"BENEFIT\",\"name\":\"첫 구매 20% 쿠폰 즉시 지급\",\"displayType\":\"APP\",\"displayTarget\":\"ALL\",\"displayLogin\":\"N\",\"imgLink\":\"/images/goodsdetail/banner/2025/01/13/f25554bc5ae04be9b18fb5edc1310586.png\",\"bannerTitle\":\"첫 구매 20% 쿠폰 즉시 지급\",\"bannerSubTitle\":\"\",\"buttonTitle\":\"혜택보기\",\"landingUrl\":\"https://www.musinsa.com/onboarding/firstbuy\",\"memo\":\"\",\"exposeContents\":[]}],\"marketingBanner\":null,\"goodsBanner\":null,\"commonEventBanner\":null,\"offlineStoreBanner\":null,\"normalEventBanner\":[],\"exposeBanner\":{\"eventBannerId\":1407,\"eventBannerKind\":\"EXPOSE\",\"name\":\"첫 구매 20% 쿠폰 받으러 가기\",\"displayType\":\"ALL\",\"displayTarget\":\"ALL\",\"displayLogin\":\"ALL\",\"imgLink\":\"\",\"bannerTitle\":\"\",\"bannerSubTitle\":\"\",\"buttonTitle\":\"\",\"landingUrl\":\"\",\"memo\":\"\",\"exposeContents\":[{\"title\":\"비로그인\",\"content\":\"첫 구매 20% 쿠폰 받으러 가기\",\"text\":\"첫 구매 20% 쿠폰 받으러 가기\",\"link\":\"https://www.musinsa.com/onboarding/firstbuy\"},{\"title\":\"첫구매\",\"content\":\"첫 구매 20% 쿠폰 받으러 가기\",\"text\":\"첫 구매 20% 쿠폰 받으러 가기\",\"link\":\"https://www.musinsa.com/onboarding/firstbuy\"}]}},\"genders\":[\"M\"],\"isGoodsFill\":false,\"goodsFillInfo\":null,\"seo\":{\"title\":\"주앙옴므(JUAN HOMME)  헨리넥 롱 슬리브 티셔츠 (블랙) - 사이즈 & 후기 | 무신사\",\"metaDescription\":\"주앙옴므(JUAN HOMME) 헨리넥 롱 슬리브 티셔츠 (블랙). 무신사에서 상품 특징, 사이즈, 배송, 가격 정보와 더불어 후기, 관련 상품 등 제품 관련 다양한 정보를 확인하세요.\",\"faceBookMetaDescription\":\"제품분류 : 상의 > 긴소매 티셔츠 브랜드 : 주앙옴므(JUAN HOMME)  제품번호 : JUT027-BK 제품 : 헨리넥 롱 슬리브 티셔츠 (블랙) - 62,100\"},\"point\":{\"memberPoint\":0,\"isOnePoint\":false},\"rankingRecord\":{\"flatRankingRecords\":[],\"groupedRankingRecords\":[]},\"featureFlags\":{\"APPLY_NEW_API\":{\"key\":\"APPLY_NEW_API\",\"comment\":\"신규 API 적용을 위한 피처플래그\",\"isAvailable\":true},\"CURATION\":{\"key\":\"CURATION\",\"comment\":\"큐레이션 플래그\",\"isAvailable\":true},\"DISPLAY_MAX_BENEFIT_PRICE\":{\"key\":\"DISPLAY_MAX_BENEFIT_PRICE\",\"comment\":\"최대 혜택가 노출 플래그\",\"isAvailable\":true},\"EASY-PAY\":{\"key\":\"EASY-PAY\",\"comment\":\"빠른결제 on/off\",\"isAvailable\":true},\"MOLOCO-RECOMMEND\":{\"key\":\"MOLOCO-RECOMMEND\",\"comment\":\"광고추천 on/off\",\"isAvailable\":true},\"NEW_MEMBER_LEVEL\":{\"key\":\"NEW_MEMBER_LEVEL\",\"comment\":\"신규 회원제 개편 적용\",\"isAvailable\":true},\"Q_AND_A\":{\"key\":\"Q_AND_A\",\"comment\":\"문의하기 플래그\",\"isAvailable\":true},\"RECOMMEND\":{\"key\":\"RECOMMEND\",\"comment\":\"추천영역 on/off\",\"isAvailable\":true}}};\\n\\n      '"
      ]
     },
     "execution_count": 10,
     "metadata": {},
     "output_type": "execute_result"
    }
   ],
   "source": [
    "soup = BeautifulSoup(res.text, \"html.parser\")\n",
    "html = soup.select_one(\"script#category-data\")\n",
    "html.text"
   ]
  },
  {
   "cell_type": "code",
   "execution_count": 16,
   "id": "7d2cbdfe-f4be-42ff-bd37-0d1fd3a677bb",
   "metadata": {
    "scrolled": true
   },
   "outputs": [
    {
     "name": "stdout",
     "output_type": "stream",
     "text": [
      "{'goodsNo': 4355520, 'goodsNm': '헨리넥 롱 슬리브 티셔츠 (블랙)', 'goodsNmEng': '', 'thumbnailImageUrl': '/images/goods_img/20240821/4355520/4355520_17248080231327_500.jpg', 'headDesc': '', 'styleNo': 'JUT027-BK', 'sex': ['남성'], 'sexCode': 2, 'brand': 'juanhomme', 'brandInfo': {'brand': 'juanhomme', 'brandName': '주앙옴므', 'brandEnglishName': 'JUAN HOMME', 'brandNationCode': 'korea', 'brandNationName': '한국', 'brandNationEnglishName': 'KOREA', 'brandLogoImage': '//image.musinsa.com/mfile_s01/_brand/free_medium/juanhomme.png?20240912111401', 'brandWhiteLogoImage': '//image.musinsa.com/images/brand/white_logo_img/juanhomme.svg?20240912114246', 'sinceYear': 2017, 'memo': 'JUAN HOMME(주앙옴므)는 합리적이고 기능적인 미니멀리즘의 높은 퀄리티와 합리적인 가치를 추구하는 컨템포러리 브랜드이며, 미니멀리즘과 놈코어룩을 기반으로 기능성과 디테일이 녹아있는 데일리 웨어를 지향하는 브랜드입니다.', 'isBrandExclusive': False, 'isFlagship': False}, 'seasonYear': '', 'season': '', 'couponDcPrice': 6210, 'comId': 'juanhomme', 'specialtyCodes': [], 'storeCodes': [], 'goodsEventType': 'N', 'isRestictedUsePoint': False, 'isClearance': False, 'isPrePoint': True, 'isGivenPoint': True, 'isParallelImport': False, 'deliveryDueType': 'NONE', 'deliveryDuePeriod': 0, 'isLimitedQuantity': False, 'isLimitedTotalQuantity': False, 'limitedMaxQuantity': 999, 'limitedMinQuantity': 1, 'isBuyForMember': False, 'isAppGoods': False, 'isOfflineGoods': False, 'isFreeReturn': False, 'giftCount': 0, 'deliveryDueDay': None, 'isSalePeriod': False, 'isSale': False, 'saleStartDate': None, 'saleEndDate': None, 'isSellPeriod': True, 'sellStartDate': '2024-09-03T11:00:00', 'sellEndDate': None, 'maxUsePointRate': 0.07, 'isVerify': False, 'isPlusDelivery': False, 'isPlusDeliveryArea': False, 'isRestock': True, 'isSoonOutOfStock': False, 'isLimit': False, 'isMusinsaMonopoly': False, 'isOnlineMonopoly': False, 'isFirst': False, 'isInvitation': False, 'isMusinsaDirectDelivery': False, 'isMusinsaOfflineShopStock': False, 'isIntangibleGoods': False, 'isExclusiveMusinsaPay': False, 'isExclusiveMusinsaHyundaiCard': False, 'isGoodsStatsGraphShow': True, 'isCumulativePurchaseShow': True, 'isCustomOrderWithdrawal': False, 'isRobotsNoIndex': False, 'isLimitedDc': False, 'isLimitedCoupon': False, 'intangibleGoodsDeliveryType': '', 'baseCategoryFullPath': 'Clothing > 티셔츠 > 긴소매 티셔츠', 'category': {'categoryDepth1Code': '001', 'categoryDepth1Title': '상의', 'categoryDepth1Name': '상의', 'categoryDepth2Code': '001010', 'categoryDepth2Title': '긴소매 티셔츠', 'categoryDepth2Name': '긴소매 티셔츠', 'categoryDepth3Code': '', 'categoryDepth3Title': '', 'categoryDepth3Name': '', 'categoryDepth4Code': '', 'categoryDepth4Title': '', 'categoryDepth4Name': '', 'storeCode': ''}, 'deliveryExpectedArrival': [{'mark': True, 'expectedDate': '2025-04-07', 'expectedPercent': 94, 'koreanWeek': '월', 'cutOfDate': None, 'orderDeadLine': None, 'guideText': ''}, {'mark': False, 'expectedDate': '2025-04-08', 'expectedPercent': 99, 'koreanWeek': '화', 'cutOfDate': None, 'orderDeadLine': None, 'guideText': ''}], 'deliveryDelay': None, 'goodsImages': [{'kind': 'D', 'repYn': True, 'bigYn': True, 'width': 1500, 'height': 1800, 'seq': 5, 'imageUrl': '/images/prd_img/20240821/4355520/detail_4355520_17249067402056_500.jpg'}, {'kind': 'D', 'repYn': False, 'bigYn': True, 'width': 1500, 'height': 1800, 'seq': 6, 'imageUrl': '/images/prd_img/20240821/4355520/detail_4355520_17249067511080_500.jpg'}, {'kind': 'D', 'repYn': False, 'bigYn': True, 'width': 1500, 'height': 1800, 'seq': 7, 'imageUrl': '/images/prd_img/20240821/4355520/detail_4355520_17249067539316_500.jpg'}, {'kind': 'D', 'repYn': False, 'bigYn': True, 'width': 1500, 'height': 1800, 'seq': 8, 'imageUrl': '/images/prd_img/20240821/4355520/detail_4355520_17249067571334_500.jpg'}], 'labels': [], 'goodsPrice': {'minPrice': 0, 'maxPrice': 62100, 'originPrice': 69000, 'salePrice': 62100, 'normalPrice': 69000, 'memberPrice': None, 'discountRate': 10, 'type': 'DEFAULT', 'isSale': True, 'savePoint': 60, 'savePointPercent': 0.1, 'partnerInformation': None, 'goodsPrePoint': 60, 'memberDiscountAmount': 0, 'memberSavePointPercent': 0}, 'musinsaHyundaiCardEvent': {'discountRate': 0.05, 'maxAmountOfDiscountRate': 30000}, 'goodsLogisticsInfo': {'deliveryInfoName': '국내 배송', 'courierName': '롯데택배', 'businessDayOrderDeadlineHour': 9, 'defaultReleasePeriod': 3, 'isOverseasDelivery': False, 'isTodayReleaseGoods': False, 'isAvailableTimeToTodayRelease': False, 'isAutoReturnShipping': True, 'returnShippingCourierName': '롯데택배', 'returnShippingZipCode': '16902', 'returnShippingAddress': '경기 용인시 기흥구 보정동 1271', 'returnShippingAddressDetail': '롯데택배 용인보정대리점'}, 'interestFreeCard': None, 'isRaffle': False, 'goodsSaleType': 'SALE', 'isTimeSale': False, 'goodsReview': {'totalCount': 324, 'satisfactionScore': 4.9}, 'isLimitedPoint': False, 'goodsType': 'P', 'returnShippingFee': {'roundShippingFee': 6000, 'additionalFeeForJeju': 0, 'additionalFeeForOthers': 0}, 'goodsMaterial': {'maxLowCount': 0, 'materials': []}, 'goodsContents': '<div style=\"text-align:center\"><img alt=\"\" src=\"//image.msscdn.net/images/prd_img/20241024141437000739678596719d7bd002eb.jpg\"></div>', 'similarNo': 4355520, 'baseCategory': '029001002', 'isEnabledToQnA': True, 'mdOpinion': '', 'specDesc': '', 'sizeType': '7073035', 'isUseSize': True, 'optKindCd': 'CLOTHES', 'company': {'name': '주식회사 콜렉티브원', 'ceoName': '이원일', 'businessNumber': '8278802982', 'mailOrderReportNumber': '2024-서울강남-01037', 'phoneNumber': '02-548-9598', 'email': 'poy8067@lofficiel-juan.kr', 'address': '서울 서초구 신반포로45길 74 (화신빌딩)', 'detailAddress': '5층 501호'}, 'isShowInventoryCount': True, 'isOnlyGlobalGoods': False, 'isCompanyBrandOfficial': False, 'goodsDetailBanner': {'benefitBanner': [{'eventBannerId': 1402, 'eventBannerKind': 'BENEFIT', 'name': '첫 구매 20% 쿠폰 즉시 지급', 'displayType': 'APP', 'displayTarget': 'ALL', 'displayLogin': 'N', 'imgLink': '/images/goodsdetail/banner/2025/01/13/f25554bc5ae04be9b18fb5edc1310586.png', 'bannerTitle': '첫 구매 20% 쿠폰 즉시 지급', 'bannerSubTitle': '', 'buttonTitle': '혜택보기', 'landingUrl': 'https://www.musinsa.com/onboarding/firstbuy', 'memo': '', 'exposeContents': []}], 'marketingBanner': None, 'goodsBanner': None, 'commonEventBanner': None, 'offlineStoreBanner': None, 'normalEventBanner': [], 'exposeBanner': {'eventBannerId': 1407, 'eventBannerKind': 'EXPOSE', 'name': '첫 구매 20% 쿠폰 받으러 가기', 'displayType': 'ALL', 'displayTarget': 'ALL', 'displayLogin': 'ALL', 'imgLink': '', 'bannerTitle': '', 'bannerSubTitle': '', 'buttonTitle': '', 'landingUrl': '', 'memo': '', 'exposeContents': [{'title': '비로그인', 'content': '첫 구매 20% 쿠폰 받으러 가기', 'text': '첫 구매 20% 쿠폰 받으러 가기', 'link': 'https://www.musinsa.com/onboarding/firstbuy'}, {'title': '첫구매', 'content': '첫 구매 20% 쿠폰 받으러 가기', 'text': '첫 구매 20% 쿠폰 받으러 가기', 'link': 'https://www.musinsa.com/onboarding/firstbuy'}]}}, 'genders': ['M'], 'isGoodsFill': False, 'goodsFillInfo': None, 'seo': {'title': '주앙옴므(JUAN HOMME)  헨리넥 롱 슬리브 티셔츠 (블랙) - 사이즈 & 후기 | 무신사', 'metaDescription': '주앙옴므(JUAN HOMME) 헨리넥 롱 슬리브 티셔츠 (블랙). 무신사에서 상품 특징, 사이즈, 배송, 가격 정보와 더불어 후기, 관련 상품 등 제품 관련 다양한 정보를 확인하세요.', 'faceBookMetaDescription': '제품분류 : 상의 > 긴소매 티셔츠 브랜드 : 주앙옴므(JUAN HOMME)  제품번호 : JUT027-BK 제품 : 헨리넥 롱 슬리브 티셔츠 (블랙) - 62,100'}, 'point': {'memberPoint': 0, 'isOnePoint': False}, 'rankingRecord': {'flatRankingRecords': [], 'groupedRankingRecords': []}, 'featureFlags': {'APPLY_NEW_API': {'key': 'APPLY_NEW_API', 'comment': '신규 API 적용을 위한 피처플래그', 'isAvailable': True}, 'CURATION': {'key': 'CURATION', 'comment': '큐레이션 플래그', 'isAvailable': True}, 'DISPLAY_MAX_BENEFIT_PRICE': {'key': 'DISPLAY_MAX_BENEFIT_PRICE', 'comment': '최대 혜택가 노출 플래그', 'isAvailable': True}, 'EASY-PAY': {'key': 'EASY-PAY', 'comment': '빠른결제 on/off', 'isAvailable': True}, 'MOLOCO-RECOMMEND': {'key': 'MOLOCO-RECOMMEND', 'comment': '광고추천 on/off', 'isAvailable': True}, 'NEW_MEMBER_LEVEL': {'key': 'NEW_MEMBER_LEVEL', 'comment': '신규 회원제 개편 적용', 'isAvailable': True}, 'Q_AND_A': {'key': 'Q_AND_A', 'comment': '문의하기 플래그', 'isAvailable': True}, 'RECOMMEND': {'key': 'RECOMMEND', 'comment': '추천영역 on/off', 'isAvailable': True}}}\n"
     ]
    }
   ],
   "source": [
    "pattern = r'window\\.__MSS__\\.product\\.state\\s*=\\s*(\\{.*?\\});'\n",
    "match = re.search(pattern, html.text, re.DOTALL)\n",
    "if match:\n",
    "    json_str = match.group(1)\n",
    "    print(json.loads(json_str))  # 또는 json.loads(json_str)\n",
    "else:\n",
    "    print(\"대상 스크립트 안 JSON을 찾을 수 없습니다.\")"
   ]
  },
  {
   "cell_type": "code",
   "execution_count": 12,
   "id": "e91bfafe-6718-4bd4-95d1-36508e9e1b21",
   "metadata": {},
   "outputs": [
    {
     "data": {
      "text/plain": [
       "'헨리넥 롱 슬리브 티셔츠 (블랙)'"
      ]
     },
     "execution_count": 12,
     "metadata": {},
     "output_type": "execute_result"
    }
   ],
   "source": [
    "json.loads(json_str)['goodsNm']"
   ]
  },
  {
   "cell_type": "code",
   "execution_count": 22,
   "id": "f544bb4a-c93d-4f59-b477-6069512fea08",
   "metadata": {},
   "outputs": [
    {
     "data": {
      "text/plain": [
       "'https://image.msscdn.net/thumbnails/images/goods_img/20240821/4355520/4355520_17248080231327_500.jpg'"
      ]
     },
     "execution_count": 22,
     "metadata": {},
     "output_type": "execute_result"
    }
   ],
   "source": [
    "image = \"https://image.msscdn.net/thumbnails\" + json.loads(json_str)['thumbnailImageUrl']\n",
    "image"
   ]
  },
  {
   "cell_type": "code",
   "execution_count": 19,
   "id": "a3c686b9-b113-4d51-8751-ef4def1af5be",
   "metadata": {},
   "outputs": [],
   "source": [
    "import requests\n",
    "from PIL import Image\n",
    "from io import BytesIO\n",
    "\n",
    "# 이미지 URL\n",
    "url = \"https://image.msscdn.net/thumbnails/images/goods_img/20240821/4355520/4355520_17248080231327_500.jpg\"\n",
    "\n",
    "# 이미지 요청 및 변환\n",
    "response = requests.get(url)\n",
    "if response.status_code == 200:\n",
    "    img = Image.open(BytesIO(response.content))\n",
    "    img.show()  # 이미지 보기 (Jupyter 또는 GUI 환경에서)\n",
    "else:\n",
    "    print(\"이미지 다운로드 실패\")"
   ]
  },
  {
   "cell_type": "code",
   "execution_count": 79,
   "id": "f612df9c-51eb-4fb5-939e-17827ef75a91",
   "metadata": {},
   "outputs": [],
   "source": [
    "params = {\n",
    "    'goodsSaleType': 'SALE',\n",
    "    'optKindCd': 'CLOTHES',\n",
    "}\n",
    "\n",
    "color_res = requests.get(\n",
    "    'https://goods-detail.musinsa.com/api2/goods/3598912/v2/options',\n",
    "    params=params,\n",
    "    cookies=cookies,\n",
    "    headers=headers,\n",
    ")"
   ]
  },
  {
   "cell_type": "code",
   "execution_count": 80,
   "id": "da76c341-9963-42cb-a886-090399826a5b",
   "metadata": {},
   "outputs": [
    {
     "data": {
      "text/plain": [
       "'컬러'"
      ]
     },
     "execution_count": 80,
     "metadata": {},
     "output_type": "execute_result"
    }
   ],
   "source": [
    "json.loads(color_res.text)['data']['basic'][0]['name']"
   ]
  },
  {
   "cell_type": "code",
   "execution_count": 81,
   "id": "b91b9e26-37ec-494f-9884-e8750f07a6fc",
   "metadata": {},
   "outputs": [
    {
     "data": {
      "text/plain": [
       "'BLACK'"
      ]
     },
     "execution_count": 81,
     "metadata": {},
     "output_type": "execute_result"
    }
   ],
   "source": [
    "json.loads(color_res.text)['data']['basic'][0]['optionValues'][0]['name']"
   ]
  },
  {
   "cell_type": "code",
   "execution_count": 61,
   "id": "9b0d7a1a-1f5d-4904-b602-cb9f645781b5",
   "metadata": {},
   "outputs": [
    {
     "data": {
      "text/plain": [
       "[{'itemNo': 15362946, 'name': '블랙'}]"
      ]
     },
     "execution_count": 61,
     "metadata": {},
     "output_type": "execute_result"
    }
   ],
   "source": []
  },
  {
   "cell_type": "code",
   "execution_count": 50,
   "id": "ab7d9512-ff4e-46bd-b533-32ad1f5781cd",
   "metadata": {},
   "outputs": [
    {
     "data": {
      "text/plain": [
       "'블랙'"
      ]
     },
     "execution_count": 50,
     "metadata": {},
     "output_type": "execute_result"
    }
   ],
   "source": [
    "color"
   ]
  },
  {
   "cell_type": "code",
   "execution_count": 24,
   "id": "12d8a3c5-484b-4482-8065-e2e756dc9fa3",
   "metadata": {},
   "outputs": [],
   "source": [
    "clothes_data = {}\n",
    "count = 1\n",
    "clothes_data[json.loads(json_str)['goodsNm']] = {\n",
    "    \"count\" : count,\n",
    "    \"color\" : color,\n",
    "    \"image\" : image,\n",
    "}"
   ]
  },
  {
   "cell_type": "code",
   "execution_count": 25,
   "id": "eecaf83b-8c15-44f4-b415-0fefb500aa87",
   "metadata": {},
   "outputs": [
    {
     "data": {
      "text/plain": [
       "{'헨리넥 롱 슬리브 티셔츠 (블랙)': {'count': 1,\n",
       "  'color': '블랙',\n",
       "  'image': 'https://image.msscdn.net/thumbnails/images/goods_img/20240821/4355520/4355520_17248080231327_500.jpg'}}"
      ]
     },
     "execution_count": 25,
     "metadata": {},
     "output_type": "execute_result"
    }
   ],
   "source": [
    "clothes_data"
   ]
  },
  {
   "cell_type": "markdown",
   "id": "e8f58bf2-0cdc-4812-b42f-458e052cb90a",
   "metadata": {},
   "source": [
    "# 풀 코드"
   ]
  },
  {
   "cell_type": "code",
   "execution_count": 126,
   "id": "4b15aa1e-d40a-49a5-8c60-3e97b36f6494",
   "metadata": {
    "scrolled": true
   },
   "outputs": [
    {
     "name": "stdout",
     "output_type": "stream",
     "text": [
      "플란넬 오버 체크 셔츠 [블랙] 의 개수는  1  개\n",
      "폰테 크루 넥 긴팔 티셔츠 [멜란지 그레이] 의 개수는  1  개\n",
      "다트 와이드 데님 팬츠 BROWN 의 개수는  1  개\n",
      "레더 트림 카메라백 의 개수는  1  개\n",
      "헨리넥 롱 슬리브 티셔츠 (블랙) 의 개수는  1  개\n",
      "헨리넥 롱 슬리브 티셔츠 (멜란지 그레이) 의 개수는  1  개\n",
      "MINIMAL O09 021 TAPERED ONE WASHING 의 개수는  1  개\n",
      "Occam Doux Youth Shoulder L (오캄 두 유스 숄더 라지)_2colors 의 개수는  1  개\n",
      "라피스 멀티 비즈 목걸이 _ 블랙 의 개수는  1  개\n",
      "나폴리 소프트 코튼 폴로 니트 리조트 블랙 의 개수는  1  개\n",
      "[2PACK]클래식 테이퍼드 와이드 원턱 린넨 팬츠_9Color 의 개수는  1  개\n",
      "에어 포스 1 07 WB W - 플랙스:검 라이트 브라운:블랙:위트 / FZ7372-200 의 개수는  1  개\n",
      "에어 조던 1 로우 W - 세일:코코넛 밀크:미디엄 올리브 / DC0774-122 의 개수는  1  개\n",
      "폰테 돌먼 슬리브 오버사이즈 반팔 티셔츠 [화이트] 의 개수는  1  개\n",
      "87-STAN081 원포켓 빈티지 오버핏 긴팔 체크 셔츠 네이비 의 개수는  1  개\n",
      "String Wrap Wide Pants BLACK 의 개수는  1  개\n",
      "슬랩스틱 더비슈즈 블랙 의 개수는  1  개\n",
      "웨스턴 데님 셔츠 (인디고) 의 개수는  1  개\n",
      "해당 상품은 존재하지 않습니다: 'NoneType' object has no attribute 'text'\n",
      "뉴 유팁 페니로퍼 R21M055 (투톤레더 버건디) 의 개수는  1  개\n",
      "4핀턱 와이드 맥시 오버핏 트레이닝 밴딩 팬츠 유니섹스 (그레이/블랙) 의 개수는  1  개\n",
      "스톤 워싱 크롭 데님 자켓 [인디고] 의 개수는  1  개\n",
      "DAVINO PRT 20002 C1 의 개수는  1  개\n",
      "5cm 모던 유니섹스 스니커즈 에센셜(CL0032) 의 개수는  1  개\n",
      "코어드 루즈핏 후드티 ( 8Color ) 의 개수는  1  개\n",
      "돌핀 핑거 리딩 그래픽 반팔티셔츠 2COLOR 의 개수는  1  개\n",
      "돌핀 실리콘와펜 루즈핏 타슬란 반바지 네이비 의 개수는  1  개\n",
      "[2팩] 돌핀 실리콘와펜 루즈핏 타슬란 반바지 의 개수는  1  개\n",
      "슈퍼 와이드 버뮤다 팬츠[블랙] 의 개수는  1  개\n",
      "테리 데님 셔츠 미들 블루 의 개수는  1  개\n",
      "브루클린 뉴트로 와이드 워시드 데님 팬츠 레트로 블루 의 개수는  1  개\n",
      "세미 와이드 히든 밴딩 슬랙스 [미디엄 그레이] 의 개수는  1  개\n",
      "레이어 헨리넥 니트 [차콜] 의 개수는  1  개\n",
      "HUGO Hex ccv RING 도형반지 의 개수는  1  개\n",
      "Phil cvx Cuff 팔찌 의 개수는  1  개\n",
      "육각 +페턴링 반지 의 개수는  1  개\n",
      "라마피트 플레어팬츠 의 개수는  1  개\n",
      "[데일리룸 X 시즈] 스트라이프 슬림 타이 [GREY] 의 개수는  1  개\n",
      "안토니 스트라이프 셔츠 (아이보리) 의 개수는  1  개\n",
      "스탠스 스퀘어토 집업 부츠 R21M026 (블랙) 의 개수는  1  개\n",
      "WTRD1120 샌드맨 4홀 더비슈즈 카멜 [230~290MM] 의 개수는  1  개\n",
      "데일리 세미 롱 와이드 데님 팬츠 (블루워싱) 의 개수는  1  개\n",
      "올데이 스트라이프 셔츠_Gray 의 개수는  1  개\n",
      "QUATTRO PRT 20003 C1 의 개수는  1  개\n",
      "오버핏 크롭 카라 가디건 [브라운] 의 개수는  1  개\n",
      "2PACK 쿨코튼 유넥 반팔 티셔츠 의 개수는  1  개\n",
      "뉴 유팁 페니로퍼 R21M055 (투톤레더 버건디) 의 개수는  2  개\n",
      "[UNISEX]OF STAR 스트라이프 롱슬리브_3color 의 개수는  1  개\n",
      "오버사이즈 웨스턴 셔츠 블루 의 개수는  1  개\n",
      "골지 스트럭처드 라운드넥 가디건 [BLACK]_SECD004BLACK 의 개수는  1  개\n",
      "골지 스트럭처드 라운드넥 가디건 [NAVY]_SECD004NAVY 의 개수는  1  개\n",
      "골지 스트럭처드 라운드넥 가디건 [CHARCOAL]_SECD004CHARCOAL 의 개수는  1  개\n",
      "골지 스트럭처드 라운드넥 가디건 [GRAY]_SECD004GRAY 의 개수는  1  개\n",
      "Work Jacket Nylon Taslan Oxford Cloth Resilient Finish (Navy) 의 개수는  1  개\n",
      "[DESK] NATURAL CHINO PANTS [WASHED NAVY] 의 개수는  1  개\n",
      "TE5-SH08 프렌치 스트라이프 셔츠-네이비 의 개수는  1  개\n",
      "GRAINY - 547 (a) 의 개수는  1  개\n",
      "심볼 트랙 럭비카라 오버핏 맨투맨 스웻 티셔츠 3Color 의 개수는  1  개\n",
      "보이드 오버사이즈 서커 체크 셔츠 의 개수는  1  개\n",
      "남성용 소가죽 페니로퍼 HS-906_BLACK 의 개수는  1  개\n",
      "optimal nylon 2way tote bag / black 의 개수는  1  개\n",
      "케이블 반팔 니트(12GG) 055522 [8color] 의 개수는  1  개\n",
      "에센셜 울 트라우저 (블랙) 의 개수는  1  개\n",
      "MOVE 의 개수는  1  개\n",
      "케이블 반팔 니트(12GG) 055522 [8color] 의 개수는  2  개\n",
      "에센셜 울 트라우저 (블랙) 의 개수는  2  개\n",
      "MOVE 의 개수는  2  개\n",
      "핀턱 레더 트러커 자켓_베이지 의 개수는  1  개\n",
      "(M) Patch Tank Top Black 의 개수는  1  개\n",
      "Sprayed Wide Jeans - Deep Blue 의 개수는  1  개\n",
      "Magic Coin Snake Layered Necklace ((steel)) 의 개수는  1  개\n",
      "스퀘어 라인 리얼 레더 벨트 [블랙] 의 개수는  1  개\n",
      "[With 함준수] Hh 벨티드 백 2way (블랙) 의 개수는  1  개\n",
      "패스파인더 엔지니어부츠 R25M100 (오일 블랙) 의 개수는  1  개\n",
      "1461 3홀 블랙 나파 / 11838001 의 개수는  1  개\n",
      "FALLING STAR BRACELET 의 개수는  1  개\n",
      "카우하이드 큐브 스퀘어 하드레더 벨트 BROWN 의 개수는  1  개\n",
      "마가렛 스웨이드 크로스백 [브라운] 의 개수는  1  개\n",
      "COTTON PREMIUM T-SHIRT_BLACK 의 개수는  1  개\n",
      "SAINT TWO TUCK WIDE PANTS BROWN 의 개수는  1  개\n",
      "울 부클 가디건_블랙 의 개수는  1  개\n",
      "Diagonal Seam Shirt _____cloudy blue 의 개수는  1  개\n",
      "V2K 런 M - 서밋 화이트:퓨어 플래티넘:라이트 아이언 오어:메탈릭 실버 / HJ4497-100 의 개수는  1  개\n",
      "심볼 트랙 럭비카라 오버핏 맨투맨 스웻 티셔츠 3Color 의 개수는  2  개\n",
      "시그니처 와이드 데님 팬츠 딥블랙 의 개수는  1  개\n",
      "리브드 유넥 티셔츠 (화이트) 의 개수는  1  개\n",
      "MANO RT 2014 C1 BLACK 의 개수는  1  개\n",
      "해당 상품은 존재하지 않습니다: 'NoneType' object has no attribute 'text'\n",
      "Soft Suede Twill Balloon Pants 의 개수는  1  개\n",
      "메이트 블랙 의 개수는  1  개\n",
      "[2 size] EPI 블랙 의 개수는  1  개\n",
      "아놀드 바이커 자켓 의 개수는  1  개\n",
      "로고 플레이트 베이직 슬리브리스_그레이 의 개수는  1  개\n",
      "Sensitive Normal Denim Pants  - (Blue) 의 개수는  1  개\n",
      "시드 스톤 네크리스_터키 블루 의 개수는  1  개\n",
      "에폭시 범퍼케이스 - 블랙 킹스네이크 의 개수는  1  개\n",
      "[With 함준수] Hh 벨티드 백 2way (브라운) 의 개수는  1  개\n",
      "덩크 브라운 콤비 페니로퍼 구동화 0351 의 개수는  1  개\n",
      "MINIMAL O10 021 TAPERED 의 개수는  1  개\n",
      "알파치노 오버사이즈 서커 체크 셔츠 의 개수는  1  개\n",
      "몰란 린넨 벌룬 팬츠- 리넨 베이지 의 개수는  1  개\n",
      "Jax_Black 의 개수는  1  개\n",
      "마이러스 44 블랙 의 개수는  1  개\n",
      "미니멀 오버사이즈 크루 넥 니트 [블랙] 의 개수는  1  개\n",
      "릴렉스드 베이식 블레이저 [블랙] 의 개수는  1  개\n",
      "세미 와이드 히든 밴딩 슬랙스 [블랙] 의 개수는  1  개\n",
      "Uto_Black(Matt) 의 개수는  1  개\n",
      "해당 상품은 존재하지 않습니다: 'NoneType' object has no attribute 'text'\n",
      "소프트 U넥 세미 오버핏 티셔츠 [멜란지 그레이] 의 개수는  1  개\n",
      "시티보이 빅오버 옥스포드 셔츠_Royal Blue 의 개수는  1  개\n",
      "WTRD5205 제롬 스퀘어토 첼시부츠 블랙 [250~290MM] 의 개수는  1  개\n",
      "자동/지퍼넥타이- 예장 블랙 슬림 7cm 의 개수는  1  개\n",
      "Cityline 볼캡 의 개수는  1  개\n",
      "집업 니트 자켓 (그레이) 의 개수는  1  개\n",
      "집업 니트 자켓 (블랙) 의 개수는  1  개\n"
     ]
    }
   ],
   "source": [
    "import requests\n",
    "import re, json\n",
    "from bs4 import BeautifulSoup\n",
    "import pandas as pd\n",
    "from selenium import webdriver\n",
    "from selenium.webdriver.common.keys import Keys\n",
    "from selenium.webdriver.common.by import By\n",
    "import pyperclip\n",
    "import time\n",
    "import requests\n",
    "import json,re\n",
    "import base64\n",
    "\n",
    "# 특정 요소(미니멀, 남자)스냅 페이지 들어기기\n",
    "cookies = {\n",
    "    '_gf': 'A',\n",
    "    'tr[vid]': '67dcc9ed80d478.78189875',\n",
    "    'tr[vd]': '1742522861',\n",
    "    '_ga': 'GA1.1.2014950775.1742522862',\n",
    "    '_gcl_au': '1.1.1173424347.1742522862',\n",
    "    '_kmpid': 'km|musinsa.com|1742522862391|8bed8223-fe1b-4702-a9ff-df8d0ca43824',\n",
    "    '_fbp': 'fb.1.1742522862889.61970195871643448',\n",
    "    '_fwb': '1557zuEgyrlkclzlKZTqlUc.1742522862899',\n",
    "    '_pin_unauth': 'dWlkPU9UWTRaVFZtWXpJdE5XVmlPQzAwWW1WakxXSXpNVFl0TlRGalkyVXhOekV6T0dJNQ',\n",
    "    '_hjSessionUser_1491926': 'eyJpZCI6IjM4YmQ2OThkLTMyY2MtNTIxNi1hOWNmLTFmN2MzN2E4ZTI0NiIsImNyZWF0ZWQiOjE3NDI1MjI4NjI5MTcsImV4aXN0aW5nIjp0cnVlfQ==',\n",
    "    '_tt_enable_cookie': '1',\n",
    "    '_ttp': '01JPV7AKAA8M0D5JH5FH4N16B3_.tt.1',\n",
    "    'cart_no': 'x4cYG0jKxoPy11Hca%2F4hvNL%2FJlQrtTNAe1nKIT3RZlY%3D',\n",
    "    '_hjSession_1491926': 'eyJpZCI6IjRlODg4NDg4LTA5MjEtNGZiZS04NmRiLWRmYWNlMTkyNDVmNSIsImMiOjE3NDM1OTUwNzA3MzEsInMiOjAsInIiOjAsInNiIjowLCJzciI6MCwic2UiOjAsImZzIjowLCJzcCI6MH0=',\n",
    "    'ab.storage.deviceId.1773491f-ef03-4901-baf8-dbf84e1de25b': '%7B%22g%22%3A%229fa9d012-1d4c-a302-ef6e-7adb457cf56e%22%2C%22c%22%3A1742522895703%2C%22l%22%3A1743596015889%7D',\n",
    "    'snap_interest': 'd86886a5-26eb-4d80-9393-d85a80de4666',\n",
    "    'ab.storage.sessionId.1773491f-ef03-4901-baf8-dbf84e1de25b': '%7B%22g%22%3A%22da9b78ff-b445-ac2c-37b1-9eb2b76e7e69%22%2C%22e%22%3A1743597831729%2C%22c%22%3A1743596015888%2C%22l%22%3A1743596031729%7D',\n",
    "    'tr[vt]': '1743596273',\n",
    "    'tr[vc]': '2',\n",
    "    'tr[pv]': '2',\n",
    "    'cto_bundle': 'NR4Rp19DWXB3OTN4bXRnSmJmOW5GNmozRGRTSnN3dkxhN0dNZ1E0JTJGYmlLQTVLOE43UHY1MGhmc1FDUG9kc3RFa3olMkJBN2FlVHVScTJtb0hocDF6SyUyRnRDZnM0c1ZTc0d3OHlLa1RNNWpsZmdaNklKZGVaR21RYktYYWVIOFNOaGs0RDFUSnJ4V2lrbG1JcHVJN0ZZelB6YzNFQ0ElM0QlM0Q',\n",
    "    'AMP_74a056ea4a': 'JTdCJTIyZGV2aWNlSWQlMjIlM0ElMjIyMjNkZmIxNC1hNGVhLTRlNmQtYjY3ZS02YzhjODAzYWFlMGElMjIlMkMlMjJzZXNzaW9uSWQlMjIlM0ExNzQzNTk1ODE1MjMxJTJDJTIyb3B0T3V0JTIyJTNBZmFsc2UlN0Q=',\n",
    "    '_ga_8PEGV51YTJ': 'GS1.1.1743595069.4.1.1743596397.48.0.0',\n",
    "    'AMP_TLDTEST': 'MQ==',\n",
    "}\n",
    "\n",
    "headers = {\n",
    "    'accept': 'application/json',\n",
    "    'accept-language': 'ko-KR,ko;q=0.9,en-US;q=0.8,en;q=0.7',\n",
    "    'authorization': 'Bearer null',\n",
    "    'origin': 'https://www.musinsa.com',\n",
    "    'priority': 'u=1, i',\n",
    "    'referer': 'https://www.musinsa.com/',\n",
    "    'sec-ch-ua': '\"Chromium\";v=\"134\", \"Not:A-Brand\";v=\"24\", \"Google Chrome\";v=\"134\"',\n",
    "    'sec-ch-ua-mobile': '?0',\n",
    "    'sec-ch-ua-platform': '\"Windows\"',\n",
    "    'sec-fetch-dest': 'empty',\n",
    "    'sec-fetch-mode': 'cors',\n",
    "    'sec-fetch-site': 'same-site',\n",
    "    'user-agent': 'Mozilla/5.0 (Windows NT 10.0; Win64; x64) AppleWebKit/537.36 (KHTML, like Gecko) Chrome/134.0.0.0 Safari/537.36',\n",
    "    # 'cookie': '_gf=A; tr[vid]=67dcc9ed80d478.78189875; tr[vd]=1742522861; _ga=GA1.1.2014950775.1742522862; _gcl_au=1.1.1173424347.1742522862; _kmpid=km|musinsa.com|1742522862391|8bed8223-fe1b-4702-a9ff-df8d0ca43824; _fbp=fb.1.1742522862889.61970195871643448; _fwb=1557zuEgyrlkclzlKZTqlUc.1742522862899; _pin_unauth=dWlkPU9UWTRaVFZtWXpJdE5XVmlPQzAwWW1WakxXSXpNVFl0TlRGalkyVXhOekV6T0dJNQ; _hjSessionUser_1491926=eyJpZCI6IjM4YmQ2OThkLTMyY2MtNTIxNi1hOWNmLTFmN2MzN2E4ZTI0NiIsImNyZWF0ZWQiOjE3NDI1MjI4NjI5MTcsImV4aXN0aW5nIjp0cnVlfQ==; _tt_enable_cookie=1; _ttp=01JPV7AKAA8M0D5JH5FH4N16B3_.tt.1; cart_no=x4cYG0jKxoPy11Hca%2F4hvNL%2FJlQrtTNAe1nKIT3RZlY%3D; _hjSession_1491926=eyJpZCI6IjRlODg4NDg4LTA5MjEtNGZiZS04NmRiLWRmYWNlMTkyNDVmNSIsImMiOjE3NDM1OTUwNzA3MzEsInMiOjAsInIiOjAsInNiIjowLCJzciI6MCwic2UiOjAsImZzIjowLCJzcCI6MH0=; ab.storage.deviceId.1773491f-ef03-4901-baf8-dbf84e1de25b=%7B%22g%22%3A%229fa9d012-1d4c-a302-ef6e-7adb457cf56e%22%2C%22c%22%3A1742522895703%2C%22l%22%3A1743596015889%7D; snap_interest=d86886a5-26eb-4d80-9393-d85a80de4666; ab.storage.sessionId.1773491f-ef03-4901-baf8-dbf84e1de25b=%7B%22g%22%3A%22da9b78ff-b445-ac2c-37b1-9eb2b76e7e69%22%2C%22e%22%3A1743597831729%2C%22c%22%3A1743596015888%2C%22l%22%3A1743596031729%7D; tr[vt]=1743596273; tr[vc]=2; tr[pv]=2; cto_bundle=NR4Rp19DWXB3OTN4bXRnSmJmOW5GNmozRGRTSnN3dkxhN0dNZ1E0JTJGYmlLQTVLOE43UHY1MGhmc1FDUG9kc3RFa3olMkJBN2FlVHVScTJtb0hocDF6SyUyRnRDZnM0c1ZTc0d3OHlLa1RNNWpsZmdaNklKZGVaR21RYktYYWVIOFNOaGs0RDFUSnJ4V2lrbG1JcHVJN0ZZelB6YzNFQ0ElM0QlM0Q; AMP_74a056ea4a=JTdCJTIyZGV2aWNlSWQlMjIlM0ElMjIyMjNkZmIxNC1hNGVhLTRlNmQtYjY3ZS02YzhjODAzYWFlMGElMjIlMkMlMjJzZXNzaW9uSWQlMjIlM0ExNzQzNTk1ODE1MjMxJTJDJTIyb3B0T3V0JTIyJTNBZmFsc2UlN0Q=; _ga_8PEGV51YTJ=GS1.1.1743595069.4.1.1743596397.48.0.0; AMP_TLDTEST=MQ==',\n",
    "}\n",
    "data = {}\n",
    "id_list = []\n",
    "\n",
    "for i in range(1, 3) :\n",
    "    params = {\n",
    "        'formatTypes': 'POST,SHORTS',\n",
    "        'bodyHeightRange': '',\n",
    "        'bodyWeightRange': '',\n",
    "        'brands': '',\n",
    "        'contentTypes': '',\n",
    "        'genders': 'MEN',\n",
    "        'goodsCategories': '',\n",
    "        'seasonLabels': '4',\n",
    "        'sort': 'POPULAR',\n",
    "        'styleLabels': '5',\n",
    "        'tpoLabels': '',\n",
    "        'page': i,\n",
    "        'size': '24',\n",
    "        'excludedSnapIds': id_list,\n",
    "    }\n",
    "    # 스냅\n",
    "    res = requests.get(\n",
    "        'https://content.musinsa.com/api2/content/snap/ui/v2/modules/discovery/sections',\n",
    "        params=params,\n",
    "        cookies=cookies,\n",
    "        headers=headers,\n",
    "    )\n",
    "    for idd in json.loads(res.text)['data']['list'][0]['contents']:\n",
    "        id_list.append(idd['id'])\n",
    "    for element in (json.loads(res.text)['data']['list'][0]['contents']) :\n",
    "        \n",
    "        params = {\n",
    "            'formatTypes': 'POST,SHORTS',\n",
    "            'page': '1',\n",
    "            'size': '10',\n",
    "        }\n",
    "\n",
    "        # 스냅샷 상세보기\n",
    "        response = requests.get(\n",
    "            f'https://content.musinsa.com/api2/content/snap/v1/snaps/{element['id']}/recommendations',\n",
    "            params=params,\n",
    "            cookies=cookies,\n",
    "            headers=headers,\n",
    "        )\n",
    "\n",
    "        for product in (json.loads(response.text)['data']['list'][0]['goods']) :\n",
    "    \n",
    "            product_res = requests.get(f'https://www.musinsa.com/products/{product['goodsNo']}', cookies=cookies, headers=headers)\n",
    "            soup = BeautifulSoup(product_res.text, \"html.parser\")\n",
    "            html = soup.select_one(\"script#category-data\")\n",
    "            try:\n",
    "                pattern = r'window\\.__MSS__\\.product\\.state\\s*=\\s*(\\{.*?\\})?;'\n",
    "                match = re.search(pattern, html.text, re.DOTALL)\n",
    "                if match:\n",
    "                    result = match.group(1)\n",
    "                    product_name = json.loads(result)['goodsNm']\n",
    "                    image = \"https://image.msscdn.net/thumbnails\" + json.loads(result)['thumbnailImageUrl']\n",
    "                else:\n",
    "                    print(\"패턴 불일치\")\n",
    "            except Exception as e:\n",
    "                print(f\"해당 상품은 존재하지 않습니다: {e}\")\n",
    "                continue\n",
    "                \n",
    "            if product_name in data:\n",
    "                data[product_name][\"count\"] += 1\n",
    "            else:\n",
    "            \n",
    "            \n",
    "                params = {\n",
    "                    'goodsSaleType': 'SALE',\n",
    "                    'optKindCd': 'CLOTHES',\n",
    "                }\n",
    "                \n",
    "                color_res = requests.get(\n",
    "                    f'https://goods-detail.musinsa.com/api2/goods/{product['goodsNo']}/v2/options',\n",
    "                    params=params,\n",
    "                    cookies=cookies,\n",
    "                    headers=headers,\n",
    "                )\n",
    "                if json.loads(color_res.text)['data']['basic'][0]['name'] == '컬러' :\n",
    "                    color = json.loads(color_res.text)['data']['basic'][0]['optionValues'][0]['name']\n",
    "                else :\n",
    "                    color = \"\"\n",
    "                    \n",
    "                data[product_name] = {\n",
    "                    \"color\": color,\n",
    "                    \"image\": image,\n",
    "                    \"count\": 1\n",
    "                }\n",
    "            print(product_name,\"의 개수는 \",data[product_name]['count'], \" 개\")\n"
   ]
  },
  {
   "cell_type": "code",
   "execution_count": 129,
   "id": "52ce38cc-ad75-4693-ad86-034f56831368",
   "metadata": {},
   "outputs": [
    {
     "data": {
      "text/html": [
       "<div>\n",
       "<style scoped>\n",
       "    .dataframe tbody tr th:only-of-type {\n",
       "        vertical-align: middle;\n",
       "    }\n",
       "\n",
       "    .dataframe tbody tr th {\n",
       "        vertical-align: top;\n",
       "    }\n",
       "\n",
       "    .dataframe thead th {\n",
       "        text-align: right;\n",
       "    }\n",
       "</style>\n",
       "<table border=\"1\" class=\"dataframe\">\n",
       "  <thead>\n",
       "    <tr style=\"text-align: right;\">\n",
       "      <th></th>\n",
       "      <th>product_name</th>\n",
       "      <th>color</th>\n",
       "      <th>image</th>\n",
       "      <th>count</th>\n",
       "    </tr>\n",
       "  </thead>\n",
       "  <tbody>\n",
       "    <tr>\n",
       "      <th>0</th>\n",
       "      <td>플란넬 오버 체크 셔츠 [블랙]</td>\n",
       "      <td>블랙</td>\n",
       "      <td>https://image.msscdn.net/thumbnails/images/goo...</td>\n",
       "      <td>1</td>\n",
       "    </tr>\n",
       "    <tr>\n",
       "      <th>1</th>\n",
       "      <td>폰테 크루 넥 긴팔 티셔츠 [멜란지 그레이]</td>\n",
       "      <td></td>\n",
       "      <td>https://image.msscdn.net/thumbnails/images/goo...</td>\n",
       "      <td>1</td>\n",
       "    </tr>\n",
       "    <tr>\n",
       "      <th>2</th>\n",
       "      <td>다트 와이드 데님 팬츠 BROWN</td>\n",
       "      <td></td>\n",
       "      <td>https://image.msscdn.net/thumbnails/images/goo...</td>\n",
       "      <td>1</td>\n",
       "    </tr>\n",
       "    <tr>\n",
       "      <th>3</th>\n",
       "      <td>레더 트림 카메라백</td>\n",
       "      <td></td>\n",
       "      <td>https://image.msscdn.net/thumbnails/images/goo...</td>\n",
       "      <td>1</td>\n",
       "    </tr>\n",
       "    <tr>\n",
       "      <th>4</th>\n",
       "      <td>헨리넥 롱 슬리브 티셔츠 (블랙)</td>\n",
       "      <td></td>\n",
       "      <td>https://image.msscdn.net/thumbnails/images/goo...</td>\n",
       "      <td>1</td>\n",
       "    </tr>\n",
       "    <tr>\n",
       "      <th>...</th>\n",
       "      <td>...</td>\n",
       "      <td>...</td>\n",
       "      <td>...</td>\n",
       "      <td>...</td>\n",
       "    </tr>\n",
       "    <tr>\n",
       "      <th>102</th>\n",
       "      <td>WTRD5205 제롬 스퀘어토 첼시부츠 블랙 [250~290MM]</td>\n",
       "      <td></td>\n",
       "      <td>https://image.msscdn.net/thumbnails/images/goo...</td>\n",
       "      <td>1</td>\n",
       "    </tr>\n",
       "    <tr>\n",
       "      <th>103</th>\n",
       "      <td>자동/지퍼넥타이- 예장 블랙 슬림 7cm</td>\n",
       "      <td></td>\n",
       "      <td>https://image.msscdn.net/thumbnails/images/goo...</td>\n",
       "      <td>1</td>\n",
       "    </tr>\n",
       "    <tr>\n",
       "      <th>104</th>\n",
       "      <td>Cityline 볼캡</td>\n",
       "      <td>Brown - Blue</td>\n",
       "      <td>https://image.msscdn.net/thumbnails/images/goo...</td>\n",
       "      <td>1</td>\n",
       "    </tr>\n",
       "    <tr>\n",
       "      <th>105</th>\n",
       "      <td>집업 니트 자켓 (그레이)</td>\n",
       "      <td></td>\n",
       "      <td>https://image.msscdn.net/thumbnails/images/goo...</td>\n",
       "      <td>1</td>\n",
       "    </tr>\n",
       "    <tr>\n",
       "      <th>106</th>\n",
       "      <td>집업 니트 자켓 (블랙)</td>\n",
       "      <td></td>\n",
       "      <td>https://image.msscdn.net/thumbnails/images/goo...</td>\n",
       "      <td>1</td>\n",
       "    </tr>\n",
       "  </tbody>\n",
       "</table>\n",
       "<p>107 rows × 4 columns</p>\n",
       "</div>"
      ],
      "text/plain": [
       "                             product_name         color  \\\n",
       "0                       플란넬 오버 체크 셔츠 [블랙]            블랙   \n",
       "1                폰테 크루 넥 긴팔 티셔츠 [멜란지 그레이]                 \n",
       "2                      다트 와이드 데님 팬츠 BROWN                 \n",
       "3                              레더 트림 카메라백                 \n",
       "4                      헨리넥 롱 슬리브 티셔츠 (블랙)                 \n",
       "..                                    ...           ...   \n",
       "102  WTRD5205 제롬 스퀘어토 첼시부츠 블랙 [250~290MM]                 \n",
       "103                자동/지퍼넥타이- 예장 블랙 슬림 7cm                 \n",
       "104                           Cityline 볼캡  Brown - Blue   \n",
       "105                        집업 니트 자켓 (그레이)                 \n",
       "106                         집업 니트 자켓 (블랙)                 \n",
       "\n",
       "                                                 image  count  \n",
       "0    https://image.msscdn.net/thumbnails/images/goo...      1  \n",
       "1    https://image.msscdn.net/thumbnails/images/goo...      1  \n",
       "2    https://image.msscdn.net/thumbnails/images/goo...      1  \n",
       "3    https://image.msscdn.net/thumbnails/images/goo...      1  \n",
       "4    https://image.msscdn.net/thumbnails/images/goo...      1  \n",
       "..                                                 ...    ...  \n",
       "102  https://image.msscdn.net/thumbnails/images/goo...      1  \n",
       "103  https://image.msscdn.net/thumbnails/images/goo...      1  \n",
       "104  https://image.msscdn.net/thumbnails/images/goo...      1  \n",
       "105  https://image.msscdn.net/thumbnails/images/goo...      1  \n",
       "106  https://image.msscdn.net/thumbnails/images/goo...      1  \n",
       "\n",
       "[107 rows x 4 columns]"
      ]
     },
     "execution_count": 129,
     "metadata": {},
     "output_type": "execute_result"
    }
   ],
   "source": [
    "df = pd.DataFrame.from_dict(data, orient='index').reset_index()\n",
    "df = df.rename(columns={\"index\": \"product_name\"})\n",
    "df"
   ]
  },
  {
   "cell_type": "code",
   "execution_count": 131,
   "id": "6c014c4b-fb8d-489a-b620-790d01a65571",
   "metadata": {},
   "outputs": [
    {
     "data": {
      "text/html": [
       "<div>\n",
       "<style scoped>\n",
       "    .dataframe tbody tr th:only-of-type {\n",
       "        vertical-align: middle;\n",
       "    }\n",
       "\n",
       "    .dataframe tbody tr th {\n",
       "        vertical-align: top;\n",
       "    }\n",
       "\n",
       "    .dataframe thead th {\n",
       "        text-align: right;\n",
       "    }\n",
       "</style>\n",
       "<table border=\"1\" class=\"dataframe\">\n",
       "  <thead>\n",
       "    <tr style=\"text-align: right;\">\n",
       "      <th></th>\n",
       "      <th>product_name</th>\n",
       "      <th>color</th>\n",
       "      <th>image</th>\n",
       "      <th>count</th>\n",
       "    </tr>\n",
       "  </thead>\n",
       "  <tbody>\n",
       "    <tr>\n",
       "      <th>18</th>\n",
       "      <td>뉴 유팁 페니로퍼 R21M055 (투톤레더 버건디)</td>\n",
       "      <td></td>\n",
       "      <td>https://image.msscdn.net/thumbnails/images/goo...</td>\n",
       "      <td>2</td>\n",
       "    </tr>\n",
       "    <tr>\n",
       "      <th>55</th>\n",
       "      <td>심볼 트랙 럭비카라 오버핏 맨투맨 스웻 티셔츠 3Color</td>\n",
       "      <td>블랙</td>\n",
       "      <td>https://image.msscdn.net/thumbnails/images/goo...</td>\n",
       "      <td>2</td>\n",
       "    </tr>\n",
       "    <tr>\n",
       "      <th>59</th>\n",
       "      <td>케이블 반팔 니트(12GG) 055522 [8color]</td>\n",
       "      <td>01다크네이비</td>\n",
       "      <td>https://image.msscdn.net/thumbnails/images/goo...</td>\n",
       "      <td>2</td>\n",
       "    </tr>\n",
       "    <tr>\n",
       "      <th>60</th>\n",
       "      <td>에센셜 울 트라우저 (블랙)</td>\n",
       "      <td></td>\n",
       "      <td>https://image.msscdn.net/thumbnails/images/goo...</td>\n",
       "      <td>2</td>\n",
       "    </tr>\n",
       "    <tr>\n",
       "      <th>61</th>\n",
       "      <td>MOVE</td>\n",
       "      <td></td>\n",
       "      <td>https://image.msscdn.net/thumbnails/images/goo...</td>\n",
       "      <td>2</td>\n",
       "    </tr>\n",
       "  </tbody>\n",
       "</table>\n",
       "</div>"
      ],
      "text/plain": [
       "                        product_name    color  \\\n",
       "18      뉴 유팁 페니로퍼 R21M055 (투톤레더 버건디)            \n",
       "55  심볼 트랙 럭비카라 오버핏 맨투맨 스웻 티셔츠 3Color       블랙   \n",
       "59   케이블 반팔 니트(12GG) 055522 [8color]  01다크네이비   \n",
       "60                   에센셜 울 트라우저 (블랙)            \n",
       "61                              MOVE            \n",
       "\n",
       "                                                image  count  \n",
       "18  https://image.msscdn.net/thumbnails/images/goo...      2  \n",
       "55  https://image.msscdn.net/thumbnails/images/goo...      2  \n",
       "59  https://image.msscdn.net/thumbnails/images/goo...      2  \n",
       "60  https://image.msscdn.net/thumbnails/images/goo...      2  \n",
       "61  https://image.msscdn.net/thumbnails/images/goo...      2  "
      ]
     },
     "execution_count": 131,
     "metadata": {},
     "output_type": "execute_result"
    }
   ],
   "source": [
    "df[df[\"count\"] == df[\"count\"].max()]\n"
   ]
  },
  {
   "cell_type": "markdown",
   "id": "f83af95e-4d00-4fb7-a41e-ba6808403239",
   "metadata": {},
   "source": [
    "### 색상 추출하는 코드"
   ]
  },
  {
   "cell_type": "code",
   "execution_count": 1,
   "id": "d2d1fa74-305f-4252-a9db-9f05bbb5725d",
   "metadata": {},
   "outputs": [],
   "source": [
    "# 색상이 들어있는 데이터 찾기"
   ]
  },
  {
   "cell_type": "code",
   "execution_count": null,
   "id": "c2e452f9-8bfb-4802-933c-64bf0c3e9d36",
   "metadata": {},
   "outputs": [],
   "source": []
  }
 ],
 "metadata": {
  "kernelspec": {
   "display_name": "crawling",
   "language": "python",
   "name": "crawling"
  },
  "language_info": {
   "codemirror_mode": {
    "name": "ipython",
    "version": 3
   },
   "file_extension": ".py",
   "mimetype": "text/x-python",
   "name": "python",
   "nbconvert_exporter": "python",
   "pygments_lexer": "ipython3",
   "version": "3.12.9"
  }
 },
 "nbformat": 4,
 "nbformat_minor": 5
}
