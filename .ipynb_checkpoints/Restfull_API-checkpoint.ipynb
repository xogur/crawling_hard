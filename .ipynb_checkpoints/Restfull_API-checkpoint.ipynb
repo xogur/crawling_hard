{
 "cells": [
  {
   "cell_type": "code",
   "execution_count": 11,
   "id": "b3112cd3-d7b3-4b0b-8a8a-46de57d6e91d",
   "metadata": {},
   "outputs": [],
   "source": [
    "api_key = \"df50219e3db9fa4481741caa856d106e\""
   ]
  },
  {
   "cell_type": "code",
   "execution_count": 13,
   "id": "e3ba0ba6-748b-40dc-85b4-0e7ee7c20d78",
   "metadata": {},
   "outputs": [
    {
     "data": {
      "text/plain": [
       "'https://api.openweathermap.org/data/2.5/weather?lat=37.5665&lon=126.978&appid=df50219e3db9fa4481741caa856d106e'"
      ]
     },
     "execution_count": 13,
     "metadata": {},
     "output_type": "execute_result"
    }
   ],
   "source": [
    "url = \"https://api.openweathermap.org/data/2.5/weather?lat={}&lon={}&appid={}\".format(37.5665,126.9780, api_key)\n",
    "url"
   ]
  },
  {
   "cell_type": "code",
   "execution_count": 15,
   "id": "3a13e069-7e9c-4808-9038-1a8a578ad51c",
   "metadata": {},
   "outputs": [],
   "source": [
    "import pandas as pd\n",
    "import requests\n",
    "import json"
   ]
  },
  {
   "cell_type": "code",
   "execution_count": 17,
   "id": "e79ec723-3d78-4813-982e-71c30d6ed114",
   "metadata": {},
   "outputs": [
    {
     "data": {
      "text/plain": [
       "<Response [401]>"
      ]
     },
     "execution_count": 17,
     "metadata": {},
     "output_type": "execute_result"
    }
   ],
   "source": [
    "res = requests.get(url)\n",
    "res"
   ]
  },
  {
   "cell_type": "code",
   "execution_count": null,
   "id": "9e25d156-0df2-447a-a74e-3d6c157d848e",
   "metadata": {},
   "outputs": [],
   "source": []
  }
 ],
 "metadata": {
  "kernelspec": {
   "display_name": "Python [conda env:crawling_class]",
   "language": "python",
   "name": "conda-env-crawling_class-py"
  },
  "language_info": {
   "codemirror_mode": {
    "name": "ipython",
    "version": 3
   },
   "file_extension": ".py",
   "mimetype": "text/x-python",
   "name": "python",
   "nbconvert_exporter": "python",
   "pygments_lexer": "ipython3",
   "version": "3.8.5"
  }
 },
 "nbformat": 4,
 "nbformat_minor": 5
}
