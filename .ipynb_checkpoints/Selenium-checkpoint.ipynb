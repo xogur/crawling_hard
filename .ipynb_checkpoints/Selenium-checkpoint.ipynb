{
 "cells": [
  {
   "cell_type": "markdown",
   "id": "2d45b1bb-4ae8-41bb-8040-877d02cd6406",
   "metadata": {},
   "source": [
    "### Selenium API 살펴보기"
   ]
  },
  {
   "cell_type": "code",
   "execution_count": 22,
   "id": "b4a4422c-bf53-4bdb-ba77-4b4d3d3874b2",
   "metadata": {},
   "outputs": [],
   "source": [
    "from selenium import webdriver\n",
    "from selenium.webdriver.common.by import By"
   ]
  },
  {
   "cell_type": "code",
   "execution_count": 6,
   "id": "17779d3d-0387-45cd-83a1-7c26f1501c30",
   "metadata": {},
   "outputs": [],
   "source": [
    "driver = webdriver.Chrome()"
   ]
  },
  {
   "cell_type": "code",
   "execution_count": 12,
   "id": "05b6e233-b7e0-421e-9ddd-f5dfff7fd506",
   "metadata": {},
   "outputs": [],
   "source": [
    "driver.get(\"https://naver.com\")"
   ]
  },
  {
   "cell_type": "code",
   "execution_count": 24,
   "id": "f4e1d1aa-f11d-48e0-9535-a7cd040070aa",
   "metadata": {},
   "outputs": [
    {
     "data": {
      "text/plain": [
       "<selenium.webdriver.remote.webelement.WebElement (session=\"fe680864a5788ced12459020c519aa32\", element=\"f.8726F868AB002A692D546D95CA72DBA9.d.EAEDCA1A5FFD4F7361AA5AF0025B28A6.e.845\")>"
      ]
     },
     "execution_count": 24,
     "metadata": {},
     "output_type": "execute_result"
    }
   ],
   "source": [
    "driver.find_element(By.CLASS_NAME, \"shortcut_list\")"
   ]
  },
  {
   "cell_type": "code",
   "execution_count": 26,
   "id": "581295e7-8492-4332-9ec4-42d6ae39d385",
   "metadata": {},
   "outputs": [
    {
     "data": {
      "text/plain": [
       "<selenium.webdriver.remote.webelement.WebElement (session=\"fe680864a5788ced12459020c519aa32\", element=\"f.8726F868AB002A692D546D95CA72DBA9.d.EAEDCA1A5FFD4F7361AA5AF0025B28A6.e.496\")>"
      ]
     },
     "execution_count": 26,
     "metadata": {},
     "output_type": "execute_result"
    }
   ],
   "source": [
    "driver.find_element(By.LINK_TEXT, \"바로가기 펼침\")"
   ]
  },
  {
   "cell_type": "code",
   "execution_count": 30,
   "id": "86c666e8-6f0f-4a2b-9f66-3d557952fd6a",
   "metadata": {},
   "outputs": [
    {
     "data": {
      "text/plain": [
       "[<selenium.webdriver.remote.webelement.WebElement (session=\"fe680864a5788ced12459020c519aa32\", element=\"f.8726F868AB002A692D546D95CA72DBA9.d.EAEDCA1A5FFD4F7361AA5AF0025B28A6.e.417\")>,\n",
       " <selenium.webdriver.remote.webelement.WebElement (session=\"fe680864a5788ced12459020c519aa32\", element=\"f.8726F868AB002A692D546D95CA72DBA9.d.EAEDCA1A5FFD4F7361AA5AF0025B28A6.e.421\")>,\n",
       " <selenium.webdriver.remote.webelement.WebElement (session=\"fe680864a5788ced12459020c519aa32\", element=\"f.8726F868AB002A692D546D95CA72DBA9.d.EAEDCA1A5FFD4F7361AA5AF0025B28A6.e.425\")>,\n",
       " <selenium.webdriver.remote.webelement.WebElement (session=\"fe680864a5788ced12459020c519aa32\", element=\"f.8726F868AB002A692D546D95CA72DBA9.d.EAEDCA1A5FFD4F7361AA5AF0025B28A6.e.429\")>,\n",
       " <selenium.webdriver.remote.webelement.WebElement (session=\"fe680864a5788ced12459020c519aa32\", element=\"f.8726F868AB002A692D546D95CA72DBA9.d.EAEDCA1A5FFD4F7361AA5AF0025B28A6.e.433\")>,\n",
       " <selenium.webdriver.remote.webelement.WebElement (session=\"fe680864a5788ced12459020c519aa32\", element=\"f.8726F868AB002A692D546D95CA72DBA9.d.EAEDCA1A5FFD4F7361AA5AF0025B28A6.e.437\")>,\n",
       " <selenium.webdriver.remote.webelement.WebElement (session=\"fe680864a5788ced12459020c519aa32\", element=\"f.8726F868AB002A692D546D95CA72DBA9.d.EAEDCA1A5FFD4F7361AA5AF0025B28A6.e.479\")>,\n",
       " <selenium.webdriver.remote.webelement.WebElement (session=\"fe680864a5788ced12459020c519aa32\", element=\"f.8726F868AB002A692D546D95CA72DBA9.d.EAEDCA1A5FFD4F7361AA5AF0025B28A6.e.483\")>,\n",
       " <selenium.webdriver.remote.webelement.WebElement (session=\"fe680864a5788ced12459020c519aa32\", element=\"f.8726F868AB002A692D546D95CA72DBA9.d.EAEDCA1A5FFD4F7361AA5AF0025B28A6.e.487\")>,\n",
       " <selenium.webdriver.remote.webelement.WebElement (session=\"fe680864a5788ced12459020c519aa32\", element=\"f.8726F868AB002A692D546D95CA72DBA9.d.EAEDCA1A5FFD4F7361AA5AF0025B28A6.e.491\")>,\n",
       " <selenium.webdriver.remote.webelement.WebElement (session=\"fe680864a5788ced12459020c519aa32\", element=\"f.8726F868AB002A692D546D95CA72DBA9.d.EAEDCA1A5FFD4F7361AA5AF0025B28A6.e.495\")>,\n",
       " <selenium.webdriver.remote.webelement.WebElement (session=\"fe680864a5788ced12459020c519aa32\", element=\"f.8726F868AB002A692D546D95CA72DBA9.d.EAEDCA1A5FFD4F7361AA5AF0025B28A6.e.499\")>]"
      ]
     },
     "execution_count": 30,
     "metadata": {},
     "output_type": "execute_result"
    }
   ],
   "source": [
    "driver.find_elements(By.CSS_SELECTOR,\"ul.shortcut_list > li.shortcut_item\")"
   ]
  },
  {
   "cell_type": "code",
   "execution_count": 38,
   "id": "08fbc7f9-b0a2-41f8-8834-eb0a90c393d6",
   "metadata": {},
   "outputs": [],
   "source": [
    "e = driver.find_element(By.CSS_SELECTOR,\"div[aria-label='주요 서비스']\")"
   ]
  },
  {
   "cell_type": "code",
   "execution_count": 40,
   "id": "146e571d-d26e-4eea-9716-6e6c4ea068af",
   "metadata": {},
   "outputs": [
    {
     "data": {
      "text/plain": [
       "selenium.webdriver.remote.webelement.WebElement"
      ]
     },
     "execution_count": 40,
     "metadata": {},
     "output_type": "execute_result"
    }
   ],
   "source": [
    "type(e)"
   ]
  },
  {
   "cell_type": "code",
   "execution_count": 42,
   "id": "15dfcda7-7655-4994-8bad-c02ae068c582",
   "metadata": {},
   "outputs": [
    {
     "data": {
      "text/plain": [
       "[<selenium.webdriver.remote.webelement.WebElement (session=\"fe680864a5788ced12459020c519aa32\", element=\"f.8726F868AB002A692D546D95CA72DBA9.d.EAEDCA1A5FFD4F7361AA5AF0025B28A6.e.418\")>,\n",
       " <selenium.webdriver.remote.webelement.WebElement (session=\"fe680864a5788ced12459020c519aa32\", element=\"f.8726F868AB002A692D546D95CA72DBA9.d.EAEDCA1A5FFD4F7361AA5AF0025B28A6.e.422\")>,\n",
       " <selenium.webdriver.remote.webelement.WebElement (session=\"fe680864a5788ced12459020c519aa32\", element=\"f.8726F868AB002A692D546D95CA72DBA9.d.EAEDCA1A5FFD4F7361AA5AF0025B28A6.e.426\")>,\n",
       " <selenium.webdriver.remote.webelement.WebElement (session=\"fe680864a5788ced12459020c519aa32\", element=\"f.8726F868AB002A692D546D95CA72DBA9.d.EAEDCA1A5FFD4F7361AA5AF0025B28A6.e.430\")>,\n",
       " <selenium.webdriver.remote.webelement.WebElement (session=\"fe680864a5788ced12459020c519aa32\", element=\"f.8726F868AB002A692D546D95CA72DBA9.d.EAEDCA1A5FFD4F7361AA5AF0025B28A6.e.434\")>,\n",
       " <selenium.webdriver.remote.webelement.WebElement (session=\"fe680864a5788ced12459020c519aa32\", element=\"f.8726F868AB002A692D546D95CA72DBA9.d.EAEDCA1A5FFD4F7361AA5AF0025B28A6.e.438\")>,\n",
       " <selenium.webdriver.remote.webelement.WebElement (session=\"fe680864a5788ced12459020c519aa32\", element=\"f.8726F868AB002A692D546D95CA72DBA9.d.EAEDCA1A5FFD4F7361AA5AF0025B28A6.e.480\")>,\n",
       " <selenium.webdriver.remote.webelement.WebElement (session=\"fe680864a5788ced12459020c519aa32\", element=\"f.8726F868AB002A692D546D95CA72DBA9.d.EAEDCA1A5FFD4F7361AA5AF0025B28A6.e.484\")>,\n",
       " <selenium.webdriver.remote.webelement.WebElement (session=\"fe680864a5788ced12459020c519aa32\", element=\"f.8726F868AB002A692D546D95CA72DBA9.d.EAEDCA1A5FFD4F7361AA5AF0025B28A6.e.488\")>,\n",
       " <selenium.webdriver.remote.webelement.WebElement (session=\"fe680864a5788ced12459020c519aa32\", element=\"f.8726F868AB002A692D546D95CA72DBA9.d.EAEDCA1A5FFD4F7361AA5AF0025B28A6.e.492\")>,\n",
       " <selenium.webdriver.remote.webelement.WebElement (session=\"fe680864a5788ced12459020c519aa32\", element=\"f.8726F868AB002A692D546D95CA72DBA9.d.EAEDCA1A5FFD4F7361AA5AF0025B28A6.e.496\")>,\n",
       " <selenium.webdriver.remote.webelement.WebElement (session=\"fe680864a5788ced12459020c519aa32\", element=\"f.8726F868AB002A692D546D95CA72DBA9.d.EAEDCA1A5FFD4F7361AA5AF0025B28A6.e.501\")>]"
      ]
     },
     "execution_count": 42,
     "metadata": {},
     "output_type": "execute_result"
    }
   ],
   "source": [
    "e.find_elements(By.CSS_SELECTOR,\"a\")"
   ]
  },
  {
   "cell_type": "code",
   "execution_count": 44,
   "id": "79cbb849-e0bf-42cb-bcd5-c6d60745c91a",
   "metadata": {},
   "outputs": [
    {
     "data": {
      "text/plain": [
       "<bound method WebDriver.refresh of <selenium.webdriver.chrome.webdriver.WebDriver (session=\"fe680864a5788ced12459020c519aa32\")>>"
      ]
     },
     "execution_count": 44,
     "metadata": {},
     "output_type": "execute_result"
    }
   ],
   "source": [
    "driver.refresh"
   ]
  },
  {
   "cell_type": "code",
   "execution_count": null,
   "id": "18e4fe13-33bd-4bc3-bbed-02ed4b34b64b",
   "metadata": {},
   "outputs": [],
   "source": []
  }
 ],
 "metadata": {
  "kernelspec": {
   "display_name": "Python [conda env:crawling_class]",
   "language": "python",
   "name": "conda-env-crawling_class-py"
  },
  "language_info": {
   "codemirror_mode": {
    "name": "ipython",
    "version": 3
   },
   "file_extension": ".py",
   "mimetype": "text/x-python",
   "name": "python",
   "nbconvert_exporter": "python",
   "pygments_lexer": "ipython3",
   "version": "3.8.5"
  }
 },
 "nbformat": 4,
 "nbformat_minor": 5
}
