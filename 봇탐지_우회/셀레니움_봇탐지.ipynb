{
 "cells": [
  {
   "cell_type": "markdown",
   "id": "42140e4d-3455-4882-9b88-a668000eb0db",
   "metadata": {},
   "source": [
    "### enable-switch 제거"
   ]
  },
  {
   "cell_type": "code",
   "execution_count": 1,
   "id": "837fbab5-eeec-4429-ab58-258260289a25",
   "metadata": {},
   "outputs": [],
   "source": [
    "from selenium import webdriver\n",
    "from selenium.webdriver.chrome.options import Options\n",
    "\n",
    "options = Options()\n",
    "options.add_experimental_option(\"excludeSwitches\", [\"enable-automation\"])\n",
    "driver = webdriver.Chrome(options=options)"
   ]
  },
  {
   "cell_type": "markdown",
   "id": "85c03e0a-865d-4801-bfca-57588517cea4",
   "metadata": {},
   "source": [
    "### navigator 객체의 webdriver 속성 false 변경"
   ]
  },
  {
   "cell_type": "code",
   "execution_count": 2,
   "id": "1dfda03e-1509-4500-984b-277ee1bb7561",
   "metadata": {},
   "outputs": [],
   "source": [
    "options = Options()\n",
    "options.add_argument(\"--disable-blink-features=AutomationControlled\")\n",
    "driver = webdriver.Chrome(options=options)"
   ]
  },
  {
   "cell_type": "markdown",
   "id": "4be09c53-c4d0-440e-8b23-96ec100c1780",
   "metadata": {},
   "source": [
    "### 자동화 확장 프로그램 사용 금지"
   ]
  },
  {
   "cell_type": "code",
   "execution_count": null,
   "id": "87c8ec4b-268f-4744-a0dc-66779af1d1fc",
   "metadata": {},
   "outputs": [],
   "source": [
    "options = Options()\n",
    "options.add_experimental_option(\"useAutomationExtension\",False)\n",
    "driver = webdriver.Chrome(options=options)"
   ]
  },
  {
   "cell_type": "markdown",
   "id": "4476cba9-a525-49ba-829e-a1f6e0f58952",
   "metadata": {},
   "source": [
    "### 페이지 로딩 전 webdriver속성 제거"
   ]
  },
  {
   "cell_type": "code",
   "execution_count": 3,
   "id": "51f6cb9c-9e30-42ad-88e0-383bba0c5ba5",
   "metadata": {},
   "outputs": [],
   "source": [
    "driver = webdriver.Chrome()\n",
    "driver.execute_cdp_cmd(\"Page.addScriptToEvaluateOnNewDocument\", {\n",
    "    \"source\": \"\"\"\n",
    "    Object.defineProperty(navigator, 'webdriver', {\n",
    "        get: () => undefined\n",
    "    })\n",
    "    \"\"\"\n",
    "})\n",
    "\n",
    "driver.get(\"https://begincoding.pythonanywhere.com/\")"
   ]
  },
  {
   "cell_type": "markdown",
   "id": "f89355af-ae61-4562-8060-66429f60b0ca",
   "metadata": {},
   "source": [
    "### 헤드리스 모드"
   ]
  },
  {
   "cell_type": "code",
   "execution_count": 9,
   "id": "31ba0de9-ebb9-45ef-9721-d23040c6f197",
   "metadata": {},
   "outputs": [],
   "source": [
    "options = Options()\n",
    "options.add_argument('--headless')\n",
    "options.add_argument('--window-size=1920,1080')\n",
    "options.add_argument('--user-agent=Mozilla/5.0 (Windows NT 10.0; Win64; x64) AppleWebKit/537.36 (KHTML, like Gecko) Chrome/134.0.0.0 Safari/537.3')\n",
    "driver = webdriver.Chrome(options=options)"
   ]
  },
  {
   "cell_type": "code",
   "execution_count": 4,
   "id": "4cafa5fb-ac5f-4ef1-95f1-6029cae78acc",
   "metadata": {},
   "outputs": [],
   "source": [
    "driver = webdriver.Chrome()"
   ]
  },
  {
   "cell_type": "code",
   "execution_count": 10,
   "id": "2ae93064-b2c2-42bc-a98e-c2f59c2bf48c",
   "metadata": {},
   "outputs": [
    {
     "data": {
      "text/plain": [
       "'Mozilla/5.0 (Windows NT 10.0; Win64; x64) AppleWebKit/537.36 (KHTML, like Gecko) Chrome/134.0.0.0 Safari/537.3'"
      ]
     },
     "execution_count": 10,
     "metadata": {},
     "output_type": "execute_result"
    }
   ],
   "source": [
    "driver.execute_script(\"return navigator.userAgent\")"
   ]
  },
  {
   "cell_type": "code",
   "execution_count": 11,
   "id": "46aa8fa9-86e6-4de4-ae85-7fa64fc2bad1",
   "metadata": {},
   "outputs": [],
   "source": [
    "driver.quit()"
   ]
  },
  {
   "cell_type": "markdown",
   "id": "5e7737ed-682c-416d-9c44-ee54bb801966",
   "metadata": {},
   "source": [
    "### 글자 입력 탐지 우회"
   ]
  },
  {
   "cell_type": "code",
   "execution_count": 12,
   "id": "a04a6056-3e05-425e-b7db-396e03551235",
   "metadata": {},
   "outputs": [
    {
     "ename": "NameError",
     "evalue": "name 'pyperclip' is not defined",
     "output_type": "error",
     "traceback": [
      "\u001b[31m---------------------------------------------------------------------------\u001b[39m",
      "\u001b[31mNameError\u001b[39m                                 Traceback (most recent call last)",
      "\u001b[36mCell\u001b[39m\u001b[36m \u001b[39m\u001b[32mIn[12]\u001b[39m\u001b[32m, line 1\u001b[39m\n\u001b[32m----> \u001b[39m\u001b[32m1\u001b[39m \u001b[43mpyperclip\u001b[49m\n",
      "\u001b[31mNameError\u001b[39m: name 'pyperclip' is not defined"
     ]
    }
   ],
   "source": [
    "pyperclip"
   ]
  },
  {
   "cell_type": "markdown",
   "id": "46d9f021-c11c-4385-a7cf-6fde1d64f8c2",
   "metadata": {},
   "source": [
    "### 요청 시간 간격 탐지 우회"
   ]
  },
  {
   "cell_type": "markdown",
   "id": "aa3f755a-c64a-4c5d-a078-02b7fc66df1f",
   "metadata": {},
   "source": [
    "##### 페이지 이동시간\n",
    "##### 클릭 시간\n",
    "##### 글자 입력 시간\n",
    "##### 스크롤 이동거리, 시간\n",
    "##### 위 모두 랜덤하게 처리"
   ]
  },
  {
   "cell_type": "code",
   "execution_count": null,
   "id": "cbd094f7-71a0-4916-994f-7382ce0552df",
   "metadata": {},
   "outputs": [],
   "source": []
  }
 ],
 "metadata": {
  "kernelspec": {
   "display_name": "crawling",
   "language": "python",
   "name": "crawling"
  },
  "language_info": {
   "codemirror_mode": {
    "name": "ipython",
    "version": 3
   },
   "file_extension": ".py",
   "mimetype": "text/x-python",
   "name": "python",
   "nbconvert_exporter": "python",
   "pygments_lexer": "ipython3",
   "version": "3.12.9"
  }
 },
 "nbformat": 4,
 "nbformat_minor": 5
}
